{
 "cells": [
  {
   "cell_type": "code",
   "execution_count": 1,
   "metadata": {
    "collapsed": true,
    "pycharm": {
     "is_executing": false
    }
   },
   "outputs": [
    {
     "name": "stderr",
     "text": [
      "/Users/danfeixu/py36/lib/python3.6/site-packages/h5py/__init__.py:36: FutureWarning: Conversion of the second argument of issubdtype from `float` to `np.floating` is deprecated. In future, it will be treated as `np.float64 == np.dtype(float).type`.\n  from ._conv import register_converters as _register_converters\nINFO:root:Importing iGibson (gibson2 module)\n",
      "INFO:root:Assets path: /Users/danfeixu/workspace/igibson/gibson2/assets\n",
      "INFO:root:Dataset path: /Users/danfeixu/workspace/igibson/gibson2/dataset\n"
     ],
     "output_type": "stream"
    }
   ],
   "source": [
    "import h5py\n",
    "import json\n",
    "import numpy as np\n",
    "from gibson2.envs.kitchen.envs import env_factory\n",
    "import matplotlib.pyplot as plt\n",
    "import cv2\n",
    "import io\n",
    "\n"
   ]
  },
  {
   "cell_type": "code",
   "execution_count": 3,
   "outputs": [],
   "source": [
    "h5_path = '/Users/danfeixu/workspace/igibson/'\n",
    "f = h5py.File(h5_path, 'r')\n",
    "env_args = json.loads(f[\"data\"].attrs[\"env_args\"])\n"
   ],
   "metadata": {
    "collapsed": false,
    "pycharm": {
     "name": "#%%\n",
     "is_executing": false
    }
   }
  },
  {
   "cell_type": "code",
   "execution_count": 4,
   "outputs": [],
   "source": [
    "env = env_factory(env_args[\"env_name\"], **env_args[\"env_kwargs\"], use_gui=False)\n"
   ],
   "metadata": {
    "collapsed": false,
    "pycharm": {
     "name": "#%%\n",
     "is_executing": false
    }
   }
  },
  {
   "cell_type": "code",
   "execution_count": 5,
   "outputs": [],
   "source": [
    "def get_mug_faucet(env, task_spec, state_place, state_grasp):\n",
    "    env.reset()\n",
    "    env.set_goal(task_specs=task_spec)\n",
    "    env.reset_to(state_place)\n",
    "    mug_pos = np.array(env.objects[\"mug\"].get_position()) - np.array(env.objects[\"faucet_milk\"].get_position())\n",
    "    env.reset_to(state_grasp)\n",
    "    success = env.is_success_subtasks()[\"fill_mug\"]\n",
    "    return mug_pos, success\n",
    "\n",
    "def get_img_from_fig(fig, dpi=180):\n",
    "    buf = io.BytesIO()\n",
    "    fig.savefig(buf, format=\"png\", dpi=dpi)\n",
    "    buf.seek(0)\n",
    "    img_arr = np.frombuffer(buf.getvalue(), dtype=np.uint8)\n",
    "    buf.close()\n",
    "    img = cv2.imdecode(img_arr, 1)\n",
    "    img = cv2.cvtColor(img, cv2.COLOR_BGR2RGB)\n",
    "\n",
    "    return img\n"
   ],
   "metadata": {
    "collapsed": false,
    "pycharm": {
     "name": "#%%\n",
     "is_executing": false
    }
   }
  },
  {
   "cell_type": "code",
   "execution_count": 6,
   "outputs": [],
   "source": [
    "demos = list(f[\"data\"].keys())\n",
    "mug_fill_success = []\n",
    "mug_pos = []\n",
    "for demo_id in demos:\n",
    "    # demo_id = \"demo_0\"\n",
    "    task_spec = f[\"data/{}/task_specs\".format(demo_id)][0]\n",
    "    states = f[\"data/{}/states\".format(demo_id)]\n",
    "\n",
    "    mask = f[\"data/{}/skill_begin\".format(demo_id)][:].astype(np.bool)\n",
    "    mask[-1] = True\n",
    "    mask_inds = np.where(mask)[0]\n",
    "    pos, success = get_mug_faucet(\n",
    "        env,\n",
    "        task_spec=task_spec,\n",
    "        state_place=states[mask_inds[2]],\n",
    "        state_grasp=states[mask_inds[3]]\n",
    "    )\n",
    "    mug_pos.append(pos)\n",
    "    mug_fill_success.append(success)\n",
    "\n",
    "mug_pos = np.array(mug_pos)\n",
    "mug_fill_success = np.array(mug_fill_success)"
   ],
   "metadata": {
    "collapsed": false,
    "pycharm": {
     "name": "#%%\n",
     "is_executing": false
    }
   }
  },
  {
   "cell_type": "code",
   "execution_count": 9,
   "outputs": [
    {
     "traceback": [
      "\u001b[0;31m---------------------------------------------------------------------------\u001b[0m",
      "\u001b[0;31mTypeError\u001b[0m                                 Traceback (most recent call last)",
      "\u001b[0;32m<ipython-input-9-dbeb442fb5f0>\u001b[0m in \u001b[0;36m<module>\u001b[0;34m()\u001b[0m\n\u001b[1;32m      8\u001b[0m \u001b[0max\u001b[0m\u001b[0;34m.\u001b[0m\u001b[0mset_ylim\u001b[0m\u001b[0;34m(\u001b[0m\u001b[0;34m[\u001b[0m\u001b[0;34m-\u001b[0m\u001b[0;36m0.07\u001b[0m\u001b[0;34m,\u001b[0m \u001b[0;36m0.07\u001b[0m\u001b[0;34m]\u001b[0m\u001b[0;34m)\u001b[0m\u001b[0;34m\u001b[0m\u001b[0;34m\u001b[0m\u001b[0m\n\u001b[1;32m      9\u001b[0m \u001b[0max\u001b[0m\u001b[0;34m.\u001b[0m\u001b[0mtext\u001b[0m\u001b[0;34m(\u001b[0m\u001b[0;34m-\u001b[0m\u001b[0;36m0.05\u001b[0m\u001b[0;34m,\u001b[0m \u001b[0;36m0.06\u001b[0m\u001b[0;34m,\u001b[0m \u001b[0;34m\"325\"\u001b[0m\u001b[0;34m)\u001b[0m\u001b[0;34m\u001b[0m\u001b[0;34m\u001b[0m\u001b[0m\n\u001b[0;32m---> 10\u001b[0;31m \u001b[0mfig\u001b[0m\u001b[0;34m.\u001b[0m\u001b[0mdraw\u001b[0m\u001b[0;34m(\u001b[0m\u001b[0;34m)\u001b[0m\u001b[0;34m\u001b[0m\u001b[0;34m\u001b[0m\u001b[0m\n\u001b[0m\u001b[1;32m     11\u001b[0m \u001b[0;34m\u001b[0m\u001b[0m\n\u001b[1;32m     12\u001b[0m \u001b[0;31m# arr = get_img_from_fig(fig, dpi=80)\u001b[0m\u001b[0;34m\u001b[0m\u001b[0;34m\u001b[0m\u001b[0;34m\u001b[0m\u001b[0m\n",
      "\u001b[0;31mTypeError\u001b[0m: draw_wrapper() missing 1 required positional argument: 'renderer'"
     ],
     "ename": "TypeError",
     "evalue": "draw_wrapper() missing 1 required positional argument: 'renderer'",
     "output_type": "error"
    },
    {
     "data": {
      "text/plain": "<Figure size 432x288 with 1 Axes>",
      "image/png": "[encoded data removed]"
     },
     "metadata": {
      "needs_background": "light"
     },
     "output_type": "display_data"
    }
   ],
   "source": [
    "colors = {True: [0, 0, 1], False: [1, 0, 0]}\n",
    "success_colors = np.array([colors[c] for c in mug_fill_success])\n",
    "fig = plt.figure()\n",
    "ax = fig.add_subplot(111)\n",
    "ax.scatter(mug_pos[:, 1], mug_pos[:, 0], c=success_colors)\n",
    "ax.scatter([0, 0.15], [0, 0], s=[200, 200], c='grey')\n",
    "ax.set_xlim([-0.075, 0.25])\n",
    "ax.set_ylim([-0.07, 0.07])\n",
    "ax.text(-0.05, 0.06, \"325\")\n",
    "fig.draw()\n",
    "\n",
    "# arr = get_img_from_fig(fig, dpi=80)\n",
    "# fig.canvas.draw()\n",
    "# arr = np.fromstring(fig.canvas.tostring_rgb(), dtype=np.uint8, sep='')\n",
    "# arr = arr.reshape(fig.canvas.get_width_height()[::-1] + (3,))"
   ],
   "metadata": {
    "collapsed": false,
    "pycharm": {
     "name": "#%%\n",
     "is_executing": false
    }
   }
  },
  {
   "cell_type": "code",
   "execution_count": 34,
   "outputs": [
    {
     "data": {
      "text/plain": "<matplotlib.image.AxesImage at 0x139e7b240>"
     },
     "metadata": {},
     "output_type": "execute_result",
     "execution_count": 34
    },
    {
     "data": {
      "text/plain": "<Figure size 432x288 with 1 Axes>",
      "image/png": "[encoded data removed]"
     },
     "metadata": {
      "needs_background": "light"
     },
     "output_type": "display_data"
    }
   ],
   "source": [
    "# plt.imshow(arr)"
   ],
   "metadata": {
    "collapsed": false,
    "pycharm": {
     "name": "#%%\n",
     "is_executing": false
    }
   }
  }
 ],
 "metadata": {
  "language_info": {
   "codemirror_mode": {
    "name": "ipython",
    "version": 2
   },
   "file_extension": ".py",
   "mimetype": "text/x-python",
   "name": "python",
   "nbconvert_exporter": "python",
   "pygments_lexer": "ipython2",
   "version": "2.7.6"
  },
  "kernelspec": {
   "name": "python3",
   "language": "python",
   "display_name": "Python 3"
  },
  "pycharm": {
   "stem_cell": {
    "cell_type": "raw",
    "source": [],
    "metadata": {
     "collapsed": false
    }
   }
  }
 },
 "nbformat": 4,
 "nbformat_minor": 0
}