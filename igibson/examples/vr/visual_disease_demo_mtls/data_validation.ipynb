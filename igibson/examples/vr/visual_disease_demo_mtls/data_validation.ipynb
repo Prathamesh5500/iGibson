{
 "cells": [
  {
   "cell_type": "code",
   "execution_count": null,
   "metadata": {},
   "outputs": [],
   "source": [
    "import os\n",
    "import numpy as np\n",
    "import glob\n",
    "import json\n",
    "import h5py\n",
    "import csv\n",
    "from igibson.utils.vi_log_util import VIDataLib\n",
    "from itertools import product\n",
    "import matplotlib.pyplot as plt "
   ]
  },
  {
   "cell_type": "code",
   "execution_count": null,
   "metadata": {},
   "outputs": [],
   "source": [
    "data_path = \"c:/Users/capri28/Documents/ig2/igibson/data/vi_data\"\n",
    "vis = [f\"{i}_{j}\" for i in [\"cataract\", \"amd\", \"glaucoma\", \"presbyopia\", \"myopia\"] for j in [1, 2, 3]] + [\"normal_1\"]\n",
    "tasks = [\"catch\", \"navigate\", \"place\", \"slice\", \"throw\", \"wipe\"]\n",
    "ids = range(1, 11)\n",
    "save_json = True\n",
    "\n",
    "logfiles = {}\n",
    "for task in tasks:\n",
    "    for vi in vis:\n",
    "        logfiles[f\"{task}_{vi}\"] = {}\n",
    "        for id in ids:\n",
    "            logfiles[f\"{task}_{vi}\"][id] = {}\n",
    "            for i, path in enumerate(glob.glob(rf\"{data_path}/demo/{id}/{task}/{vi}/*/*.hdf5\")):\n",
    "                logfiles[f\"{task}_{vi}\"][id][i] = path"
   ]
  },
  {
   "cell_type": "code",
   "execution_count": null,
   "metadata": {},
   "outputs": [],
   "source": [
    "vi_data = VIDataLib(logfiles)\n",
    "\n",
    "total_experiment_time = 0\n",
    "for hf1 in vi_data.hfs.values():\n",
    "    for hf2 in hf1.values():\n",
    "        for hf3 in hf2.values():\n",
    "            total_experiment_time += hf3.attrs[\"/metadata/task_completion_time\"]\n",
    "print(total_experiment_time / 60)"
   ]
  },
  {
   "attachments": {},
   "cell_type": "markdown",
   "metadata": {},
   "source": [
    "## Eye tracking data"
   ]
  },
  {
   "attachments": {},
   "cell_type": "markdown",
   "metadata": {},
   "source": [
    "### Total gaze movement"
   ]
  },
  {
   "cell_type": "code",
   "execution_count": null,
   "metadata": {},
   "outputs": [],
   "source": [
    "eye_data = vi_data.get_gaze_movement()"
   ]
  },
  {
   "cell_type": "code",
   "execution_count": null,
   "metadata": {},
   "outputs": [],
   "source": [
    "if save_json:\n",
    "    with open(rf\"{data_path}/json/dv2/total_gaze_movement.json\", \"w\") as f:\n",
    "        json.dump(eye_data, f)\n",
    "avg_eye_data = {task: {} for task in tasks}\n",
    "for task in tasks:\n",
    "    for vi in vis:\n",
    "        avg_eye_data[task][vi] = []\n",
    "        for id in ids:\n",
    "            avg_eye_data[task][vi].append(np.mean(list(eye_data[f\"{task}_{vi}\"][id].values())))\n",
    "        avg_eye_data[task][vi] = np.mean(avg_eye_data[task][vi])\n",
    "    vi_data.bar_plot(data=list(avg_eye_data[task].values()), tick_label=vis, title=f\"[{task}] screen position movement of gaze\", ylabel=\"screen pos distance\")"
   ]
  },
  {
   "attachments": {},
   "cell_type": "markdown",
   "metadata": {},
   "source": [
    "### Pupil dilation"
   ]
  },
  {
   "cell_type": "code",
   "execution_count": null,
   "metadata": {},
   "outputs": [],
   "source": [
    "pupil_diameter = vi_data.get_pupil_dilation()"
   ]
  },
  {
   "cell_type": "code",
   "execution_count": null,
   "metadata": {},
   "outputs": [],
   "source": [
    "if save_json:\n",
    "    with open(rf\"{data_path}/json/dv2/mean_pupil_dilation.json\", \"w\") as f:\n",
    "        json.dump(pupil_diameter, f)\n",
    "avg_pupil_data = {task: {} for task in tasks}\n",
    "for task in tasks:\n",
    "    for vi in vis:\n",
    "        avg_pupil_data[task][vi] = []\n",
    "        for id in ids:\n",
    "            avg_pupil_data[task][vi].append(np.mean(list(pupil_diameter[f\"{task}_{vi}\"][id].values())))\n",
    "        avg_pupil_data[task][vi] = np.mean(avg_pupil_data[task][vi])\n",
    "    vi_data.bar_plot(data=list(avg_pupil_data[task].values()), tick_label=vis, title=f\"[{task}]  mean pupil dilation\", ylabel=\"diameter scale (%)\")"
   ]
  },
  {
   "attachments": {},
   "cell_type": "markdown",
   "metadata": {},
   "source": [
    "### Fixation extraction"
   ]
  },
  {
   "cell_type": "code",
   "execution_count": null,
   "metadata": {},
   "outputs": [],
   "source": [
    "fixation_data = vi_data.get_fixation(threshold=6, smooth_coordinates=True, smooth_saccades=True)"
   ]
  },
  {
   "cell_type": "code",
   "execution_count": null,
   "metadata": {},
   "outputs": [],
   "source": [
    "# Total fixation count\n",
    "if save_json:\n",
    "    with open(rf\"{data_path}/json/dv2/total_fixation_count.json\", \"w\") as f:\n",
    "        json.dump(fixation_data[\"fixation_count\"], f)\n",
    "avg_fixation_count = {task: {} for task in tasks}\n",
    "for task in tasks:\n",
    "    for vi in vis:\n",
    "        avg_fixation_count[task][vi] = []\n",
    "        for id in ids:\n",
    "            avg_fixation_count[task][vi].append(np.mean(list(fixation_data[\"fixation_count\"][f\"{task}_{vi}\"][id].values())))\n",
    "        avg_fixation_count[task][vi] = np.mean(avg_fixation_count[task][vi])\n",
    "    vi_data.bar_plot(data=list(avg_fixation_count[task].values()), tick_label=vis, title=f\"[{task}] Total fixation count\", ylabel=\"# of fixations\")"
   ]
  },
  {
   "cell_type": "code",
   "execution_count": null,
   "metadata": {},
   "outputs": [],
   "source": [
    "# Total fixation duration\n",
    "if save_json:\n",
    "    with open(rf\"{data_path}/json/dv2/total_fixation_duration.json\", \"w\") as f:\n",
    "        json.dump(fixation_data[\"fixation_duration\"], f)\n",
    "avg_fixation_dur = {task: {} for task in tasks}\n",
    "for task in tasks:\n",
    "    for vi in vis:\n",
    "        avg_fixation_dur[task][vi] = []\n",
    "        for id in ids:\n",
    "            avg_fixation_dur[task][vi].append(np.mean(list(fixation_data[\"fixation_duration\"][f\"{task}_{vi}\"][id].values())))\n",
    "        avg_fixation_dur[task][vi] = np.mean(avg_fixation_dur[task][vi])\n",
    "    vi_data.bar_plot(data=list(avg_fixation_dur[task].values()), tick_label=vis, title=f\"[{task}] Total fixation duration\", ylabel=\"time(s)\")"
   ]
  },
  {
   "cell_type": "code",
   "execution_count": null,
   "metadata": {},
   "outputs": [],
   "source": [
    "# Plotting sample fixations\n",
    "# %matplotlib ipympl\n",
    "# id = 6\n",
    "# original_pos = np.array(vi_data.hfs[\"catch_normal_1\"][id][0][\"vr/vr_eye_tracking_data\"])[:, 7:9]\n",
    "# fixation_pos = np.zeros((len(original_pos), 2))\n",
    "# for i in range(fixation_data[\"fixation_count\"][\"catch_normal_1\"][id][0]):\n",
    "#     s, e = fixation_data[\"fixation_start\"][\"catch_normal_1\"][id][0][i], fixation_data[\"fixation_end\"][\"catch_normal_1\"][id][0][i]\n",
    "#     x, y = fixation_data[\"fixation_x\"][\"catch_normal_1\"][id][0][i], fixation_data[\"fixation_y\"][\"catch_normal_1\"][id][0][i]\n",
    "#     fixation_pos[s:e] = [x, y]\n",
    "# vi_data.plot_fixation(original_pos, fixation_pos)"
   ]
  },
  {
   "attachments": {},
   "cell_type": "markdown",
   "metadata": {},
   "source": [
    "## Task completion time"
   ]
  },
  {
   "cell_type": "code",
   "execution_count": null,
   "metadata": {},
   "outputs": [],
   "source": [
    "completion_time = vi_data.get_attr('/metadata/task_completion_time')\n",
    "if save_json:\n",
    "    with open(f\"{data_path}/json/dv1/task_completion_time.json\", \"w\") as f:\n",
    "        json.dump(completion_time, f)\n",
    "        \n",
    "avg_completion_time = {task: {} for task in tasks}\n",
    "for task in tasks:\n",
    "    for vi in vis:\n",
    "        avg_completion_time[task][vi] = []\n",
    "        for id in ids:\n",
    "            avg_completion_time[task][vi].append(np.mean(list(completion_time[f\"{task}_{vi}\"][id].values())))\n",
    "        avg_completion_time[task][vi] = np.mean(avg_completion_time[task][vi])\n",
    "    vi_data.bar_plot(data=list(avg_completion_time[task].values()), tick_label=vis, title=f\"[{task}] task completion time\", ylabel=\"time (s)\")"
   ]
  },
  {
   "attachments": {},
   "cell_type": "markdown",
   "metadata": {},
   "source": [
    "## Tracker Movements"
   ]
  },
  {
   "attachments": {},
   "cell_type": "markdown",
   "metadata": {},
   "source": [
    "### Head Movements"
   ]
  },
  {
   "cell_type": "code",
   "execution_count": null,
   "metadata": {},
   "outputs": [],
   "source": [
    "hmd_translation_data = vi_data.get_device_translation(device=\"hmd\", method=np.sum)\n",
    "hmd_rotation_data = vi_data.get_device_rotation(device=\"hmd\", method=np.sum)\n",
    "\n",
    "if save_json:\n",
    "    with open(f\"{data_path}/json/dv2/total_hmd_translation.json\", \"w\") as f:\n",
    "        json.dump(hmd_translation_data, f)\n",
    "    with open(f\"{data_path}/json/dv2/total_hmd_rotation.json\", \"w\") as f:\n",
    "        json.dump(hmd_rotation_data, f)"
   ]
  },
  {
   "cell_type": "code",
   "execution_count": null,
   "metadata": {},
   "outputs": [],
   "source": [
    "avg_hmd_translation_data = {task: {} for task in tasks}\n",
    "for task in tasks:\n",
    "    for vi in vis:\n",
    "        avg_hmd_translation_data[task][vi] = []\n",
    "        for id in ids:\n",
    "            avg_hmd_translation_data[task][vi].append(np.mean(list(hmd_translation_data[f\"{task}_{vi}\"][id].values())))\n",
    "        avg_hmd_translation_data[task][vi] = np.mean(avg_hmd_translation_data[task][vi])\n",
    "    vi_data.bar_plot(data=list(avg_hmd_translation_data[task].values()), tick_label=vis, title=f\"[{task}] total HMD translation\", ylabel=\"distance (m)\")"
   ]
  },
  {
   "cell_type": "code",
   "execution_count": null,
   "metadata": {},
   "outputs": [],
   "source": [
    "avg_hmd_rotation_data = {task: {} for task in tasks}\n",
    "for task in tasks:\n",
    "    for vi in vis:\n",
    "        avg_hmd_rotation_data[task][vi] = []\n",
    "        for id in ids:\n",
    "            avg_hmd_rotation_data[task][vi].append(np.mean(list(hmd_rotation_data[f\"{task}_{vi}\"][id].values())))\n",
    "        avg_hmd_rotation_data[task][vi] = np.mean(avg_hmd_rotation_data[task][vi])\n",
    "    vi_data.bar_plot(data=list(avg_hmd_rotation_data[task].values()), tick_label=vis, title=f\"[{task}] total HMD rotation\", ylabel=\"rotation (rad)\")"
   ]
  },
  {
   "attachments": {},
   "cell_type": "markdown",
   "metadata": {},
   "source": [
    "### Body Movements"
   ]
  },
  {
   "cell_type": "code",
   "execution_count": null,
   "metadata": {},
   "outputs": [],
   "source": [
    "body_translation_data = vi_data.get_device_translation(device=\"torso_tracker\", method=np.sum)\n",
    "body_rotation_data = vi_data.get_device_rotation(device=\"torso_tracker\", method=np.sum)\n",
    "\n",
    "if save_json:\n",
    "    with open(f\"{data_path}/json/dv2/total_body_translation.json\", \"w\") as f:\n",
    "        json.dump(body_translation_data, f)\n",
    "    with open(f\"{data_path}/json/dv2/total_body_rotation.json\", \"w\") as f:\n",
    "        json.dump(body_rotation_data, f)"
   ]
  },
  {
   "cell_type": "code",
   "execution_count": null,
   "metadata": {},
   "outputs": [],
   "source": [
    "avg_body_translation_data = {task: {} for task in tasks}\n",
    "for task in tasks:\n",
    "    for vi in vis:\n",
    "        avg_body_translation_data[task][vi] = []\n",
    "        for id in ids:\n",
    "            avg_body_translation_data[task][vi].append(np.mean(list(body_translation_data[f\"{task}_{vi}\"][id].values())))\n",
    "        avg_body_translation_data[task][vi] = np.mean(avg_body_translation_data[task][vi])\n",
    "    vi_data.bar_plot(data=list(avg_body_translation_data[task].values()), tick_label=vis, title=f\"[{task}] total body translation\", ylabel=\"distance (m)\")"
   ]
  },
  {
   "cell_type": "code",
   "execution_count": null,
   "metadata": {},
   "outputs": [],
   "source": [
    "avg_body_rotation_data = {task: {} for task in tasks}\n",
    "for task in tasks:\n",
    "    for vi in vis:\n",
    "        avg_body_rotation_data[task][vi] = []\n",
    "        for id in ids:\n",
    "            avg_body_rotation_data[task][vi].append(np.mean(list(body_rotation_data[f\"{task}_{vi}\"][id].values())))\n",
    "        avg_body_rotation_data[task][vi] = np.mean(avg_body_rotation_data[task][vi])\n",
    "    vi_data.bar_plot(data=list(avg_body_rotation_data[task].values()), tick_label=vis, title=f\"[{task}] total body rotation\", ylabel=\"rotation (rad)\")"
   ]
  },
  {
   "attachments": {},
   "cell_type": "markdown",
   "metadata": {},
   "source": [
    "### Left Hand Movements"
   ]
  },
  {
   "cell_type": "code",
   "execution_count": null,
   "metadata": {},
   "outputs": [],
   "source": [
    "lh_translation_data = vi_data.get_device_translation(device=\"left_controller\", method=np.sum)\n",
    "lh_rotation_data = vi_data.get_device_rotation(device=\"left_controller\", method=np.sum)\n",
    "\n",
    "if save_json:\n",
    "    with open(f\"{data_path}/json/dv2/total_left_hand_translation.json\", \"w\") as f:\n",
    "        json.dump(lh_translation_data, f)\n",
    "    with open(f\"{data_path}/json/dv2/total_left_hand_rotation.json\", \"w\") as f:\n",
    "        json.dump(lh_rotation_data, f)"
   ]
  },
  {
   "cell_type": "code",
   "execution_count": null,
   "metadata": {},
   "outputs": [],
   "source": [
    "avg_lh_translation_data = {task: {} for task in tasks}\n",
    "for task in tasks:\n",
    "    for vi in vis:\n",
    "        avg_lh_translation_data[task][vi] = []\n",
    "        for id in ids:\n",
    "            avg_lh_translation_data[task][vi].append(np.mean(list(lh_translation_data[f\"{task}_{vi}\"][id].values())))\n",
    "        avg_lh_translation_data[task][vi] = np.mean(avg_lh_translation_data[task][vi])\n",
    "    vi_data.bar_plot(data=list(avg_lh_translation_data[task].values()), tick_label=vis, title=f\"[{task}] total left hand translation\", ylabel=\"distance (m)\")"
   ]
  },
  {
   "cell_type": "code",
   "execution_count": null,
   "metadata": {},
   "outputs": [],
   "source": [
    "avg_lh_rotation_data = {task: {} for task in tasks}\n",
    "for task in tasks:\n",
    "    for vi in vis:\n",
    "        avg_lh_rotation_data[task][vi] = []\n",
    "        for id in ids:\n",
    "            avg_lh_rotation_data[task][vi].append(np.mean(list(lh_rotation_data[f\"{task}_{vi}\"][id].values())))\n",
    "        avg_lh_rotation_data[task][vi] = np.mean(avg_lh_rotation_data[task][vi])\n",
    "    vi_data.bar_plot(data=list(avg_lh_rotation_data[task].values()), tick_label=vis, title=f\"[{task}] total left hand rotation\", ylabel=\"rotation (rad)\")"
   ]
  },
  {
   "attachments": {},
   "cell_type": "markdown",
   "metadata": {},
   "source": [
    "### Right Hand Movements"
   ]
  },
  {
   "cell_type": "code",
   "execution_count": null,
   "metadata": {},
   "outputs": [],
   "source": [
    "rh_translation_data = vi_data.get_device_translation(device=\"right_controller\", method=np.sum)\n",
    "rh_rotation_data = vi_data.get_device_rotation(device=\"right_controller\", method=np.sum)\n",
    "\n",
    "if save_json:\n",
    "    with open(f\"{data_path}/json/dv2/total_right_hand_translation.json\", \"w\") as f:\n",
    "        json.dump(rh_translation_data, f)\n",
    "    with open(f\"{data_path}/json/dv2/total_right_hand_rotation.json\", \"w\") as f:\n",
    "        json.dump(rh_rotation_data, f)"
   ]
  },
  {
   "cell_type": "code",
   "execution_count": null,
   "metadata": {},
   "outputs": [],
   "source": [
    "avg_rh_translation_data = {task: {} for task in tasks}\n",
    "for task in tasks:\n",
    "    for vi in vis:\n",
    "        avg_rh_translation_data[task][vi] = []\n",
    "        for id in ids:\n",
    "            avg_rh_translation_data[task][vi].append(np.mean(list(rh_translation_data[f\"{task}_{vi}\"][id].values())))\n",
    "        avg_rh_translation_data[task][vi] = np.mean(avg_rh_translation_data[task][vi])\n",
    "    vi_data.bar_plot(data=list(avg_rh_translation_data[task].values()), tick_label=vis, title=f\"[{task}] total right hand translation\", ylabel=\"distance (m)\")"
   ]
  },
  {
   "cell_type": "code",
   "execution_count": null,
   "metadata": {},
   "outputs": [],
   "source": [
    "avg_rh_rotation_data = {task: {} for task in tasks}\n",
    "for task in tasks:\n",
    "    for vi in vis:\n",
    "        avg_rh_rotation_data[task][vi] = []\n",
    "        for id in ids:\n",
    "            avg_rh_rotation_data[task][vi].append(np.mean(list(rh_rotation_data[f\"{task}_{vi}\"][id].values())))\n",
    "        avg_rh_rotation_data[task][vi] = np.mean(avg_rh_rotation_data[task][vi])\n",
    "    vi_data.bar_plot(data=list(avg_rh_rotation_data[task].values()), tick_label=vis, title=f\"[{task}] total right hand rotation\", ylabel=\"rotation (rad)\")"
   ]
  },
  {
   "attachments": {},
   "cell_type": "markdown",
   "metadata": {},
   "source": [
    "## Others"
   ]
  },
  {
   "attachments": {},
   "cell_type": "markdown",
   "metadata": {},
   "source": [
    "### Failure Rate (FR) for catch and throw"
   ]
  },
  {
   "cell_type": "code",
   "execution_count": null,
   "metadata": {},
   "outputs": [],
   "source": [
    "fr = vi_data.get_attr(key=\"/metadata/success\", cond_id=[f\"{task}_{vi}\" for task, vi in product([\"catch\", \"throw\"], vis)])\n",
    "\n",
    "# catch\n",
    "fr_catch = {vi: {} for vi in vis}\n",
    "for vi in vis:\n",
    "    for id in ids:\n",
    "        fr_catch[vi][id] = np.round(1 - np.mean(list(fr[f\"catch_{vi}\"][id].values())), decimals=2)\n",
    "\n",
    "# throw\n",
    "fr_throw = {vi: {} for vi in vis}\n",
    "for vi in vis:\n",
    "    for id in ids:\n",
    "        fr_throw[vi][id] = np.round(1 - np.mean(list(fr[f\"throw_{vi}\"][id].values())), decimals=2)\n",
    "\n",
    "if save_json:\n",
    "    with open(f\"{data_path}/json/dv1/catch_failure_rate.json\", \"w\") as f:\n",
    "        json.dump(fr_catch, f)\n",
    "    with open(f\"{data_path}/json/dv1/throw_failure_rate.json\", \"w\") as f:\n",
    "        json.dump(fr_throw, f)"
   ]
  },
  {
   "cell_type": "code",
   "execution_count": null,
   "metadata": {},
   "outputs": [],
   "source": [
    "vi_data.bar_plot(data=np.array([np.mean(list(fr_catch[cond].values())) for cond in fr_catch.keys()])*100, tick_label=vis, title=\"[catch] failure rate (FR)\", ylabel=\"FR (%)\")\n",
    "vi_data.bar_plot(data=np.array([np.mean(list(fr_throw[cond].values())) for cond in fr_throw.keys()])*100, tick_label=vis, title=\"[throw] failure rate (FR)\", ylabel=\"FR (%)\")"
   ]
  },
  {
   "attachments": {},
   "cell_type": "markdown",
   "metadata": {},
   "source": [
    "### Distance between ball and target"
   ]
  },
  {
   "cell_type": "code",
   "execution_count": null,
   "metadata": {},
   "outputs": [],
   "source": [
    "# Catch\n",
    "distance_precision_catch = vi_data.get_catch_distance_precision()\n",
    "\n",
    "if save_json:\n",
    "    with open(f\"{data_path}/json/dv1/catch_distance_from_ball_to_target.json\", \"w\") as f:\n",
    "        json.dump(distance_precision_catch, f)\n",
    "\n",
    "avg_distance_catch = {}\n",
    "for vi in vis:\n",
    "    avg_distance_catch[vi] = []\n",
    "    for id in ids:\n",
    "        avg_distance_catch[vi].append(np.mean(list(distance_precision_catch[f\"catch_{vi}\"][id].values())))\n",
    "    avg_distance_catch[vi] = np.mean(avg_distance_catch[vi])\n",
    "vi_data.bar_plot(data=avg_distance_catch.values(), tick_label=vis, title=f\"[catch] smallest distance between ball and right hand\", ylabel=\"distance(m)\")"
   ]
  },
  {
   "cell_type": "code",
   "execution_count": null,
   "metadata": {},
   "outputs": [],
   "source": [
    "# Throw\n",
    "distance_precision_throw = vi_data.get_throw_distance_precision()\n",
    "\n",
    "if save_json:\n",
    "    with open(f\"{data_path}/json/dv1/throw_distance_from_ball_to_target.json\", \"w\") as f:\n",
    "        json.dump(distance_precision_throw, f)\n",
    "\n",
    "avg_distance_throw = {}\n",
    "for vi in vis:\n",
    "    avg_distance_throw[vi] = []\n",
    "    for id in ids:\n",
    "        avg_distance_throw[vi].append(np.mean(list(distance_precision_throw[f\"throw_{vi}\"][id].values())))\n",
    "    avg_distance_throw[vi] = np.mean(avg_distance_throw[vi])\n",
    "vi_data.bar_plot(data=avg_distance_throw.values(), tick_label=vis, title=f\"[throw] smallest distance between ball and basket\", ylabel=\"distance(m)\")"
   ]
  },
  {
   "attachments": {},
   "cell_type": "markdown",
   "metadata": {},
   "source": [
    "### Total movement of all objects of place"
   ]
  },
  {
   "cell_type": "code",
   "execution_count": null,
   "metadata": {},
   "outputs": [],
   "source": [
    "# from analysis, the object id of baskets and cubes are 13-20\n",
    "total_obj_movements = vi_data.get_object_translation(object_id=range(13, 21), cond_id=[f\"place_{vi}\" for vi in vis], method=np.sum)\n",
    "avg_obj_movement = {}\n",
    "for vi in vis:\n",
    "    avg_obj_movement[vi] = []\n",
    "    for id in ids:\n",
    "        avg_obj_movement[vi].append(np.mean(list(total_obj_movements[f\"place_{vi}\"][id].values())))  \n",
    "    avg_obj_movement[vi] = np.mean(avg_obj_movement[vi]) \n",
    "vi_data.bar_plot(data=np.array(list(avg_obj_movement.values()))*100, tick_label=vis, title=f\"[place] total movement of task-relevant objects\", ylabel=\"distance(m)\")"
   ]
  },
  {
   "attachments": {},
   "cell_type": "markdown",
   "metadata": {},
   "source": [
    "### collisions for navigate and wipe"
   ]
  },
  {
   "cell_type": "code",
   "execution_count": null,
   "metadata": {},
   "outputs": [],
   "source": [
    "collision_time = vi_data.get_data(key=\"/vr/vr_event_data/collisions\", cond_id=[f\"navigate_{vi}\" for vi in vis] + [f\"wipe_{vi}\" for vi in vis], method=lambda x: np.sum(np.any(x, axis=1)))\n",
    "for cond in collision_time:\n",
    "    for id in collision_time[cond]:\n",
    "        for trial in collision_time[cond][id]:\n",
    "            collision_time[cond][id][trial]  /= vi_data.fps[cond][id][trial]\n",
    "            \n",
    "if save_json:\n",
    "    with open(f\"{data_path}/json/dv1/total_collision_time.json\", \"w\") as f:\n",
    "        json.dump(collision_time, f)\n",
    "\n",
    "avg_collision_time = {}\n",
    "for task in [\"navigate\", \"wipe\"]:\n",
    "    for vi in vis:\n",
    "        avg_collision_time[vi] = []\n",
    "        for id in ids:\n",
    "            avg_collision_time[vi].append(np.mean(list(collision_time[f\"{task}_{vi}\"][id].values())))\n",
    "        avg_collision_time[vi] = np.mean(avg_collision_time[vi])\n",
    "    vi_data.bar_plot(data=list(avg_collision_time.values()), tick_label=vis, title=f\"[{task}] Total collision time\", ylabel=\"time (s)\")"
   ]
  },
  {
   "cell_type": "code",
   "execution_count": null,
   "metadata": {},
   "outputs": [],
   "source": [
    "collision_num = vi_data.get_data(key=\"/vr/vr_event_data/collisions\", cond_id=[f\"navigate_{vi}\" for vi in vis] + [f\"wipe_{vi}\" for vi in vis], method=lambda x: int(np.cumsum(np.insert(np.diff(np.any(x, axis=1)), 0, 0))[-1]))\n",
    "            \n",
    "if save_json:\n",
    "    with open(f\"{data_path}/json/dv1/num_collisions.json\", \"w\") as f:\n",
    "        json.dump(collision_num, f)\n",
    "\n",
    "avg_collision_num = {}\n",
    "for task in [\"navigate\", \"wipe\"]:\n",
    "    for vi in vis:\n",
    "        avg_collision_num[vi] = []\n",
    "        for id in ids:\n",
    "            avg_collision_num[vi].append(np.mean(list(collision_num[f\"{task}_{vi}\"][id].values())))\n",
    "        avg_collision_num[vi] = np.mean(avg_collision_num[vi])\n",
    "    vi_data.bar_plot(data=list(avg_collision_num.values()), tick_label=vis, title=f\"[{task}] Total collision number\", ylabel=\"number\")"
   ]
  },
  {
   "cell_type": "code",
   "execution_count": null,
   "metadata": {},
   "outputs": [],
   "source": [
    "completion_time = vi_data.get_attr('/metadata/task_completion_time')   \n",
    "collision_freq = {}\n",
    "for task in [\"navigate\", \"wipe\"]:\n",
    "    for vi in vis:\n",
    "        collision_freq[f\"{task}_{vi}\"] = {}\n",
    "        for id in ids:\n",
    "            collision_freq[f\"{task}_{vi}\"][id] = {}\n",
    "            for trial in collision_num[f\"{task}_{vi}\"][id]:\n",
    "                collision_freq[f\"{task}_{vi}\"][id][trial] = collision_num[f\"{task}_{vi}\"][id][trial] / completion_time[f\"{task}_{vi}\"][id][trial]\n",
    "if save_json:\n",
    "    with open(f\"{data_path}/json/dv1/collision_freq.json\", \"w\") as f:\n",
    "        json.dump(collision_num, f)\n",
    "\n",
    "avg_collision_freq = {}\n",
    "for task in [\"navigate\", \"wipe\"]:\n",
    "    for vi in vis:\n",
    "        avg_collision_freq[vi] = []\n",
    "        for id in ids:\n",
    "            avg_collision_freq[vi].append(np.mean(list(collision_freq[f\"{task}_{vi}\"][id].values())))\n",
    "        avg_collision_freq[vi] = np.mean(avg_collision_freq[vi])\n",
    "    vi_data.bar_plot(data=list(avg_collision_freq.values()), tick_label=vis, title=f\"[{task}] Collision frequency\", ylabel=\"frequency (#/s)\")"
   ]
  },
  {
   "attachments": {},
   "cell_type": "markdown",
   "metadata": {},
   "source": [
    "### irrelavant objects movement and brushing time for wipe"
   ]
  },
  {
   "cell_type": "code",
   "execution_count": null,
   "metadata": {},
   "outputs": [],
   "source": [
    "brushing_time = vi_data.get_attr(key=\"/task_specific/total_brushing_time\", cond_id=[f\"wipe_{vi}\" for vi in vis])\n",
    "avg_brushing_time = {}\n",
    "for vi in vis:\n",
    "    avg_brushing_time[vi] = []\n",
    "    for id in ids:\n",
    "        avg_brushing_time[vi].append(np.mean(list(brushing_time[f\"wipe_{vi}\"][id].values())))\n",
    "    avg_brushing_time[vi] = np.mean(avg_brushing_time[vi])\n",
    "vi_data.bar_plot(data=list(avg_brushing_time.values()), tick_label=vis, title=\"[wipe] brushing time\", ylabel=\"time (s)\")"
   ]
  },
  {
   "cell_type": "code",
   "execution_count": null,
   "metadata": {},
   "outputs": [],
   "source": [
    "irre_movement = vi_data.get_data(key=\"/total_movement_of_irrelavant_objs\", cond_id=[f\"wipe_{vi}\" for vi in vis], method=lambda x:x[-1][0])\n",
    "if save_json:\n",
    "    with open(f\"{data_path}/json/dv1/wipe_total_irrevalant_objects_disarrangement.json\", \"w\") as f:\n",
    "        json.dump(irre_movement, f)\n",
    "avg_irre_movement = {}\n",
    "for vi in vis:\n",
    "    avg_irre_movement[vi] = []\n",
    "    for id in ids:\n",
    "        avg_irre_movement[vi].append(np.mean(list(irre_movement[f\"wipe_{vi}\"][id].values())))\n",
    "    avg_irre_movement[vi] = np.mean(avg_irre_movement[vi])\n",
    "vi_data.bar_plot(data=list(avg_irre_movement.values()), tick_label=vis, title=\"[wipe] total movement of task irrelavant object\", ylabel=\"distance (m)\")"
   ]
  },
  {
   "attachments": {},
   "cell_type": "markdown",
   "metadata": {},
   "source": [
    "## Real World Experiment"
   ]
  },
  {
   "cell_type": "code",
   "execution_count": null,
   "metadata": {},
   "outputs": [],
   "source": [
    "place_real_world_data = {\n",
    "    \"place_amd_1\": {\n",
    "        1: {\n",
    "            0: 21, \n",
    "            1: 12, \n",
    "            2: 14\n",
    "        },\n",
    "        2: {\n",
    "            0: 19, \n",
    "            1: 14, \n",
    "            2: 22\n",
    "        },\n",
    "        3: {\n",
    "            0: 10, \n",
    "            1: 9, \n",
    "            2: 15\n",
    "        },\n",
    "        4: {\n",
    "            0: 25, \n",
    "            1: 33, \n",
    "            2: 14,\n",
    "        },\n",
    "        5: {\n",
    "            0: 19, \n",
    "            1: 23, \n",
    "            2: 30\n",
    "        },\n",
    "        6: {\n",
    "            0: 22, \n",
    "            1: 21, \n",
    "            2: 12,\n",
    "        },\n",
    "        7: {\n",
    "            0: 28, \n",
    "            1: 15, \n",
    "            2: 45\n",
    "        },\n",
    "        8: {\n",
    "            0: 26, \n",
    "            1: 14, \n",
    "            2: 19,\n",
    "        },\n",
    "        9: {\n",
    "            0: 18, \n",
    "            1: 11, \n",
    "            2: 12\n",
    "        },\n",
    "        10: {\n",
    "            0: 13, \n",
    "            1: 25, \n",
    "            2: 26\n",
    "        },\n",
    "    },\n",
    "    \"place_amd_2\": {\n",
    "        1: {\n",
    "            0: 37, \n",
    "            1: 18, \n",
    "            2: 24\n",
    "        },\n",
    "        2: {\n",
    "            0: 18, \n",
    "            1: 16, \n",
    "            2: 27\n",
    "        },\n",
    "        3: {\n",
    "            0: 16, \n",
    "            1: 12, \n",
    "            2: 16\n",
    "        },\n",
    "        4: {\n",
    "            0: 39, \n",
    "            1: 16, \n",
    "            2: 32,\n",
    "        },\n",
    "        6: {\n",
    "            0: 17, \n",
    "            1: 17, \n",
    "            2: 17,\n",
    "        },\n",
    "        5: {\n",
    "            0: 79, \n",
    "            1: 43, \n",
    "            2: 90\n",
    "        },\n",
    "        7: {\n",
    "            0: 25, \n",
    "            1: 35, \n",
    "            2: 42\n",
    "        },\n",
    "        8: {\n",
    "            0: 31, \n",
    "            1: 19, \n",
    "            2: 21,\n",
    "        },\n",
    "        9: {\n",
    "            0: 17, \n",
    "            1: 14, \n",
    "            2: 13\n",
    "        },\n",
    "        10: {\n",
    "            0: 25, \n",
    "            1: 24, \n",
    "            2: 44\n",
    "        },\n",
    "    },\n",
    "    \"place_amd_3\": {\n",
    "        1: {\n",
    "            0: 90, \n",
    "            1: 90, \n",
    "            2: 90\n",
    "        },\n",
    "        2: {\n",
    "            0: 62, \n",
    "            1: 73, \n",
    "            2: 49\n",
    "        },\n",
    "        3: {\n",
    "            0: 58, \n",
    "            1: 33, \n",
    "            2: 32\n",
    "        },\n",
    "        4: {\n",
    "            0: 90, \n",
    "            1: 90, \n",
    "            2: 30,\n",
    "        },\n",
    "        6: {\n",
    "            0: 47, \n",
    "            1: 53, \n",
    "            2: 39,\n",
    "        },\n",
    "        5: {\n",
    "            0: 90, \n",
    "            1: 90, \n",
    "            2: 90\n",
    "        },\n",
    "        7: {\n",
    "            0: 90, \n",
    "            1: 90, \n",
    "            2: 90\n",
    "        },\n",
    "        8: {\n",
    "            0: 85, \n",
    "            1: 54, \n",
    "            2: 90,\n",
    "        },\n",
    "        9: {\n",
    "            0: 62, \n",
    "            1: 88, \n",
    "            2: 67\n",
    "        },\n",
    "        10: {\n",
    "            0: 90, \n",
    "            1: 90, \n",
    "            2: 90\n",
    "        },\n",
    "    },\n",
    "    \"place_glaucoma_1\": {\n",
    "        1: {\n",
    "            0: 13, \n",
    "            1: 24, \n",
    "            2: 50\n",
    "        },\n",
    "        2: {\n",
    "            0: 12, \n",
    "            1: 18, \n",
    "            2: 13\n",
    "        },\n",
    "        3: {\n",
    "            0: 17, \n",
    "            1: 15, \n",
    "            2: 12\n",
    "        },\n",
    "        4: {\n",
    "            0: 19, \n",
    "            1: 22, \n",
    "            2: 15,\n",
    "        },\n",
    "        5: {\n",
    "            0: 23, \n",
    "            1: 35, \n",
    "            2: 36\n",
    "        },\n",
    "        6: {\n",
    "            0: 23, \n",
    "            1: 13, \n",
    "            2: 16,\n",
    "        },\n",
    "        7: {\n",
    "            0: 25, \n",
    "            1: 33, \n",
    "            2: 22\n",
    "        },\n",
    "        8: {\n",
    "            0: 28, \n",
    "            1: 13, \n",
    "            2: 12,\n",
    "        },\n",
    "        9: {\n",
    "            0: 12, \n",
    "            1: 17, \n",
    "            2: 13\n",
    "        },\n",
    "        10: {\n",
    "            0: 20, \n",
    "            1: 16, \n",
    "            2: 14\n",
    "        },\n",
    "    },\n",
    "    \"place_glaucoma_2\": {\n",
    "        1: {\n",
    "            0: 74, \n",
    "            1: 55, \n",
    "            2: 40\n",
    "        },\n",
    "        2: {\n",
    "            0: 18, \n",
    "            1: 18, \n",
    "            2: 20\n",
    "        },\n",
    "        3: {\n",
    "            0: 14, \n",
    "            1: 11, \n",
    "            2: 11\n",
    "        },\n",
    "        4: {\n",
    "            0: 17, \n",
    "            1: 11, \n",
    "            2: 22,\n",
    "        },\n",
    "        6: {\n",
    "            0: 19, \n",
    "            1: 25, \n",
    "            2: 15,\n",
    "        },\n",
    "        5: {\n",
    "            0: 37, \n",
    "            1: 47, \n",
    "            2: 43\n",
    "        },\n",
    "        7: {\n",
    "            0: 27, \n",
    "            1: 25, \n",
    "            2: 33\n",
    "        },\n",
    "        8: {\n",
    "            0: 20, \n",
    "            1: 16, \n",
    "            2: 19,\n",
    "        },\n",
    "        9: {\n",
    "            0: 18, \n",
    "            1: 18, \n",
    "            2: 19\n",
    "        },\n",
    "        10: {\n",
    "            0: 30, \n",
    "            1: 29, \n",
    "            2: 27\n",
    "        },\n",
    "    },\n",
    "    \"place_glaucoma_3\": {\n",
    "        1: {\n",
    "            0: 52, \n",
    "            1: 90, \n",
    "            2: 90\n",
    "        },\n",
    "        2: {\n",
    "            0: 35, \n",
    "            1: 41, \n",
    "            2: 29\n",
    "        },\n",
    "        3: {\n",
    "            0: 35, \n",
    "            1: 25, \n",
    "            2: 22\n",
    "        },\n",
    "        4: {\n",
    "            0: 90, \n",
    "            1: 60, \n",
    "            2: 63,\n",
    "        },\n",
    "        5: {\n",
    "            0: 58, \n",
    "            1: 68, \n",
    "            2: 62\n",
    "        },\n",
    "        6: {\n",
    "            0: 31, \n",
    "            1: 31, \n",
    "            2: 54,\n",
    "        },\n",
    "        7: {\n",
    "            0: 89, \n",
    "            1: 90, \n",
    "            2: 90\n",
    "        },\n",
    "        8: {\n",
    "            0: 65, \n",
    "            1: 30, \n",
    "            2: 80,\n",
    "        },\n",
    "        9: {\n",
    "            0: 73, \n",
    "            1: 36, \n",
    "            2: 25\n",
    "        },\n",
    "        10: {\n",
    "            0: 51, \n",
    "            1: 68, \n",
    "            2: 40\n",
    "        },\n",
    "    },\n",
    "    \"place_normal_1\": {\n",
    "        1: {\n",
    "            0: 24, \n",
    "            1: 25, \n",
    "            2: 22\n",
    "        },\n",
    "        2: {\n",
    "            0: 11, \n",
    "            1: 11, \n",
    "            2: 22\n",
    "        },\n",
    "        3: {\n",
    "            0: 16, \n",
    "            1: 9, \n",
    "            2: 11,\n",
    "        },\n",
    "        4: {\n",
    "            0: 13, \n",
    "            1: 18, \n",
    "            2: 13,\n",
    "        },\n",
    "        5: {\n",
    "            0: 31, \n",
    "            1: 16, \n",
    "            2: 40,\n",
    "        },\n",
    "        6: {\n",
    "            0: 15, \n",
    "            1: 14, \n",
    "            2: 15,\n",
    "        },\n",
    "        7: {\n",
    "            0: 19, \n",
    "            1: 14, \n",
    "            2: 10,\n",
    "        },\n",
    "        8: {\n",
    "            0: 18, \n",
    "            1: 14, \n",
    "            2: 22,\n",
    "        },\n",
    "        9: {\n",
    "            0: 14, \n",
    "            1: 13, \n",
    "            2: 15\n",
    "        },\n",
    "        10: {\n",
    "            0: 23, \n",
    "            1: 19, \n",
    "            2: 15\n",
    "        },\n",
    "    }\n",
    "}"
   ]
  },
  {
   "cell_type": "code",
   "execution_count": null,
   "metadata": {},
   "outputs": [],
   "source": [
    "if save_json:\n",
    "    with open(f\"{data_path}/json/place_real_world_data.json\", \"w\") as f:\n",
    "        json.dump(place_real_world_data, f)"
   ]
  },
  {
   "cell_type": "code",
   "execution_count": null,
   "metadata": {},
   "outputs": [],
   "source": [
    "real_vis = [\"amd_1\", \"amd_2\", \"amd_3\", \"glaucoma_1\", \"glaucoma_2\", \"glaucoma_3\", \"normal_1\"]\n",
    "with open(f\"{data_path}/json/place_vr_data.json\", \"r\") as f:\n",
    "    place_vr_data = json.load(f)\n",
    "avg_place_data_vr, avg_place_data_real = {vi: {} for vi in real_vis}, {vi: {} for vi in real_vis}\n",
    "\n",
    "for id in ids:\n",
    "    for vi in real_vis:\n",
    "        avg_place_data_vr[vi][id] = np.mean(list(place_vr_data[f\"place_{vi}\"][f\"{id}\"].values()))\n",
    "        avg_place_data_real[vi][id] = np.mean(list(place_real_world_data[f\"place_{vi}\"][id].values()))\n",
    "    # for vi in real_vis:\n",
    "    #     avg_place_data_vr[vi][id] = avg_place_data_vr[vi][id] / avg_place_data_vr[\"normal_1\"][id]\n",
    "    #     avg_place_data_real[vi][id] = avg_place_data_real[vi][id] / avg_place_data_real[\"normal_1\"][id]\n",
    "    vi_data.plot_comparison_bar(\n",
    "        data_vr=[avg_place_data_vr[vi][id] for vi in real_vis], data_real=[avg_place_data_real[vi][id] for vi in real_vis], tick_label=real_vis, title=f\"[ID {id}] Total completion time\", ylabel=\"time (s)\"\n",
    "    )"
   ]
  },
  {
   "cell_type": "code",
   "execution_count": null,
   "metadata": {},
   "outputs": [],
   "source": [
    "real_place_mean = np.array([np.mean(list(avg_place_data_real[vi].values())) for vi in real_vis])\n",
    "real_place_std = np.array([np.std(list(avg_place_data_real[vi].values())) for vi in real_vis])\n",
    "\n",
    "vr_place_mean = np.array([np.mean(list(avg_place_data_vr[vi].values())) for vi in real_vis])\n",
    "vr_place_std = np.array([np.std(list(avg_place_data_vr[vi].values())) for vi in real_vis])\n",
    "\n",
    "vi_data.plot_comparison_line(vr_place_mean, real_place_mean, vr_place_std, real_place_std, tick_label=real_vis, title=\"Total completion time\", ylabel=\"time (s)\")"
   ]
  },
  {
   "cell_type": "code",
   "execution_count": null,
   "metadata": {},
   "outputs": [],
   "source": [
    "# Compute correlation\n",
    "corr = {\"amd\": [], \"glaucoma\": []}\n",
    "for id in ids:\n",
    "    for i, vi in enumerate([\"amd\", \"glaucoma\"]):\n",
    "        corr[vi].append(np.corrcoef([d[id] for d in list(avg_place_data_vr.values())[i*3: (i+1)*3]], [d[id] for d in list(avg_place_data_real.values())[i*3: (i+1)*3]])[0, 1])\n",
    "plt.scatter(corr[\"amd\"], corr[\"glaucoma\"])\n",
    "print(corr)"
   ]
  },
  {
   "cell_type": "code",
   "execution_count": null,
   "metadata": {},
   "outputs": [],
   "source": [
    "print(np.mean(corr[\"amd\"]), np.mean(corr[\"glaucoma\"]), np.std(corr[\"amd\"]), np.std(corr[\"glaucoma\"]))"
   ]
  },
  {
   "attachments": {},
   "cell_type": "markdown",
   "metadata": {},
   "source": [
    "## Subject Difficulty Rating"
   ]
  },
  {
   "cell_type": "code",
   "execution_count": null,
   "metadata": {},
   "outputs": [],
   "source": [
    "import csv\n",
    "s_tasks = [\"Catch\", \"Navigate\", \"Place\", \"Slice\", \"Throw\", \"Wipe\"]\n",
    "s_vis = [ \"Glaucoma\", \"AMD\", \"Cataract\", \"Myopia\", \"Presbyopia\"]\n",
    "subject_ratings = {}\n",
    "with open(f\"{data_path}/subject_rating.csv\", \"r\") as f:\n",
    "    reader = csv.DictReader(f)\n",
    "    for row in reader:\n",
    "        for task in s_tasks:\n",
    "            for s_vi in s_vis:\n",
    "                if f\"{task} [{s_vi}]\" not in subject_ratings:\n",
    "                    subject_ratings[f\"{task} [{s_vi}]\"] = {}\n",
    "                subject_ratings[f\"{task} [{s_vi}]\"][int(row[\"ID\"])] = float(row[f\"{task} [{s_vi}]\"])\n",
    "for key in subject_ratings:\n",
    "    subject_ratings[key] = np.mean(list(subject_ratings[key].values()))\n",
    "f = plt.figure()\n",
    "f.set_figwidth(20)\n",
    "f.set_figheight(7)\n",
    "plt.bar(subject_ratings.keys(), subject_ratings.values())\n",
    "plt.title(\"Subject ratings\")\n",
    "plt.ylabel(\"rating\")\n",
    "plt.xticks(rotation=60)\n",
    "plt.ylim(1, 5.5)\n",
    "plt.show()"
   ]
  },
  {
   "attachments": {},
   "cell_type": "markdown",
   "metadata": {},
   "source": [
    "## Finally close hdf files"
   ]
  },
  {
   "cell_type": "code",
   "execution_count": null,
   "metadata": {},
   "outputs": [],
   "source": [
    "del vi_data"
   ]
  },
  {
   "cell_type": "code",
   "execution_count": null,
   "metadata": {},
   "outputs": [],
   "source": []
  }
 ],
 "metadata": {
  "kernelspec": {
   "display_name": "igvi",
   "language": "python",
   "name": "python3"
  },
  "language_info": {
   "codemirror_mode": {
    "name": "ipython",
    "version": 3
   },
   "file_extension": ".py",
   "mimetype": "text/x-python",
   "name": "python",
   "nbconvert_exporter": "python",
   "pygments_lexer": "ipython3",
   "version": "3.8.15"
  },
  "orig_nbformat": 4,
  "vscode": {
   "interpreter": {
    "hash": "1d9e0d97332bb561e281b894feefedce53dc09e7c8c67f9bb2e16926e09d80e3"
   }
  }
 },
 "nbformat": 4,
 "nbformat_minor": 2
}
