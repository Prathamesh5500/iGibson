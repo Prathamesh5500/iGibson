{
 "cells": [
  {
   "cell_type": "code",
   "execution_count": 1,
   "metadata": {},
   "outputs": [],
   "source": [
    "import os\n",
    "import numpy as np\n",
    "import json\n",
    "import copy\n",
    "import csv\n",
    "import matplotlib.pyplot as plt "
   ]
  },
  {
   "cell_type": "code",
   "execution_count": 2,
   "metadata": {},
   "outputs": [],
   "source": [
    "data_path = \"c:/Users/capri28/Documents/ig2/igibson/data/vi_data\"\n",
    "vis = [f\"{i}_{j}\" for i in [\"cataract\", \"amd\", \"glaucoma\", \"presbyopia\", \"myopia\"] for j in [1, 2, 3]] + [\"normal_1\"]\n",
    "tasks = [\"catch\", \"navigate\", \"place\", \"slice\", \"throw\", \"wipe\"]\n",
    "ids = range(1, 11)\n",
    "save_json = True"
   ]
  },
  {
   "cell_type": "code",
   "execution_count": 3,
   "metadata": {},
   "outputs": [],
   "source": [
    "dv_1 = [\n",
    "    \"collision_freq\",\n",
    "    \"task_completion_time\",\n",
    "    \"throw_distance_from_ball_to_target\",\n",
    "    \"num_collisions\",\n",
    "    \"total_collision_time\",\n",
    "    \"wipe_total_irrevalant_objects_disarrangement\"\n",
    "]\n",
    "\n",
    "dv_2 = [\n",
    "    \"mean_pupil_dilation\",\n",
    "    \"total_body_translation\",\n",
    "    \"total_body_rotation\",\n",
    "    \"total_fixation_count\",\n",
    "    \"total_fixation_duration\",\n",
    "    \"total_gaze_movement\",\n",
    "    \"total_hmd_rotation\",\n",
    "    \"total_hmd_translation\",\n",
    "    \"total_left_hand_rotation\",\n",
    "    \"total_left_hand_translation\",\n",
    "    \"total_right_hand_rotation\",\n",
    "    \"total_right_hand_translation\",\n",
    "]  "
   ]
  },
  {
   "attachments": {},
   "cell_type": "markdown",
   "metadata": {},
   "source": [
    "## DVs"
   ]
  },
  {
   "cell_type": "code",
   "execution_count": 4,
   "metadata": {},
   "outputs": [],
   "source": [
    "dv1_data, dv2_data = {}, {}\n",
    "for dv in dv_1:\n",
    "    with open(f\"{data_path}/json/dv1/{dv}.json\", \"r\") as f:\n",
    "        dv1_data[dv] = json.load(f)\n",
    "for dv in dv_2:\n",
    "    with open(f\"{data_path}/json/dv2/{dv}.json\", \"r\") as f:\n",
    "        dv2_data[dv] = json.load(f)"
   ]
  },
  {
   "cell_type": "code",
   "execution_count": null,
   "metadata": {},
   "outputs": [],
   "source": [
    "mean_dv1_data = copy.deepcopy(dv1_data)\n",
    "for dv in dv_1:\n",
    "    for cond in dv1_data[dv]:\n",
    "        for subject in dv1_data[dv][cond]:\n",
    "            mean_dv1_data[dv][cond][subject] = np.mean(list(dv1_data[dv][cond][subject].values()))\n",
    "        mean_dv1_data[dv][cond] = np.mean(list(mean_dv1_data[dv][cond].values()))\n",
    "\n",
    "mean_dv2_data = copy.deepcopy(dv2_data)\n",
    "for dv in dv_2:\n",
    "    for cond in dv2_data[dv]:\n",
    "        for subject in dv2_data[dv][cond]:\n",
    "            mean_dv2_data[dv][cond][subject] = np.mean(list(dv2_data[dv][cond][subject].values()))\n",
    "        mean_dv2_data[dv][cond] = np.mean(list(mean_dv2_data[dv][cond].values()))"
   ]
  },
  {
   "cell_type": "code",
   "execution_count": null,
   "metadata": {},
   "outputs": [],
   "source": [
    "total_num_plot = 0\n",
    "for dv1 in mean_dv1_data:\n",
    "    for dv2 in mean_dv2_data:\n",
    "        for task in tasks:\n",
    "            is_valid = True\n",
    "            for vi in vis:\n",
    "                try:\n",
    "                    x, y = [], []\n",
    "                    for id in ids:\n",
    "                        x.append(mean_dv2_data[dv2][f\"{task}_{vi}\"])\n",
    "                        y.append(mean_dv1_data[dv1][f\"{task}_{vi}\"])\n",
    "                    plt.scatter(x, y, label=vi)\n",
    "                except KeyError:\n",
    "                    is_valid = False\n",
    "                    break\n",
    "            if is_valid:\n",
    "                plt.title(f\"[{task}] {dv2} vs. {dv1}\")\n",
    "                plt.xlabel(dv2)\n",
    "                plt.ylabel(dv1)\n",
    "                plt.rcParams[\"figure.figsize\"] = (20,10) \n",
    "                plt.legend()\n",
    "                plt.show()\n",
    "                total_num_plot += 1\n",
    "print(f\"Total number of plots: {total_num_plot}\")\n"
   ]
  },
  {
   "attachments": {},
   "cell_type": "markdown",
   "metadata": {},
   "source": [
    "### [Danger Zone] Ultimate Plots"
   ]
  },
  {
   "cell_type": "code",
   "execution_count": null,
   "metadata": {},
   "outputs": [],
   "source": [
    "total_num_plot = 0\n",
    "for dv1 in dv1_data:\n",
    "    for dv2 in dv2_data:\n",
    "        for task in tasks:\n",
    "            is_valid = True\n",
    "            for vi in {\"normal_1\", \"cataract_3\", \"glaucoma_3\", \"amd_3\", \"myopia_3\"}:\n",
    "                try:\n",
    "                    x, y = [], []\n",
    "                    for id in ids:\n",
    "                        x += list(dv2_data[dv2][f\"{task}_{vi}\"][f\"{id}\"].values())\n",
    "                        y += list(dv1_data[dv1][f\"{task}_{vi}\"][f\"{id}\"].values())\n",
    "                    plt.scatter(x, y, label=vi)\n",
    "                except KeyError:\n",
    "                    is_valid = False\n",
    "                    break\n",
    "            if is_valid:\n",
    "                plt.title(f\"[{task}] {dv2} vs. {dv1}\")\n",
    "                plt.xlabel(dv2)\n",
    "                plt.ylabel(dv1)\n",
    "                plt.rcParams[\"figure.figsize\"] = (20,10) \n",
    "                plt.legend()\n",
    "                plt.show()\n",
    "                total_num_plot += 1\n",
    "print(f\"Total number of plots: {total_num_plot}\")\n"
   ]
  },
  {
   "cell_type": "code",
   "execution_count": null,
   "metadata": {},
   "outputs": [],
   "source": []
  }
 ],
 "metadata": {
  "kernelspec": {
   "display_name": "igvi",
   "language": "python",
   "name": "python3"
  },
  "language_info": {
   "codemirror_mode": {
    "name": "ipython",
    "version": 3
   },
   "file_extension": ".py",
   "mimetype": "text/x-python",
   "name": "python",
   "nbconvert_exporter": "python",
   "pygments_lexer": "ipython3",
   "version": "3.8.15 | packaged by conda-forge | (default, Nov 22 2022, 08:42:03) [MSC v.1929 64 bit (AMD64)]"
  },
  "orig_nbformat": 4,
  "vscode": {
   "interpreter": {
    "hash": "1d9e0d97332bb561e281b894feefedce53dc09e7c8c67f9bb2e16926e09d80e3"
   }
  }
 },
 "nbformat": 4,
 "nbformat_minor": 2
}
