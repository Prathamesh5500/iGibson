{
 "cells": [
  {
   "cell_type": "code",
   "execution_count": 7,
   "id": "bc6fff74",
   "metadata": {},
   "outputs": [],
   "source": [
    "import json\n",
    "from IPython import embed\n",
    "import numpy as np\n",
    "import matplotlib.pyplot as plt\n",
    "import torch\n",
    "import torch.nn as nn\n",
    "import torch.backends.cudnn as cudnn\n",
    "from torch.utils.data import Dataset, DataLoader\n",
    "import os\n",
    "import argparse\n",
    "import random\n",
    "import time\n",
    "#from torch.utils.tensorboard import SummaryWriter\n",
    "import shutil"
   ]
  },
  {
   "cell_type": "code",
   "execution_count": 8,
   "id": "22320e3a",
   "metadata": {},
   "outputs": [
    {
     "data": {
      "text/plain": [
       "_StoreAction(option_strings=['--gpu'], dest='gpu', nargs=None, const=None, default=None, type=<class 'int'>, choices=None, help='GPU id to use.', metavar=None)"
      ]
     },
     "execution_count": 8,
     "metadata": {},
     "output_type": "execute_result"
    }
   ],
   "source": [
    "parser = argparse.ArgumentParser(description='PyTorch ImageNet Training')\n",
    "parser.add_argument('--root-dir',\n",
    "                    help='root dir to store all experiments', default='bc_results')\n",
    "parser.add_argument('--exp-dir',\n",
    "                    help='experiment directory', required=True)\n",
    "parser.add_argument('--data', metavar='DIR',\n",
    "                    help='path to dataset', default='bc_data')\n",
    "parser.add_argument('-j', '--workers', default=4, type=int, metavar='N',\n",
    "                    help='number of data loading workers (default: 4)')\n",
    "parser.add_argument('--epochs', default=50, type=int, metavar='N',\n",
    "                    help='number of total epochs to run')\n",
    "parser.add_argument('--start-epoch', default=0, type=int, metavar='N',\n",
    "                    help='manual epoch number (useful on restarts)')\n",
    "parser.add_argument('-b', '--batch-size', default=256, type=int,\n",
    "                    metavar='N',\n",
    "                    help='mini-batch size (default: 256), this is the total '\n",
    "                    'batch size of all GPUs on the current node when '\n",
    "                    'using Data Parallel or Distributed Data Parallel')\n",
    "parser.add_argument('--lr', '--learning-rate', default=0.01, type=float,\n",
    "                    metavar='LR', help='initial learning rate', dest='lr')\n",
    "parser.add_argument('--reg-loss-weight', default=1.0, type=float,\n",
    "                    help='weight for regression loss for arm action')\n",
    "parser.add_argument('--cls-loss-weight', default=1.0, type=float,\n",
    "                    help='weight for classification loss for gripper action')\n",
    "parser.add_argument('-p', '--print-freq', default=10, type=int,\n",
    "                    metavar='N', help='print frequency (default: 10)')\n",
    "parser.add_argument('--resume', default='', type=str, metavar='PATH',\n",
    "                    help='path to latest checkpoint (default: none)')\n",
    "parser.add_argument('-e', '--evaluate', dest='evaluate', action='store_true',\n",
    "                    help='evaluate model on validation set')\n",
    "parser.add_argument('--seed', default=None, type=int,\n",
    "                    help='seed for initializing training. ')\n",
    "parser.add_argument('--gpu', default=None, type=int,\n",
    "                    help='GPU id to use.')\n",
    "\n",
    "#best_f1 = 0"
   ]
  },
  {
   "cell_type": "code",
   "execution_count": 9,
   "id": "78737a02",
   "metadata": {},
   "outputs": [],
   "source": [
    "class AverageMeter(object):\n",
    "    \"\"\"Computes and stores the average and current value\"\"\"\n",
    "\n",
    "    def __init__(self, name, fmt=':f'):\n",
    "        self.name = name\n",
    "        self.fmt = fmt\n",
    "        self.reset()\n",
    "\n",
    "    def reset(self):\n",
    "        self.val = 0\n",
    "        self.avg = 0\n",
    "        self.sum = 0\n",
    "        self.count = 0\n",
    "\n",
    "    def update(self, val, n=1):\n",
    "        self.val = val\n",
    "        self.sum += val * n\n",
    "        self.count += n\n",
    "        self.avg = self.sum / self.count\n",
    "\n",
    "    def __str__(self):\n",
    "        fmtstr = '{name} {val' + self.fmt + '} ({avg' + self.fmt + '})'\n",
    "        return fmtstr.format(**self.__dict__)\n",
    "\n",
    "\n",
    "class ProgressMeter(object):\n",
    "    def __init__(self, num_batches, meters, prefix=\"\", writer=None):\n",
    "        self.batch_fmtstr = self._get_batch_fmtstr(num_batches)\n",
    "        self.meters = meters\n",
    "        self.prefix = prefix\n",
    "        self.writer = writer\n",
    "\n",
    "    def display(self, batch):\n",
    "        entries = [self.prefix + self.batch_fmtstr.format(batch)]\n",
    "        entries += [str(meter) for meter in self.meters]\n",
    "        print('\\t'.join(entries))\n",
    "\n",
    "    def log_tensorboard(self, epoch):\n",
    "        if self.writer is not None:\n",
    "            for meter in self.meters:\n",
    "                self.writer.add_scalar(meter.name, meter.avg, epoch)\n",
    "\n",
    "    def _get_batch_fmtstr(self, num_batches):\n",
    "        num_digits = len(str(num_batches // 1))\n",
    "        fmt = '{:' + str(num_digits) + 'd}'\n",
    "        return '[' + fmt + '/' + fmt.format(num_batches) + ']'\n",
    "\n",
    "\n",
    "def get_cls_metrics(output, target):\n",
    "    with torch.no_grad():\n",
    "        pred = torch.argmax(output, dim=1)\n",
    "        accu = pred.eq(target)\n",
    "        target_true = torch.sum(target).float()\n",
    "        pred_true = torch.sum(pred).float()\n",
    "        correct_true = torch.sum(accu * pred.byte()).float()\n",
    "        precision = correct_true / pred_true\n",
    "        recall = correct_true / target_true\n",
    "        f1_score = (2 * precision * recall) / (precision + recall)\n",
    "        accu = accu.float().mean()\n",
    "        return accu, precision, recall, f1_score\n"
   ]
  },
  {
   "cell_type": "code",
   "execution_count": 10,
   "id": "41b93787",
   "metadata": {},
   "outputs": [
    {
     "name": "stdout",
     "output_type": "stream",
     "text": [
      "lifting_cauldron_0_Rs_int_2021-08-30_01-10-08_replay.hdf5\n"
     ]
    },
    {
     "ename": "NameError",
     "evalue": "name 'h5py' is not defined",
     "output_type": "error",
     "traceback": [
      "\u001b[0;31m---------------------------------------------------------------------------\u001b[0m",
      "\u001b[0;31mNameError\u001b[0m                                 Traceback (most recent call last)",
      "\u001b[0;32m/tmp/ipykernel_240284/3202006693.py\u001b[0m in \u001b[0;36m<module>\u001b[0;34m\u001b[0m\n\u001b[1;32m    112\u001b[0m         \u001b[0;32mreturn\u001b[0m \u001b[0mobservation\u001b[0m\u001b[0;34m,\u001b[0m \u001b[0marm_action\u001b[0m\u001b[0;34m\u001b[0m\u001b[0;34m\u001b[0m\u001b[0m\n\u001b[1;32m    113\u001b[0m \u001b[0;34m\u001b[0m\u001b[0m\n\u001b[0;32m--> 114\u001b[0;31m \u001b[0md\u001b[0m \u001b[0;34m=\u001b[0m \u001b[0mBCDataset\u001b[0m\u001b[0;34m(\u001b[0m\u001b[0mroot_dir\u001b[0m\u001b[0;34m=\u001b[0m\u001b[0;34m'.'\u001b[0m\u001b[0;34m,\u001b[0m \u001b[0mdataset_type\u001b[0m\u001b[0;34m=\u001b[0m\u001b[0;34m'train'\u001b[0m\u001b[0;34m)\u001b[0m\u001b[0;34m\u001b[0m\u001b[0;34m\u001b[0m\u001b[0m\n\u001b[0m\u001b[1;32m    115\u001b[0m \u001b[0mprint\u001b[0m\u001b[0;34m(\u001b[0m\u001b[0mlen\u001b[0m\u001b[0;34m(\u001b[0m\u001b[0md\u001b[0m\u001b[0;34m)\u001b[0m\u001b[0;34m)\u001b[0m\u001b[0;34m\u001b[0m\u001b[0;34m\u001b[0m\u001b[0m\n\u001b[1;32m    116\u001b[0m \u001b[0mplt\u001b[0m\u001b[0;34m.\u001b[0m\u001b[0mplot\u001b[0m\u001b[0;34m(\u001b[0m\u001b[0md\u001b[0m\u001b[0;34m.\u001b[0m\u001b[0minput_mean\u001b[0m\u001b[0;34m)\u001b[0m\u001b[0;34m\u001b[0m\u001b[0;34m\u001b[0m\u001b[0m\n",
      "\u001b[0;32m/tmp/ipykernel_240284/3202006693.py\u001b[0m in \u001b[0;36m__init__\u001b[0;34m(self, root_dir, dataset_type, input_mean, input_std)\u001b[0m\n\u001b[1;32m     27\u001b[0m             \u001b[0;32mif\u001b[0m \u001b[0mfn\u001b[0m\u001b[0;34m.\u001b[0m\u001b[0mendswith\u001b[0m\u001b[0;34m(\u001b[0m\u001b[0;34m'hdf5'\u001b[0m\u001b[0;34m)\u001b[0m\u001b[0;34m:\u001b[0m\u001b[0;34m\u001b[0m\u001b[0;34m\u001b[0m\u001b[0m\n\u001b[1;32m     28\u001b[0m                 \u001b[0mprint\u001b[0m\u001b[0;34m(\u001b[0m\u001b[0mfn\u001b[0m\u001b[0;34m)\u001b[0m\u001b[0;34m\u001b[0m\u001b[0;34m\u001b[0m\u001b[0m\n\u001b[0;32m---> 29\u001b[0;31m                 \u001b[0mhf\u001b[0m \u001b[0;34m=\u001b[0m \u001b[0mh5py\u001b[0m\u001b[0;34m.\u001b[0m\u001b[0mFile\u001b[0m\u001b[0;34m(\u001b[0m\u001b[0mfn\u001b[0m\u001b[0;34m,\u001b[0m \u001b[0;34m'r'\u001b[0m\u001b[0;34m)\u001b[0m\u001b[0;34m\u001b[0m\u001b[0;34m\u001b[0m\u001b[0m\n\u001b[0m\u001b[1;32m     30\u001b[0m \u001b[0;34m\u001b[0m\u001b[0m\n\u001b[1;32m     31\u001b[0m                 \u001b[0;32mif\u001b[0m \u001b[0mhf\u001b[0m\u001b[0;34m[\u001b[0m\u001b[0;34m'goal_status'\u001b[0m\u001b[0;34m]\u001b[0m\u001b[0;34m[\u001b[0m\u001b[0;34m'satisfied'\u001b[0m\u001b[0;34m]\u001b[0m\u001b[0;34m.\u001b[0m\u001b[0mshape\u001b[0m\u001b[0;34m[\u001b[0m\u001b[0;36m0\u001b[0m\u001b[0;34m]\u001b[0m \u001b[0;34m==\u001b[0m \u001b[0;36m0\u001b[0m\u001b[0;34m:\u001b[0m\u001b[0;34m\u001b[0m\u001b[0;34m\u001b[0m\u001b[0m\n",
      "\u001b[0;31mNameError\u001b[0m: name 'h5py' is not defined"
     ]
    }
   ],
   "source": [
    "class BCDataset(Dataset):\n",
    "\n",
    "    def __init__(self, root_dir, dataset_type, input_mean=None, input_std=None):\n",
    "        \"\"\"\n",
    "        Args:\n",
    "            csv_file (string): Path to the csv file with annotations.\n",
    "            root_dir (string): Directory with all the images.\n",
    "            transform (callable, optional): Optional transform to be applied\n",
    "                on a sample.\n",
    "        \"\"\"\n",
    "        self.dataset_type = dataset_type\n",
    "#         with open('{}/{}.json'.format(root_dir, dataset_type), 'r') as f:\n",
    "#             self.data = json.load(f)\n",
    "#             for key in self.data:\n",
    "#                 if key == 'gripper_action':\n",
    "#                     self.data[key] = np.array(self.data[key]).astype(np.int64)\n",
    "#                 else:\n",
    "#                     self.data[key] = np.array(\n",
    "#                         self.data[key]).astype(np.float32)\n",
    "    \n",
    "        self.data = {}\n",
    "        self.data['observation'] = []\n",
    "        self.data['arm_action'] = []\n",
    "\n",
    "        \n",
    "        for fn in os.listdir(root_dir):\n",
    "            if fn.endswith('hdf5'):\n",
    "                print(fn)\n",
    "                hf = h5py.File(fn, 'r')\n",
    "                \n",
    "                if hf['goal_status']['satisfied'].shape[0] == 0:\n",
    "                    print(fn, 'not successful')\n",
    "                    continue\n",
    "                if hf['goal_status']['satisfied'][-1,0] == 0:\n",
    "                    print(fn, 'not successful')\n",
    "                    continue\n",
    "                \n",
    "                reset1 = np.max(np.where(hf['agent_actions']['vr_robot'][:,27]))\n",
    "                reset2 = np.max(np.where(hf['agent_actions']['vr_robot'][:,19]))\n",
    "                reset = (max(reset1, reset2))\n",
    "                \n",
    "                \n",
    "\n",
    "                left_hand_local = hf['agent_actions']['left_hand_local']\n",
    "                right_hand_local = hf['agent_actions']['right_hand_local']\n",
    "                left_hand_trigger_fraction = hf['agent_actions']['left_hand_trigger_fraction']\n",
    "                right_hand_trigger_fraction = hf['agent_actions']['right_hand_trigger_fraction']\n",
    "\n",
    "\n",
    "                print(left_hand_local.shape, left_hand_trigger_fraction.shape)\n",
    "                proprioception = np.concatenate([left_hand_local, \n",
    "                                                 right_hand_local,\n",
    "                                                 left_hand_trigger_fraction, \n",
    "                                                 right_hand_trigger_fraction],\n",
    "                                               axis=1\n",
    "                                               )\n",
    "\n",
    "\n",
    "                keys = ['1', '62', '8', '98']\n",
    "\n",
    "                task_obs = []\n",
    "                for key in keys:\n",
    "                    task_obs.append(hf['physics_data'][key]['position'])\n",
    "                    task_obs.append(hf['physics_data'][key]['orientation'])\n",
    "\n",
    "                task_obs = np.concatenate(task_obs, axis=1)\n",
    "\n",
    "                observation = np.concatenate([proprioception, task_obs], axis=1)\n",
    "\n",
    "                action = hf['agent_actions']['vr_robot']\n",
    "                \n",
    "                self.data['observation'].append(observation[reset:])\n",
    "                self.data['arm_action'].append(action[reset:])\n",
    "                \n",
    "\n",
    "        self.data['observation'] = np.concatenate(self.data['observation'], axis=0)\n",
    "        self.data['arm_action'] = np.concatenate(self.data['arm_action'], axis=0)\n",
    "        \n",
    "        train_size = int(self.data['observation'].shape[0] * 0.8)\n",
    "        \n",
    "        if self.dataset_type == 'train':\n",
    "            self.data['observation'] = self.data['observation'][:train_size]\n",
    "            self.data['arm_action'] = self.data['arm_action'][:train_size]\n",
    "        else:\n",
    "            self.data['observation'] = self.data['observation'][train_size:]\n",
    "            self.data['arm_action'] = self.data['arm_action'][train_size:]\n",
    "        \n",
    "\n",
    "        #print(self.data)\n",
    "            \n",
    "        if dataset_type == 'train':\n",
    "            input_mean = np.mean(self.data['observation'], axis=0)\n",
    "            input_std = np.std(self.data['observation'], axis=0)\n",
    "        self.input_mean = input_mean\n",
    "        self.input_std = input_std\n",
    "\n",
    "    def __len__(self):\n",
    "        return len(self.data['observation'])\n",
    "\n",
    "    def __getitem__(self, idx):\n",
    "        if torch.is_tensor(idx):\n",
    "            idx = idx.tolist()\n",
    "\n",
    "        observation = self.data['observation'][idx]\n",
    "        arm_action = self.data['arm_action'][idx]\n",
    "        observation = (observation - self.input_mean) / (self.input_std + 1e-10)\n",
    "\n",
    "        \n",
    "        observation = observation.astype(np.float32)\n",
    "        arm_action = arm_action.astype(np.float32)\n",
    "        arm_action = np.concatenate((arm_action[12:18], arm_action[20:26]))\n",
    "        return observation, arm_action\n",
    "\n",
    "d = BCDataset(root_dir='.', dataset_type='train')\n",
    "print(len(d))\n",
    "plt.plot(d.input_mean)\n",
    "plt.plot(d.input_std)"
   ]
  },
  {
   "cell_type": "code",
   "execution_count": 11,
   "id": "7509d1ac",
   "metadata": {},
   "outputs": [
    {
     "name": "stdout",
     "output_type": "stream",
     "text": [
      "(600, 7) (600, 1)\n"
     ]
    }
   ],
   "source": [
    "import h5py\n",
    "import matplotlib.pyplot as plt\n",
    "\n",
    "hf = h5py.File('lifting_cauldron_0_Rs_int_2021-08-30_01-09-21_replay.hdf5', 'r')\n",
    "\n",
    "left_hand_local = hf['agent_actions']['left_hand_local']\n",
    "right_hand_local = hf['agent_actions']['right_hand_local']\n",
    "left_hand_trigger_fraction = hf['agent_actions']['left_hand_trigger_fraction']\n",
    "right_hand_trigger_fraction = hf['agent_actions']['right_hand_trigger_fraction']\n",
    "\n",
    "\n",
    "print(left_hand_local.shape, left_hand_trigger_fraction.shape)\n",
    "proprioception = np.concatenate([left_hand_local, \n",
    "                                 right_hand_local,\n",
    "                                 left_hand_trigger_fraction, \n",
    "                                 right_hand_trigger_fraction],\n",
    "                               axis=1\n",
    "                               )\n",
    "\n",
    "\n",
    "keys = ['1', '62', '8', '98']\n",
    "\n",
    "task_obs = []\n",
    "for key in keys:\n",
    "    task_obs.append(hf['physics_data'][key]['position'])\n",
    "    task_obs.append(hf['physics_data'][key]['orientation'])\n",
    "    \n",
    "task_obs = np.concatenate(task_obs, axis=1)\n",
    "\n",
    "observation = np.concatenate([proprioception, task_obs], axis=1)\n",
    "\n",
    "action = hf['agent_actions']['vr_robot']\n",
    "\n",
    "#hf['physics_data'].keys()"
   ]
  },
  {
   "cell_type": "code",
   "execution_count": 12,
   "id": "47902f7a",
   "metadata": {},
   "outputs": [
    {
     "data": {
      "text/plain": [
       "<KeysViewHDF5 ['agent_actions', 'frame_data', 'goal_status', 'physics_data']>"
      ]
     },
     "execution_count": 12,
     "metadata": {},
     "output_type": "execute_result"
    }
   ],
   "source": [
    "hf.keys()"
   ]
  },
  {
   "cell_type": "code",
   "execution_count": 13,
   "id": "cb67c6e9",
   "metadata": {},
   "outputs": [],
   "source": [
    "\n",
    "class Model(nn.Module):\n",
    "    def __init__(self,\n",
    "                 input_size,\n",
    "                 hidden_size,\n",
    "                 num_layers,\n",
    "                 arm_action_size):\n",
    "        super(Model, self).__init__()\n",
    "        assert num_layers > 0\n",
    "        layers = []\n",
    "        layers.append(nn.Linear(input_size, hidden_size))\n",
    "        layers.append(nn.ReLU())\n",
    "        for i in range(1, num_layers):\n",
    "            layers.append(nn.Linear(hidden_size, hidden_size))\n",
    "            layers.append(nn.ReLU())\n",
    "        self.layers = nn.Sequential(*layers)\n",
    "        self.arm_action_head = nn.Linear(hidden_size, arm_action_size)\n",
    "\n",
    "    def forward(self, x):\n",
    "        x = self.layers(x)\n",
    "        arm_action = self.arm_action_head(x)\n",
    "        return arm_action\n",
    "\n",
    "\n",
    "def save_checkpoint(state, ckpt_dir, filename, is_best):\n",
    "    torch.save(state, os.path.join(ckpt_dir, filename))\n",
    "    if is_best:\n",
    "        shutil.copyfile(os.path.join(ckpt_dir, filename),\n",
    "                       os.path.join(ckpt_dir, 'model_best.pth.tar'))\n",
    "\n"
   ]
  },
  {
   "cell_type": "code",
   "execution_count": 14,
   "id": "25ae8881",
   "metadata": {},
   "outputs": [],
   "source": [
    "def main():\n",
    "    #global best_f1\n",
    "\n",
    "    args = parser.parse_args(['--exp-dir', '.', '--data', '.'])\n",
    "    root_dir = args.root_dir\n",
    "    exp_dir = os.path.join(root_dir, args.exp_dir)\n",
    "    ckpt_dir = os.path.join(exp_dir, 'ckpt')\n",
    "    summary_dir = os.path.join(exp_dir, 'summary')\n",
    "    os.makedirs(ckpt_dir, exist_ok=True)\n",
    "    os.makedirs(summary_dir, exist_ok=True)\n",
    "\n",
    "    if args.seed is not None:\n",
    "        random.seed(args.seed)\n",
    "        torch.manual_seed(args.seed)\n",
    "        cudnn.deterministic = True\n",
    "\n",
    "    model = Model(input_size=44,\n",
    "                  hidden_size=64,\n",
    "                  num_layers=5,\n",
    "                  arm_action_size=12,\n",
    "                  )\n",
    "\n",
    "    if args.gpu is not None:\n",
    "        torch.cuda.set_device(args.gpu)\n",
    "        model.cuda(args.gpu)\n",
    "    else:\n",
    "        model = torch.nn.DataParallel(model).cuda()\n",
    "\n",
    "    reg_criterion = nn.MSELoss().cuda(args.gpu)\n",
    "    optimizer = torch.optim.Adam(model.parameters(), args.lr)\n",
    "    \n",
    "    cls_criterion = None\n",
    "    writer = None\n",
    "#     if args.resume:\n",
    "#         if os.path.isfile(args.resume):\n",
    "#             print(\"=> loading checkpoint '{}'\".format(args.resume))\n",
    "#             if args.gpu is None:\n",
    "#                 checkpoint = torch.load(args.resume)\n",
    "#             else:\n",
    "#                 # Map model to be loaded to specified single gpu.\n",
    "#                 loc = 'cuda:{}'.format(args.gpu)\n",
    "#                 checkpoint = torch.load(args.resume, map_location=loc)\n",
    "#             args.start_epoch = checkpoint['epoch']\n",
    "#             #best_f1 = checkpoint['best_f1']\n",
    "#             if args.gpu is not None:\n",
    "#                 # best_acc1 may be from a checkpoint from a different GPU\n",
    "#             #    best_f1 = best_f1.to(args.gpu)\n",
    "#             model.load_state_dict(checkpoint['state_dict'])\n",
    "#             optimizer.load_state_dict(checkpoint['optimizer'])\n",
    "#             print(\"=> loaded checkpoint '{}' (epoch {})\"\n",
    "#                   .format(args.resume, checkpoint['epoch']))\n",
    "#         else:\n",
    "#             print(\"=> no checkpoint found at '{}'\".format(args.resume))\n",
    "\n",
    "    cudnn.benchmark = True\n",
    "\n",
    "    train_dataset = BCDataset(args.data, 'train')\n",
    "    train_loader = torch.utils.data.DataLoader(\n",
    "        train_dataset, batch_size=args.batch_size, shuffle=True,\n",
    "        num_workers=args.workers, pin_memory=True)\n",
    "\n",
    "    val_dataset = BCDataset(\n",
    "        args.data, 'val', train_dataset.input_mean, train_dataset.input_std)\n",
    "\n",
    "    val_loader = torch.utils.data.DataLoader(\n",
    "        val_dataset, batch_size=args.batch_size, shuffle=False,\n",
    "        num_workers=args.workers, pin_memory=True)\n",
    "\n",
    "#     if args.evaluate:\n",
    "#         validate(val_loader, model, reg_criterion, cls_criterion, -1, args)\n",
    "#         return\n",
    "\n",
    "    #writer = SummaryWriter(summary_dir)\n",
    "    best_l1 = np.inf\n",
    "    \n",
    "    l1s = []\n",
    "    for epoch in range(args.start_epoch, args.epochs):\n",
    "        # train for one epoch\n",
    "        train(train_loader, model, reg_criterion,\n",
    "              cls_criterion, optimizer, epoch, args, writer)\n",
    "\n",
    "        #evaluate on validation set\n",
    "        l1 = validate(val_loader, model, reg_criterion, cls_criterion, epoch, args, writer)\n",
    "        l1s.append(l1)\n",
    "        is_best = l1 < best_l1\n",
    "        best_l1 = min(l1, best_l1)\n",
    "\n",
    "        save_checkpoint(\n",
    "        {\n",
    "            'epoch': epoch + 1,\n",
    "            'state_dict': model.state_dict(),\n",
    "            'optimizer': optimizer.state_dict(),\n",
    "            'input_mean': train_dataset.input_mean,\n",
    "            'input_std': train_dataset.input_std\n",
    "        },\n",
    "        ckpt_dir=ckpt_dir,\n",
    "        filename='checkpoint_{}.pth.tar'.format(epoch),\n",
    "        is_best=is_best,\n",
    "        )\n",
    "    plt.plot(l1s)\n",
    "\n",
    "def train(train_loader, model, reg_criterion, cls_criterion, optimizer, epoch, args, writer):\n",
    "    batch_time = AverageMeter('Train Time', ':6.3f')\n",
    "    data_time = AverageMeter('Train Data', ':6.3f')\n",
    "    reg_losses = AverageMeter('Train Regression Loss', ':.4e')\n",
    "    cls_losses = AverageMeter('Train Classification Loss', ':.4e')\n",
    "    total_losses = AverageMeter('Train Total Loss', ':.4e')\n",
    "    accuracy = AverageMeter('Train Accuracy', ':6.2f')\n",
    "    precision = AverageMeter('Train Precision', ':6.2f')\n",
    "    recall = AverageMeter('Train Recall', ':6.2f')\n",
    "    f1_score = AverageMeter('Train F1 Score', ':6.2f')\n",
    "\n",
    "#     progress = ProgressMeter(\n",
    "#         len(train_loader),\n",
    "#         [batch_time, data_time, reg_losses, cls_losses,\n",
    "#             accuracy, precision, recall, f1_score],\n",
    "#         prefix=\"Train Epoch: [{}]\".format(epoch),\n",
    "#         writer=writer)\n",
    "\n",
    "    # switch to train mode\n",
    "    model.train()\n",
    "\n",
    "    end = time.time()\n",
    "    for i, (obj_pos, arm_action) in enumerate(train_loader):\n",
    "        # measure data loading time\n",
    "        data_time.update(time.time() - end)\n",
    "\n",
    "        obj_pos = obj_pos.cuda(args.gpu, non_blocking=True)\n",
    "        arm_action = arm_action.cuda(args.gpu, non_blocking=True)\n",
    "#         gripper_action = gripper_action.cuda(args.gpu, non_blocking=True)\n",
    "\n",
    "        # compute output\n",
    "        arm_action_pred = model(obj_pos)\n",
    "        reg_loss = reg_criterion(arm_action_pred, arm_action)\n",
    "#         cls_loss = cls_criterion(gripper_action_pred, gripper_action)\n",
    "#         loss = args.reg_loss_weight * reg_loss + args.cls_loss_weight * cls_loss\n",
    "        loss = reg_loss\n",
    "        print(epoch, loss)\n",
    "        # measure accuracy and record loss\n",
    "#         accu, prec, recl, f1 = get_cls_metrics(\n",
    "#             gripper_action_pred, gripper_action)\n",
    "#         reg_losses.update(reg_loss.item(), obj_pos.size(0))\n",
    "#         cls_losses.update(cls_loss.item(), obj_pos.size(0))\n",
    "#         total_losses.update(loss.item(), obj_pos.size(0))\n",
    "#         accuracy.update(accu.item(), obj_pos.size(0))\n",
    "#         precision.update(prec.item(), obj_pos.size(0))\n",
    "#         recall.update(recl.item(), obj_pos.size(0))\n",
    "#         f1_score.update(f1.item(), obj_pos.size(0))\n",
    "\n",
    "        # compute gradient and do SGD step\n",
    "        optimizer.zero_grad()\n",
    "        loss.backward()\n",
    "        optimizer.step()\n",
    "\n",
    "        # measure elapsed time\n",
    "#         batch_time.update(time.time() - end)\n",
    "#         end = time.time()\n",
    "\n",
    "#         if i % args.print_freq == 0:\n",
    "#             progress.display(i)\n",
    "\n",
    "#     progress.log_tensorboard(epoch)\n",
    "\n",
    "\n",
    "def validate(val_loader, model, reg_criterion, cls_criterion, epoch, args, writer=None):\n",
    "#     batch_time = AverageMeter('Val Time', ':6.3f')\n",
    "#     data_time = AverageMeter('Val Data', ':6.3f')\n",
    "#     reg_losses = AverageMeter('Val Regression Loss', ':.4e')\n",
    "#     cls_losses = AverageMeter('Val Classification Loss', ':.4e')\n",
    "#     total_losses = AverageMeter('Val Total Loss', ':.4e')\n",
    "#     accuracy = AverageMeter('Val Accuracy', ':6.2f')\n",
    "#     precision = AverageMeter('Val Precision', ':6.2f')\n",
    "#     recall = AverageMeter('Val Recall', ':6.2f')\n",
    "#     f1_score = AverageMeter('Val F1 Score', ':6.2f')\n",
    "\n",
    "#     progress = ProgressMeter(\n",
    "#         len(val_loader),\n",
    "#         [batch_time, data_time, reg_losses, cls_losses,\n",
    "#             accuracy, precision, recall, f1_score],\n",
    "#         prefix=\"Val Epoch: [{}]\".format(epoch),\n",
    "#         writer=writer)\n",
    "\n",
    "    # switch to evaluate mode\n",
    "    model.eval()\n",
    "\n",
    "    reg_losses = []\n",
    "    \n",
    "    with torch.no_grad():\n",
    "        end = time.time()\n",
    "        for i, (obj_pos, arm_action) in enumerate(val_loader):\n",
    "            obj_pos = obj_pos.cuda(args.gpu, non_blocking=True)\n",
    "            arm_action = arm_action.cuda(args.gpu, non_blocking=True)\n",
    "            #gripper_action = gripper_action.cuda(\n",
    "            #    args.gpu, non_blocking=True)\n",
    "\n",
    "            # compute output\n",
    "            arm_action_pred = model(obj_pos)\n",
    "            reg_loss = reg_criterion(arm_action_pred, arm_action)\n",
    "            #cls_loss = cls_criterion(gripper_action_pred, gripper_action)\n",
    "            loss = reg_loss#args.reg_loss_weight * reg_loss + args.cls_loss_weight * cls_loss\n",
    "            reg_losses.append(loss.cpu().item())\n",
    "            # measure accuracy and record loss\n",
    "            #accu, prec, recl, f1 = get_cls_metrics(\n",
    "            #    gripper_action_pred, gripper_action)\n",
    "            #reg_losses.update(reg_loss.item(), obj_pos.size(0))\n",
    "            #cls_losses.update(cls_loss.item(), obj_pos.size(0))\n",
    "            #total_losses.update(loss.item(), obj_pos.size(0))\n",
    "            #accuracy.update(accu.item(), obj_pos.size(0))\n",
    "            #precision.update(prec.item(), obj_pos.size(0))\n",
    "            #recall.update(recl.item(), obj_pos.size(0))\n",
    "            #f1_score.update(f1.item(), obj_pos.size(0))\n",
    "\n",
    "            # measure elapsed time\n",
    "            #batch_time.update(time.time() - end)\n",
    "            #end = time.time()\n",
    "\n",
    "            #if i % args.print_freq == 0:\n",
    "            #    progress.display(i)\n",
    "\n",
    "    #progress.log_tensorboard(epoch)\n",
    "    #return f1_score.avg\n",
    "    return np.mean(reg_losses)\n"
   ]
  },
  {
   "cell_type": "code",
   "execution_count": 15,
   "id": "8636983d",
   "metadata": {},
   "outputs": [
    {
     "name": "stderr",
     "output_type": "stream",
     "text": [
      "/home/fei/miniconda2/envs/igibson/lib/python3.8/site-packages/torch/nn/parallel/data_parallel.py:30: UserWarning: \n",
      "    There is an imbalance between your GPUs. You may want to exclude GPU 2 which\n",
      "    has less than 75% of the memory or cores of GPU 1. You can do so by setting\n",
      "    the device_ids argument to DataParallel, or by setting the CUDA_VISIBLE_DEVICES\n",
      "    environment variable.\n",
      "  warnings.warn(imbalance_warn.format(device_ids[min_pos], device_ids[max_pos]))\n"
     ]
    },
    {
     "name": "stdout",
     "output_type": "stream",
     "text": [
      "lifting_cauldron_0_Rs_int_2021-08-30_01-10-08_replay.hdf5\n",
      "(600, 7) (600, 1)\n",
      "lifting_cauldron_0_Rs_int_2021-08-30_01-23-41_replay.hdf5\n",
      "(400, 7) (400, 1)\n",
      "lifting_cauldron_0_Rs_int_2021-08-30_01-18-26_replay.hdf5\n",
      "(400, 7) (400, 1)\n",
      "lifting_cauldron_0_Rs_int_2021-08-30_01-26-00_replay.hdf5\n",
      "(400, 7) (400, 1)\n",
      "lifting_cauldron_0_Rs_int_2021-08-30_01-12-27_replay.hdf5\n",
      "lifting_cauldron_0_Rs_int_2021-08-30_01-12-27_replay.hdf5 not successful\n",
      "lifting_cauldron_0_Rs_int_2021-08-30_01-28-53_replay.hdf5\n",
      "(400, 7) (400, 1)\n",
      "lifting_cauldron_0_Rs_int_2021-08-30_01-19-10_replay.hdf5\n",
      "(400, 7) (400, 1)\n",
      "lifting_cauldron_0_Rs_int_2021-08-30_01-22-44_replay.hdf5\n",
      "(600, 7) (600, 1)\n",
      "lifting_cauldron_0_Rs_int_2021-08-30_01-06-46_replay.hdf5\n",
      "(400, 7) (400, 1)\n",
      "lifting_cauldron_0_Rs_int_2021-08-30_01-15-13_replay.hdf5\n",
      "(600, 7) (600, 1)\n",
      "lifting_cauldron_0_Rs_int_2021-08-30_01-19-53_replay.hdf5\n",
      "lifting_cauldron_0_Rs_int_2021-08-30_01-19-53_replay.hdf5 not successful\n",
      "lifting_cauldron_0_Rs_int_2021-08-30_01-11-41_replay.hdf5\n",
      "(600, 7) (600, 1)\n",
      "lifting_cauldron_0_Rs_int_2021-08-30_01-21-18_replay.hdf5\n",
      "(400, 7) (400, 1)\n",
      "lifting_cauldron_0_Rs_int_2021-08-30_01-27-24_replay.hdf5\n",
      "(400, 7) (400, 1)\n",
      "lifting_cauldron_0_Rs_int_2021-08-30_01-20-33_replay.hdf5\n",
      "(400, 7) (400, 1)\n",
      "lifting_cauldron_0_Rs_int_2021-08-30_01-26-42_replay.hdf5\n",
      "(400, 7) (400, 1)\n",
      "lifting_cauldron_0_Rs_int_2021-08-30_01-22-00_replay.hdf5\n",
      "(400, 7) (400, 1)\n",
      "lifting_cauldron_0_Rs_int_2021-08-30_01-07-51_replay.hdf5\n",
      "(400, 7) (400, 1)\n",
      "lifting_cauldron_0_Rs_int_2021-08-30_01-25-16_replay.hdf5\n",
      "(400, 7) (400, 1)\n",
      "lifting_cauldron_0_Rs_int_2021-08-30_01-12-38_replay.hdf5\n",
      "(600, 7) (600, 1)\n",
      "lifting_cauldron_0_Rs_int_2021-08-30_01-16-05_replay.hdf5\n",
      "(600, 7) (600, 1)\n",
      "lifting_cauldron_0_Rs_int_2021-08-30_01-10-55_replay.hdf5\n",
      "(600, 7) (600, 1)\n",
      "lifting_cauldron_0_Rs_int_2021-08-30_01-09-21_replay.hdf5\n",
      "(600, 7) (600, 1)\n",
      "lifting_cauldron_0_Rs_int_2021-08-30_01-14-20_replay.hdf5\n",
      "(600, 7) (600, 1)\n",
      "lifting_cauldron_0_Rs_int_2021-08-30_01-16-58_replay.hdf5\n",
      "(400, 7) (400, 1)\n",
      "lifting_cauldron_0_Rs_int_2021-08-30_01-28-06_replay.hdf5\n",
      "(400, 7) (400, 1)\n",
      "lifting_cauldron_0_Rs_int_2021-08-30_01-24-28_replay.hdf5\n",
      "(400, 7) (400, 1)\n",
      "lifting_cauldron_0_Rs_int_2021-08-30_01-08-38_replay.hdf5\n",
      "(400, 7) (400, 1)\n",
      "lifting_cauldron_0_Rs_int_2021-08-30_01-17-43_replay.hdf5\n",
      "(400, 7) (400, 1)\n",
      "lifting_cauldron_0_Rs_int_2021-08-30_01-13-27_replay.hdf5\n",
      "(600, 7) (600, 1)\n",
      "lifting_cauldron_0_Rs_int_2021-08-30_01-10-08_replay.hdf5\n",
      "(600, 7) (600, 1)\n",
      "lifting_cauldron_0_Rs_int_2021-08-30_01-23-41_replay.hdf5\n",
      "(400, 7) (400, 1)\n",
      "lifting_cauldron_0_Rs_int_2021-08-30_01-18-26_replay.hdf5\n",
      "(400, 7) (400, 1)\n",
      "lifting_cauldron_0_Rs_int_2021-08-30_01-26-00_replay.hdf5\n",
      "(400, 7) (400, 1)\n",
      "lifting_cauldron_0_Rs_int_2021-08-30_01-12-27_replay.hdf5\n",
      "lifting_cauldron_0_Rs_int_2021-08-30_01-12-27_replay.hdf5 not successful\n",
      "lifting_cauldron_0_Rs_int_2021-08-30_01-28-53_replay.hdf5\n",
      "(400, 7) (400, 1)\n",
      "lifting_cauldron_0_Rs_int_2021-08-30_01-19-10_replay.hdf5\n",
      "(400, 7) (400, 1)\n",
      "lifting_cauldron_0_Rs_int_2021-08-30_01-22-44_replay.hdf5\n",
      "(600, 7) (600, 1)\n",
      "lifting_cauldron_0_Rs_int_2021-08-30_01-06-46_replay.hdf5\n",
      "(400, 7) (400, 1)\n",
      "lifting_cauldron_0_Rs_int_2021-08-30_01-15-13_replay.hdf5\n",
      "(600, 7) (600, 1)\n",
      "lifting_cauldron_0_Rs_int_2021-08-30_01-19-53_replay.hdf5\n",
      "lifting_cauldron_0_Rs_int_2021-08-30_01-19-53_replay.hdf5 not successful\n",
      "lifting_cauldron_0_Rs_int_2021-08-30_01-11-41_replay.hdf5\n",
      "(600, 7) (600, 1)\n",
      "lifting_cauldron_0_Rs_int_2021-08-30_01-21-18_replay.hdf5\n",
      "(400, 7) (400, 1)\n",
      "lifting_cauldron_0_Rs_int_2021-08-30_01-27-24_replay.hdf5\n",
      "(400, 7) (400, 1)\n",
      "lifting_cauldron_0_Rs_int_2021-08-30_01-20-33_replay.hdf5\n",
      "(400, 7) (400, 1)\n",
      "lifting_cauldron_0_Rs_int_2021-08-30_01-26-42_replay.hdf5\n",
      "(400, 7) (400, 1)\n",
      "lifting_cauldron_0_Rs_int_2021-08-30_01-22-00_replay.hdf5\n",
      "(400, 7) (400, 1)\n",
      "lifting_cauldron_0_Rs_int_2021-08-30_01-07-51_replay.hdf5\n",
      "(400, 7) (400, 1)\n",
      "lifting_cauldron_0_Rs_int_2021-08-30_01-25-16_replay.hdf5\n",
      "(400, 7) (400, 1)\n",
      "lifting_cauldron_0_Rs_int_2021-08-30_01-12-38_replay.hdf5\n",
      "(600, 7) (600, 1)\n",
      "lifting_cauldron_0_Rs_int_2021-08-30_01-16-05_replay.hdf5\n",
      "(600, 7) (600, 1)\n",
      "lifting_cauldron_0_Rs_int_2021-08-30_01-10-55_replay.hdf5\n",
      "(600, 7) (600, 1)\n",
      "lifting_cauldron_0_Rs_int_2021-08-30_01-09-21_replay.hdf5\n",
      "(600, 7) (600, 1)\n",
      "lifting_cauldron_0_Rs_int_2021-08-30_01-14-20_replay.hdf5\n",
      "(600, 7) (600, 1)\n",
      "lifting_cauldron_0_Rs_int_2021-08-30_01-16-58_replay.hdf5\n",
      "(400, 7) (400, 1)\n",
      "lifting_cauldron_0_Rs_int_2021-08-30_01-28-06_replay.hdf5\n",
      "(400, 7) (400, 1)\n",
      "lifting_cauldron_0_Rs_int_2021-08-30_01-24-28_replay.hdf5\n",
      "(400, 7) (400, 1)\n",
      "lifting_cauldron_0_Rs_int_2021-08-30_01-08-38_replay.hdf5\n",
      "(400, 7) (400, 1)\n",
      "lifting_cauldron_0_Rs_int_2021-08-30_01-17-43_replay.hdf5\n",
      "(400, 7) (400, 1)\n",
      "lifting_cauldron_0_Rs_int_2021-08-30_01-13-27_replay.hdf5\n",
      "(600, 7) (600, 1)\n",
      "0 tensor(0.0067, device='cuda:0', grad_fn=<MseLossBackward>)\n",
      "0 tensor(0.0020, device='cuda:0', grad_fn=<MseLossBackward>)\n",
      "0 tensor(0.0007, device='cuda:0', grad_fn=<MseLossBackward>)\n",
      "0 tensor(0.0005, device='cuda:0', grad_fn=<MseLossBackward>)\n",
      "0 tensor(0.0006, device='cuda:0', grad_fn=<MseLossBackward>)\n",
      "0 tensor(0.0005, device='cuda:0', grad_fn=<MseLossBackward>)\n",
      "0 tensor(0.0004, device='cuda:0', grad_fn=<MseLossBackward>)\n",
      "0 tensor(0.0003, device='cuda:0', grad_fn=<MseLossBackward>)\n",
      "0 tensor(0.0005, device='cuda:0', grad_fn=<MseLossBackward>)\n",
      "0 tensor(0.0004, device='cuda:0', grad_fn=<MseLossBackward>)\n",
      "0 tensor(0.0003, device='cuda:0', grad_fn=<MseLossBackward>)\n",
      "0 tensor(0.0003, device='cuda:0', grad_fn=<MseLossBackward>)\n",
      "0 tensor(0.0005, device='cuda:0', grad_fn=<MseLossBackward>)\n",
      "0 tensor(0.0003, device='cuda:0', grad_fn=<MseLossBackward>)\n",
      "0 tensor(0.0002, device='cuda:0', grad_fn=<MseLossBackward>)\n",
      "0 tensor(0.0004, device='cuda:0', grad_fn=<MseLossBackward>)\n",
      "0 tensor(0.0003, device='cuda:0', grad_fn=<MseLossBackward>)\n",
      "0 tensor(0.0003, device='cuda:0', grad_fn=<MseLossBackward>)\n",
      "0 tensor(0.0004, device='cuda:0', grad_fn=<MseLossBackward>)\n",
      "0 tensor(0.0003, device='cuda:0', grad_fn=<MseLossBackward>)\n",
      "0 tensor(0.0002, device='cuda:0', grad_fn=<MseLossBackward>)\n"
     ]
    },
    {
     "name": "stderr",
     "output_type": "stream",
     "text": [
      "[W pthreadpool-cpp.cc:90] Warning: Leaking Caffe2 thread-pool after fork. (function pthreadpool)\n",
      "[W pthreadpool-cpp.cc:90] Warning: Leaking Caffe2 thread-pool after fork. (function pthreadpool)\n",
      "[W pthreadpool-cpp.cc:90] Warning: Leaking Caffe2 thread-pool after fork. (function pthreadpool)\n",
      "[W pthreadpool-cpp.cc:90] Warning: Leaking Caffe2 thread-pool after fork. (function pthreadpool)\n",
      "[W pthreadpool-cpp.cc:90] Warning: Leaking Caffe2 thread-pool after fork. (function pthreadpool)\n",
      "[W pthreadpool-cpp.cc:90] Warning: Leaking Caffe2 thread-pool after fork. (function pthreadpool)\n",
      "[W pthreadpool-cpp.cc:90] Warning: Leaking Caffe2 thread-pool after fork. (function pthreadpool)\n",
      "[W pthreadpool-cpp.cc:90] Warning: Leaking Caffe2 thread-pool after fork. (function pthreadpool)\n"
     ]
    },
    {
     "name": "stdout",
     "output_type": "stream",
     "text": [
      "1 tensor(0.0003, device='cuda:0', grad_fn=<MseLossBackward>)\n",
      "1 tensor(0.0003, device='cuda:0', grad_fn=<MseLossBackward>)\n",
      "1 tensor(0.0004, device='cuda:0', grad_fn=<MseLossBackward>)\n",
      "1 tensor(0.0003, device='cuda:0', grad_fn=<MseLossBackward>)\n",
      "1 tensor(0.0004, device='cuda:0', grad_fn=<MseLossBackward>)\n",
      "1 tensor(0.0002, device='cuda:0', grad_fn=<MseLossBackward>)\n",
      "1 tensor(0.0003, device='cuda:0', grad_fn=<MseLossBackward>)\n",
      "1 tensor(0.0003, device='cuda:0', grad_fn=<MseLossBackward>)\n",
      "1 tensor(0.0003, device='cuda:0', grad_fn=<MseLossBackward>)\n",
      "1 tensor(0.0002, device='cuda:0', grad_fn=<MseLossBackward>)\n",
      "1 tensor(0.0002, device='cuda:0', grad_fn=<MseLossBackward>)\n",
      "1 tensor(0.0002, device='cuda:0', grad_fn=<MseLossBackward>)\n",
      "1 tensor(0.0002, device='cuda:0', grad_fn=<MseLossBackward>)\n",
      "1 tensor(0.0002, device='cuda:0', grad_fn=<MseLossBackward>)\n",
      "1 tensor(0.0002, device='cuda:0', grad_fn=<MseLossBackward>)\n",
      "1 tensor(0.0002, device='cuda:0', grad_fn=<MseLossBackward>)\n",
      "1 tensor(0.0002, device='cuda:0', grad_fn=<MseLossBackward>)\n",
      "1 tensor(0.0002, device='cuda:0', grad_fn=<MseLossBackward>)\n"
     ]
    },
    {
     "name": "stderr",
     "output_type": "stream",
     "text": [
      "[W pthreadpool-cpp.cc:90] Warning: Leaking Caffe2 thread-pool after fork. (function pthreadpool)\n"
     ]
    },
    {
     "name": "stdout",
     "output_type": "stream",
     "text": [
      "1 tensor(0.0002, device='cuda:0', grad_fn=<MseLossBackward>)\n",
      "1 tensor(0.0002, device='cuda:0', grad_fn=<MseLossBackward>)\n",
      "1 tensor(0.0002, device='cuda:0', grad_fn=<MseLossBackward>)\n"
     ]
    },
    {
     "name": "stderr",
     "output_type": "stream",
     "text": [
      "[W pthreadpool-cpp.cc:90] Warning: Leaking Caffe2 thread-pool after fork. (function pthreadpool)\n",
      "[W pthreadpool-cpp.cc:90] Warning: Leaking Caffe2 thread-pool after fork. (function pthreadpool)\n",
      "[W pthreadpool-cpp.cc:90] Warning: Leaking Caffe2 thread-pool after fork. (function pthreadpool)\n",
      "[W pthreadpool-cpp.cc:90] Warning: Leaking Caffe2 thread-pool after fork. (function pthreadpool)\n",
      "[W pthreadpool-cpp.cc:90] Warning: Leaking Caffe2 thread-pool after fork. (function pthreadpool)\n",
      "[W pthreadpool-cpp.cc:90] Warning: Leaking Caffe2 thread-pool after fork. (function pthreadpool)\n",
      "[W pthreadpool-cpp.cc:90] Warning: Leaking Caffe2 thread-pool after fork. (function pthreadpool)\n",
      "[W pthreadpool-cpp.cc:90] Warning: Leaking Caffe2 thread-pool after fork. (function pthreadpool)\n",
      "[W pthreadpool-cpp.cc:90] Warning: Leaking Caffe2 thread-pool after fork. (function pthreadpool)\n"
     ]
    },
    {
     "name": "stdout",
     "output_type": "stream",
     "text": [
      "2 tensor(0.0002, device='cuda:0', grad_fn=<MseLossBackward>)\n",
      "2 tensor(0.0003, device='cuda:0', grad_fn=<MseLossBackward>)\n",
      "2 tensor(0.0002, device='cuda:0', grad_fn=<MseLossBackward>)\n",
      "2 tensor(0.0002, device='cuda:0', grad_fn=<MseLossBackward>)\n",
      "2 tensor(0.0003, device='cuda:0', grad_fn=<MseLossBackward>)\n",
      "2 tensor(0.0001, device='cuda:0', grad_fn=<MseLossBackward>)\n",
      "2 tensor(0.0002, device='cuda:0', grad_fn=<MseLossBackward>)\n",
      "2 tensor(0.0002, device='cuda:0', grad_fn=<MseLossBackward>)\n",
      "2 tensor(0.0002, device='cuda:0', grad_fn=<MseLossBackward>)\n",
      "2 tensor(0.0003, device='cuda:0', grad_fn=<MseLossBackward>)\n",
      "2 tensor(0.0003, device='cuda:0', grad_fn=<MseLossBackward>)\n",
      "2 tensor(0.0002, device='cuda:0', grad_fn=<MseLossBackward>)\n",
      "2 tensor(0.0003, device='cuda:0', grad_fn=<MseLossBackward>)\n",
      "2 tensor(0.0002, device='cuda:0', grad_fn=<MseLossBackward>)\n",
      "2 tensor(0.0002, device='cuda:0', grad_fn=<MseLossBackward>)\n",
      "2 tensor(0.0002, device='cuda:0', grad_fn=<MseLossBackward>)\n",
      "2 tensor(0.0002, device='cuda:0', grad_fn=<MseLossBackward>)\n",
      "2 tensor(0.0003, device='cuda:0', grad_fn=<MseLossBackward>)\n"
     ]
    },
    {
     "name": "stderr",
     "output_type": "stream",
     "text": [
      "[W pthreadpool-cpp.cc:90] Warning: Leaking Caffe2 thread-pool after fork. (function pthreadpool)\n"
     ]
    },
    {
     "name": "stdout",
     "output_type": "stream",
     "text": [
      "2 tensor(0.0003, device='cuda:0', grad_fn=<MseLossBackward>)\n",
      "2 tensor(0.0001, device='cuda:0', grad_fn=<MseLossBackward>)\n",
      "2 tensor(0.0001, device='cuda:0', grad_fn=<MseLossBackward>)\n"
     ]
    },
    {
     "name": "stderr",
     "output_type": "stream",
     "text": [
      "[W pthreadpool-cpp.cc:90] Warning: Leaking Caffe2 thread-pool after fork. (function pthreadpool)\n",
      "[W pthreadpool-cpp.cc:90] Warning: Leaking Caffe2 thread-pool after fork. (function pthreadpool)\n",
      "[W pthreadpool-cpp.cc:90] Warning: Leaking Caffe2 thread-pool after fork. (function pthreadpool)\n",
      "[W pthreadpool-cpp.cc:90] Warning: Leaking Caffe2 thread-pool after fork. (function pthreadpool)\n",
      "[W pthreadpool-cpp.cc:90] Warning: Leaking Caffe2 thread-pool after fork. (function pthreadpool)\n",
      "[W pthreadpool-cpp.cc:90] Warning: Leaking Caffe2 thread-pool after fork. (function pthreadpool)\n",
      "[W pthreadpool-cpp.cc:90] Warning: Leaking Caffe2 thread-pool after fork. (function pthreadpool)\n",
      "[W pthreadpool-cpp.cc:90] Warning: Leaking Caffe2 thread-pool after fork. (function pthreadpool)\n"
     ]
    },
    {
     "name": "stdout",
     "output_type": "stream",
     "text": [
      "3 tensor(0.0002, device='cuda:0', grad_fn=<MseLossBackward>)\n",
      "3 tensor(0.0003, device='cuda:0', grad_fn=<MseLossBackward>)\n",
      "3 tensor(0.0002, device='cuda:0', grad_fn=<MseLossBackward>)\n",
      "3 tensor(0.0002, device='cuda:0', grad_fn=<MseLossBackward>)\n",
      "3 tensor(0.0003, device='cuda:0', grad_fn=<MseLossBackward>)\n",
      "3 tensor(0.0002, device='cuda:0', grad_fn=<MseLossBackward>)\n",
      "3 tensor(0.0002, device='cuda:0', grad_fn=<MseLossBackward>)\n",
      "3 tensor(0.0001, device='cuda:0', grad_fn=<MseLossBackward>)\n",
      "3 tensor(0.0002, device='cuda:0', grad_fn=<MseLossBackward>)\n",
      "3 tensor(0.0002, device='cuda:0', grad_fn=<MseLossBackward>)\n",
      "3 tensor(0.0002, device='cuda:0', grad_fn=<MseLossBackward>)\n",
      "3 tensor(0.0003, device='cuda:0', grad_fn=<MseLossBackward>)\n",
      "3 tensor(0.0002, device='cuda:0', grad_fn=<MseLossBackward>)\n",
      "3 tensor(0.0002, device='cuda:0', grad_fn=<MseLossBackward>)\n",
      "3 tensor(0.0002, device='cuda:0', grad_fn=<MseLossBackward>)\n",
      "3 tensor(0.0003, device='cuda:0', grad_fn=<MseLossBackward>)\n",
      "3 tensor(0.0002, device='cuda:0', grad_fn=<MseLossBackward>)\n",
      "3 tensor(0.0002, device='cuda:0', grad_fn=<MseLossBackward>)\n",
      "3 tensor(0.0002, device='cuda:0', grad_fn=<MseLossBackward>)\n",
      "3 tensor(0.0001, device='cuda:0', grad_fn=<MseLossBackward>)\n",
      "3 tensor(0.0001, device='cuda:0', grad_fn=<MseLossBackward>)\n"
     ]
    },
    {
     "name": "stderr",
     "output_type": "stream",
     "text": [
      "[W pthreadpool-cpp.cc:90] Warning: Leaking Caffe2 thread-pool after fork. (function pthreadpool)\n",
      "[W pthreadpool-cpp.cc:90] Warning: Leaking Caffe2 thread-pool after fork. (function pthreadpool)\n",
      "[W pthreadpool-cpp.cc:90] Warning: Leaking Caffe2 thread-pool after fork. (function pthreadpool)\n",
      "[W pthreadpool-cpp.cc:90] Warning: Leaking Caffe2 thread-pool after fork. (function pthreadpool)\n",
      "[W pthreadpool-cpp.cc:90] Warning: Leaking Caffe2 thread-pool after fork. (function pthreadpool)\n",
      "[W pthreadpool-cpp.cc:90] Warning: Leaking Caffe2 thread-pool after fork. (function pthreadpool)\n",
      "[W pthreadpool-cpp.cc:90] Warning: Leaking Caffe2 thread-pool after fork. (function pthreadpool)\n",
      "[W pthreadpool-cpp.cc:90] Warning: Leaking Caffe2 thread-pool after fork. (function pthreadpool)\n"
     ]
    },
    {
     "name": "stdout",
     "output_type": "stream",
     "text": [
      "4 tensor(0.0002, device='cuda:0', grad_fn=<MseLossBackward>)\n",
      "4 tensor(0.0001, device='cuda:0', grad_fn=<MseLossBackward>)\n",
      "4 tensor(0.0002, device='cuda:0', grad_fn=<MseLossBackward>)\n",
      "4 tensor(0.0003, device='cuda:0', grad_fn=<MseLossBackward>)\n",
      "4 tensor(0.0002, device='cuda:0', grad_fn=<MseLossBackward>)\n",
      "4 tensor(0.0002, device='cuda:0', grad_fn=<MseLossBackward>)\n",
      "4 tensor(0.0002, device='cuda:0', grad_fn=<MseLossBackward>)\n",
      "4 tensor(0.0002, device='cuda:0', grad_fn=<MseLossBackward>)\n",
      "4 tensor(0.0002, device='cuda:0', grad_fn=<MseLossBackward>)\n",
      "4 tensor(0.0002, device='cuda:0', grad_fn=<MseLossBackward>)\n",
      "4 tensor(0.0002, device='cuda:0', grad_fn=<MseLossBackward>)\n",
      "4 tensor(0.0002, device='cuda:0', grad_fn=<MseLossBackward>)\n",
      "4 tensor(0.0001, device='cuda:0', grad_fn=<MseLossBackward>)\n",
      "4 tensor(0.0002, device='cuda:0', grad_fn=<MseLossBackward>)\n",
      "4 tensor(0.0001, device='cuda:0', grad_fn=<MseLossBackward>)\n",
      "4 tensor(0.0001, device='cuda:0', grad_fn=<MseLossBackward>)\n",
      "4 tensor(0.0002, device='cuda:0', grad_fn=<MseLossBackward>)\n",
      "4 tensor(0.0002, device='cuda:0', grad_fn=<MseLossBackward>)\n"
     ]
    },
    {
     "name": "stderr",
     "output_type": "stream",
     "text": [
      "[W pthreadpool-cpp.cc:90] Warning: Leaking Caffe2 thread-pool after fork. (function pthreadpool)\n"
     ]
    },
    {
     "name": "stdout",
     "output_type": "stream",
     "text": [
      "4 tensor(0.0002, device='cuda:0', grad_fn=<MseLossBackward>)\n",
      "4 tensor(0.0003, device='cuda:0', grad_fn=<MseLossBackward>)\n",
      "4 tensor(0.0002, device='cuda:0', grad_fn=<MseLossBackward>)\n"
     ]
    },
    {
     "name": "stderr",
     "output_type": "stream",
     "text": [
      "[W pthreadpool-cpp.cc:90] Warning: Leaking Caffe2 thread-pool after fork. (function pthreadpool)\n",
      "[W pthreadpool-cpp.cc:90] Warning: Leaking Caffe2 thread-pool after fork. (function pthreadpool)\n",
      "[W pthreadpool-cpp.cc:90] Warning: Leaking Caffe2 thread-pool after fork. (function pthreadpool)\n",
      "[W pthreadpool-cpp.cc:90] Warning: Leaking Caffe2 thread-pool after fork. (function pthreadpool)\n",
      "[W pthreadpool-cpp.cc:90] Warning: Leaking Caffe2 thread-pool after fork. (function pthreadpool)\n",
      "[W pthreadpool-cpp.cc:90] Warning: Leaking Caffe2 thread-pool after fork. (function pthreadpool)\n",
      "[W pthreadpool-cpp.cc:90] Warning: Leaking Caffe2 thread-pool after fork. (function pthreadpool)\n",
      "[W pthreadpool-cpp.cc:90] Warning: Leaking Caffe2 thread-pool after fork. (function pthreadpool)\n",
      "[W pthreadpool-cpp.cc:90] Warning: Leaking Caffe2 thread-pool after fork. (function pthreadpool)\n"
     ]
    },
    {
     "name": "stdout",
     "output_type": "stream",
     "text": [
      "5 tensor(0.0001, device='cuda:0', grad_fn=<MseLossBackward>)\n",
      "5 tensor(0.0002, device='cuda:0', grad_fn=<MseLossBackward>)\n",
      "5 tensor(0.0001, device='cuda:0', grad_fn=<MseLossBackward>)\n",
      "5 tensor(0.0001, device='cuda:0', grad_fn=<MseLossBackward>)\n",
      "5 tensor(0.0001, device='cuda:0', grad_fn=<MseLossBackward>)\n",
      "5 tensor(0.0003, device='cuda:0', grad_fn=<MseLossBackward>)\n",
      "5 tensor(0.0002, device='cuda:0', grad_fn=<MseLossBackward>)\n",
      "5 tensor(0.0002, device='cuda:0', grad_fn=<MseLossBackward>)\n",
      "5 tensor(0.0003, device='cuda:0', grad_fn=<MseLossBackward>)\n",
      "5 tensor(0.0002, device='cuda:0', grad_fn=<MseLossBackward>)\n",
      "5 tensor(0.0003, device='cuda:0', grad_fn=<MseLossBackward>)\n",
      "5 tensor(0.0002, device='cuda:0', grad_fn=<MseLossBackward>)\n",
      "5 tensor(0.0001, device='cuda:0', grad_fn=<MseLossBackward>)\n",
      "5 tensor(0.0002, device='cuda:0', grad_fn=<MseLossBackward>)\n",
      "5 tensor(0.0002, device='cuda:0', grad_fn=<MseLossBackward>)\n",
      "5 tensor(0.0002, device='cuda:0', grad_fn=<MseLossBackward>)\n",
      "5 tensor(0.0002, device='cuda:0', grad_fn=<MseLossBackward>)\n",
      "5 tensor(0.0002, device='cuda:0', grad_fn=<MseLossBackward>)\n",
      "5 tensor(0.0002, device='cuda:0', grad_fn=<MseLossBackward>)\n",
      "5 tensor(0.0002, device='cuda:0', grad_fn=<MseLossBackward>)\n",
      "5 tensor(0.0001, device='cuda:0', grad_fn=<MseLossBackward>)\n"
     ]
    },
    {
     "name": "stderr",
     "output_type": "stream",
     "text": [
      "[W pthreadpool-cpp.cc:90] Warning: Leaking Caffe2 thread-pool after fork. (function pthreadpool)\n",
      "[W pthreadpool-cpp.cc:90] Warning: Leaking Caffe2 thread-pool after fork. (function pthreadpool)\n",
      "[W pthreadpool-cpp.cc:90] Warning: Leaking Caffe2 thread-pool after fork. (function pthreadpool)\n",
      "[W pthreadpool-cpp.cc:90] Warning: Leaking Caffe2 thread-pool after fork. (function pthreadpool)\n",
      "[W pthreadpool-cpp.cc:90] Warning: Leaking Caffe2 thread-pool after fork. (function pthreadpool)\n",
      "[W pthreadpool-cpp.cc:90] Warning: Leaking Caffe2 thread-pool after fork. (function pthreadpool)\n",
      "[W pthreadpool-cpp.cc:90] Warning: Leaking Caffe2 thread-pool after fork. (function pthreadpool)\n",
      "[W pthreadpool-cpp.cc:90] Warning: Leaking Caffe2 thread-pool after fork. (function pthreadpool)\n",
      "[W pthreadpool-cpp.cc:90] Warning: Leaking Caffe2 thread-pool after fork. (function pthreadpool)\n"
     ]
    },
    {
     "name": "stdout",
     "output_type": "stream",
     "text": [
      "6 tensor(0.0002, device='cuda:0', grad_fn=<MseLossBackward>)\n",
      "6 tensor(0.0002, device='cuda:0', grad_fn=<MseLossBackward>)\n",
      "6 tensor(0.0001, device='cuda:0', grad_fn=<MseLossBackward>)\n",
      "6 tensor(0.0002, device='cuda:0', grad_fn=<MseLossBackward>)\n",
      "6 tensor(0.0002, device='cuda:0', grad_fn=<MseLossBackward>)\n",
      "6 tensor(0.0002, device='cuda:0', grad_fn=<MseLossBackward>)\n",
      "6 tensor(0.0003, device='cuda:0', grad_fn=<MseLossBackward>)\n",
      "6 tensor(0.0001, device='cuda:0', grad_fn=<MseLossBackward>)\n",
      "6 tensor(0.0002, device='cuda:0', grad_fn=<MseLossBackward>)\n",
      "6 tensor(0.0002, device='cuda:0', grad_fn=<MseLossBackward>)\n",
      "6 tensor(0.0001, device='cuda:0', grad_fn=<MseLossBackward>)\n",
      "6 tensor(0.0002, device='cuda:0', grad_fn=<MseLossBackward>)\n",
      "6 tensor(0.0002, device='cuda:0', grad_fn=<MseLossBackward>)\n",
      "6 tensor(0.0002, device='cuda:0', grad_fn=<MseLossBackward>)\n",
      "6 tensor(0.0002, device='cuda:0', grad_fn=<MseLossBackward>)\n",
      "6 tensor(0.0002, device='cuda:0', grad_fn=<MseLossBackward>)\n",
      "6 tensor(0.0001, device='cuda:0', grad_fn=<MseLossBackward>)\n",
      "6 tensor(0.0003, device='cuda:0', grad_fn=<MseLossBackward>)\n"
     ]
    },
    {
     "name": "stderr",
     "output_type": "stream",
     "text": [
      "[W pthreadpool-cpp.cc:90] Warning: Leaking Caffe2 thread-pool after fork. (function pthreadpool)\n"
     ]
    },
    {
     "name": "stdout",
     "output_type": "stream",
     "text": [
      "6 tensor(0.0002, device='cuda:0', grad_fn=<MseLossBackward>)\n",
      "6 tensor(0.0002, device='cuda:0', grad_fn=<MseLossBackward>)\n",
      "6 tensor(0.0002, device='cuda:0', grad_fn=<MseLossBackward>)\n"
     ]
    },
    {
     "name": "stderr",
     "output_type": "stream",
     "text": [
      "[W pthreadpool-cpp.cc:90] Warning: Leaking Caffe2 thread-pool after fork. (function pthreadpool)\n",
      "[W pthreadpool-cpp.cc:90] Warning: Leaking Caffe2 thread-pool after fork. (function pthreadpool)\n",
      "[W pthreadpool-cpp.cc:90] Warning: Leaking Caffe2 thread-pool after fork. (function pthreadpool)\n",
      "[W pthreadpool-cpp.cc:90] Warning: Leaking Caffe2 thread-pool after fork. (function pthreadpool)\n",
      "[W pthreadpool-cpp.cc:90] Warning: Leaking Caffe2 thread-pool after fork. (function pthreadpool)\n",
      "[W pthreadpool-cpp.cc:90] Warning: Leaking Caffe2 thread-pool after fork. (function pthreadpool)\n",
      "[W pthreadpool-cpp.cc:90] Warning: Leaking Caffe2 thread-pool after fork. (function pthreadpool)\n",
      "[W pthreadpool-cpp.cc:90] Warning: Leaking Caffe2 thread-pool after fork. (function pthreadpool)\n"
     ]
    },
    {
     "name": "stdout",
     "output_type": "stream",
     "text": [
      "7 tensor(0.0002, device='cuda:0', grad_fn=<MseLossBackward>)\n",
      "7 tensor(0.0002, device='cuda:0', grad_fn=<MseLossBackward>)\n",
      "7 tensor(0.0003, device='cuda:0', grad_fn=<MseLossBackward>)\n",
      "7 tensor(0.0001, device='cuda:0', grad_fn=<MseLossBackward>)\n",
      "7 tensor(0.0002, device='cuda:0', grad_fn=<MseLossBackward>)\n",
      "7 tensor(0.0002, device='cuda:0', grad_fn=<MseLossBackward>)\n",
      "7 tensor(0.0001, device='cuda:0', grad_fn=<MseLossBackward>)\n",
      "7 tensor(0.0002, device='cuda:0', grad_fn=<MseLossBackward>)\n",
      "7 tensor(0.0003, device='cuda:0', grad_fn=<MseLossBackward>)\n",
      "7 tensor(0.0001, device='cuda:0', grad_fn=<MseLossBackward>)\n",
      "7 tensor(0.0002, device='cuda:0', grad_fn=<MseLossBackward>)\n",
      "7 tensor(0.0002, device='cuda:0', grad_fn=<MseLossBackward>)\n",
      "7 tensor(0.0001, device='cuda:0', grad_fn=<MseLossBackward>)\n",
      "7 tensor(0.0001, device='cuda:0', grad_fn=<MseLossBackward>)\n",
      "7 tensor(0.0001, device='cuda:0', grad_fn=<MseLossBackward>)\n",
      "7 tensor(0.0002, device='cuda:0', grad_fn=<MseLossBackward>)\n",
      "7 tensor(0.0002, device='cuda:0', grad_fn=<MseLossBackward>)\n"
     ]
    },
    {
     "name": "stderr",
     "output_type": "stream",
     "text": [
      "[W pthreadpool-cpp.cc:90] Warning: Leaking Caffe2 thread-pool after fork. (function pthreadpool)\n"
     ]
    },
    {
     "name": "stdout",
     "output_type": "stream",
     "text": [
      "7 tensor(0.0002, device='cuda:0', grad_fn=<MseLossBackward>)\n",
      "7 tensor(0.0001, device='cuda:0', grad_fn=<MseLossBackward>)\n",
      "7 tensor(0.0002, device='cuda:0', grad_fn=<MseLossBackward>)\n",
      "7 tensor(0.0001, device='cuda:0', grad_fn=<MseLossBackward>)\n"
     ]
    },
    {
     "name": "stderr",
     "output_type": "stream",
     "text": [
      "[W pthreadpool-cpp.cc:90] Warning: Leaking Caffe2 thread-pool after fork. (function pthreadpool)\n",
      "[W pthreadpool-cpp.cc:90] Warning: Leaking Caffe2 thread-pool after fork. (function pthreadpool)\n",
      "[W pthreadpool-cpp.cc:90] Warning: Leaking Caffe2 thread-pool after fork. (function pthreadpool)\n",
      "[W pthreadpool-cpp.cc:90] Warning: Leaking Caffe2 thread-pool after fork. (function pthreadpool)\n",
      "[W pthreadpool-cpp.cc:90] Warning: Leaking Caffe2 thread-pool after fork. (function pthreadpool)\n",
      "[W pthreadpool-cpp.cc:90] Warning: Leaking Caffe2 thread-pool after fork. (function pthreadpool)\n",
      "[W pthreadpool-cpp.cc:90] Warning: Leaking Caffe2 thread-pool after fork. (function pthreadpool)\n",
      "[W pthreadpool-cpp.cc:90] Warning: Leaking Caffe2 thread-pool after fork. (function pthreadpool)\n",
      "[W pthreadpool-cpp.cc:90] Warning: Leaking Caffe2 thread-pool after fork. (function pthreadpool)\n"
     ]
    },
    {
     "name": "stdout",
     "output_type": "stream",
     "text": [
      "8 tensor(0.0001, device='cuda:0', grad_fn=<MseLossBackward>)\n",
      "8 tensor(0.0002, device='cuda:0', grad_fn=<MseLossBackward>)\n",
      "8 tensor(0.0002, device='cuda:0', grad_fn=<MseLossBackward>)\n",
      "8 tensor(0.0001, device='cuda:0', grad_fn=<MseLossBackward>)\n",
      "8 tensor(0.0002, device='cuda:0', grad_fn=<MseLossBackward>)\n",
      "8 tensor(0.0001, device='cuda:0', grad_fn=<MseLossBackward>)\n",
      "8 tensor(0.0001, device='cuda:0', grad_fn=<MseLossBackward>)\n",
      "8 tensor(0.0002, device='cuda:0', grad_fn=<MseLossBackward>)\n",
      "8 tensor(0.0001, device='cuda:0', grad_fn=<MseLossBackward>)\n",
      "8 tensor(0.0002, device='cuda:0', grad_fn=<MseLossBackward>)\n",
      "8 tensor(0.0002, device='cuda:0', grad_fn=<MseLossBackward>)\n",
      "8 tensor(0.0002, device='cuda:0', grad_fn=<MseLossBackward>)\n",
      "8 tensor(0.0002, device='cuda:0', grad_fn=<MseLossBackward>)\n",
      "8 tensor(0.0002, device='cuda:0', grad_fn=<MseLossBackward>)\n",
      "8 tensor(0.0002, device='cuda:0', grad_fn=<MseLossBackward>)\n",
      "8 tensor(0.0001, device='cuda:0', grad_fn=<MseLossBackward>)\n",
      "8 tensor(0.0002, device='cuda:0', grad_fn=<MseLossBackward>)\n",
      "8 tensor(0.0002, device='cuda:0', grad_fn=<MseLossBackward>)\n",
      "8 tensor(0.0002, device='cuda:0', grad_fn=<MseLossBackward>)\n",
      "8 tensor(0.0003, device='cuda:0', grad_fn=<MseLossBackward>)\n",
      "8 tensor(0.0001, device='cuda:0', grad_fn=<MseLossBackward>)\n"
     ]
    },
    {
     "name": "stderr",
     "output_type": "stream",
     "text": [
      "[W pthreadpool-cpp.cc:90] Warning: Leaking Caffe2 thread-pool after fork. (function pthreadpool)\n",
      "[W pthreadpool-cpp.cc:90] Warning: Leaking Caffe2 thread-pool after fork. (function pthreadpool)\n",
      "[W pthreadpool-cpp.cc:90] Warning: Leaking Caffe2 thread-pool after fork. (function pthreadpool)\n",
      "[W pthreadpool-cpp.cc:90] Warning: Leaking Caffe2 thread-pool after fork. (function pthreadpool)\n",
      "[W pthreadpool-cpp.cc:90] Warning: Leaking Caffe2 thread-pool after fork. (function pthreadpool)\n",
      "[W pthreadpool-cpp.cc:90] Warning: Leaking Caffe2 thread-pool after fork. (function pthreadpool)\n",
      "[W pthreadpool-cpp.cc:90] Warning: Leaking Caffe2 thread-pool after fork. (function pthreadpool)\n",
      "[W pthreadpool-cpp.cc:90] Warning: Leaking Caffe2 thread-pool after fork. (function pthreadpool)\n"
     ]
    },
    {
     "name": "stdout",
     "output_type": "stream",
     "text": [
      "9 tensor(0.0002, device='cuda:0', grad_fn=<MseLossBackward>)\n",
      "9 tensor(0.0002, device='cuda:0', grad_fn=<MseLossBackward>)\n",
      "9 tensor(0.0002, device='cuda:0', grad_fn=<MseLossBackward>)\n",
      "9 tensor(0.0002, device='cuda:0', grad_fn=<MseLossBackward>)\n",
      "9 tensor(0.0002, device='cuda:0', grad_fn=<MseLossBackward>)\n",
      "9 tensor(0.0002, device='cuda:0', grad_fn=<MseLossBackward>)\n",
      "9 tensor(0.0002, device='cuda:0', grad_fn=<MseLossBackward>)\n",
      "9 tensor(0.0002, device='cuda:0', grad_fn=<MseLossBackward>)\n",
      "9 tensor(0.0002, device='cuda:0', grad_fn=<MseLossBackward>)\n",
      "9 tensor(0.0001, device='cuda:0', grad_fn=<MseLossBackward>)\n",
      "9 tensor(0.0001, device='cuda:0', grad_fn=<MseLossBackward>)\n",
      "9 tensor(0.0002, device='cuda:0', grad_fn=<MseLossBackward>)\n",
      "9 tensor(0.0002, device='cuda:0', grad_fn=<MseLossBackward>)\n",
      "9 tensor(0.0001, device='cuda:0', grad_fn=<MseLossBackward>)\n",
      "9 tensor(0.0002, device='cuda:0', grad_fn=<MseLossBackward>)\n",
      "9 tensor(0.0003, device='cuda:0', grad_fn=<MseLossBackward>)\n",
      "9 tensor(0.0002, device='cuda:0', grad_fn=<MseLossBackward>)\n",
      "9 tensor(0.0001, device='cuda:0', grad_fn=<MseLossBackward>)\n",
      "9 tensor(0.0001, device='cuda:0', grad_fn=<MseLossBackward>)\n",
      "9 tensor(0.0002, device='cuda:0', grad_fn=<MseLossBackward>)\n",
      "9 tensor(8.7694e-05, device='cuda:0', grad_fn=<MseLossBackward>)\n"
     ]
    },
    {
     "name": "stderr",
     "output_type": "stream",
     "text": [
      "[W pthreadpool-cpp.cc:90] Warning: Leaking Caffe2 thread-pool after fork. (function pthreadpool)\n",
      "[W pthreadpool-cpp.cc:90] Warning: Leaking Caffe2 thread-pool after fork. (function pthreadpool)\n",
      "[W pthreadpool-cpp.cc:90] Warning: Leaking Caffe2 thread-pool after fork. (function pthreadpool)\n",
      "[W pthreadpool-cpp.cc:90] Warning: Leaking Caffe2 thread-pool after fork. (function pthreadpool)\n",
      "[W pthreadpool-cpp.cc:90] Warning: Leaking Caffe2 thread-pool after fork. (function pthreadpool)\n",
      "[W pthreadpool-cpp.cc:90] Warning: Leaking Caffe2 thread-pool after fork. (function pthreadpool)\n",
      "[W pthreadpool-cpp.cc:90] Warning: Leaking Caffe2 thread-pool after fork. (function pthreadpool)\n",
      "[W pthreadpool-cpp.cc:90] Warning: Leaking Caffe2 thread-pool after fork. (function pthreadpool)\n",
      "[W pthreadpool-cpp.cc:90] Warning: Leaking Caffe2 thread-pool after fork. (function pthreadpool)\n",
      "[W pthreadpool-cpp.cc:90] Warning: Leaking Caffe2 thread-pool after fork. (function pthreadpool)\n"
     ]
    },
    {
     "name": "stdout",
     "output_type": "stream",
     "text": [
      "10 tensor(0.0002, device='cuda:0', grad_fn=<MseLossBackward>)\n",
      "10 tensor(0.0001, device='cuda:0', grad_fn=<MseLossBackward>)\n",
      "10 tensor(0.0002, device='cuda:0', grad_fn=<MseLossBackward>)\n",
      "10 tensor(0.0001, device='cuda:0', grad_fn=<MseLossBackward>)\n",
      "10 tensor(0.0002, device='cuda:0', grad_fn=<MseLossBackward>)\n",
      "10 tensor(0.0002, device='cuda:0', grad_fn=<MseLossBackward>)\n",
      "10 tensor(0.0002, device='cuda:0', grad_fn=<MseLossBackward>)\n",
      "10 tensor(0.0002, device='cuda:0', grad_fn=<MseLossBackward>)\n",
      "10 tensor(0.0001, device='cuda:0', grad_fn=<MseLossBackward>)\n",
      "10 tensor(0.0003, device='cuda:0', grad_fn=<MseLossBackward>)\n",
      "10 tensor(0.0001, device='cuda:0', grad_fn=<MseLossBackward>)\n",
      "10 tensor(0.0002, device='cuda:0', grad_fn=<MseLossBackward>)\n",
      "10 tensor(0.0002, device='cuda:0', grad_fn=<MseLossBackward>)\n",
      "10 tensor(0.0001, device='cuda:0', grad_fn=<MseLossBackward>)\n",
      "10 tensor(0.0002, device='cuda:0', grad_fn=<MseLossBackward>)\n",
      "10 tensor(0.0002, device='cuda:0', grad_fn=<MseLossBackward>)\n",
      "10 tensor(0.0002, device='cuda:0', grad_fn=<MseLossBackward>)\n"
     ]
    },
    {
     "name": "stderr",
     "output_type": "stream",
     "text": [
      "[W pthreadpool-cpp.cc:90] Warning: Leaking Caffe2 thread-pool after fork. (function pthreadpool)\n"
     ]
    },
    {
     "name": "stdout",
     "output_type": "stream",
     "text": [
      "10 tensor(0.0002, device='cuda:0', grad_fn=<MseLossBackward>)\n",
      "10 tensor(0.0002, device='cuda:0', grad_fn=<MseLossBackward>)\n",
      "10 tensor(0.0002, device='cuda:0', grad_fn=<MseLossBackward>)\n",
      "10 tensor(0.0001, device='cuda:0', grad_fn=<MseLossBackward>)\n"
     ]
    },
    {
     "name": "stderr",
     "output_type": "stream",
     "text": [
      "[W pthreadpool-cpp.cc:90] Warning: Leaking Caffe2 thread-pool after fork. (function pthreadpool)\n",
      "[W pthreadpool-cpp.cc:90] Warning: Leaking Caffe2 thread-pool after fork. (function pthreadpool)\n",
      "[W pthreadpool-cpp.cc:90] Warning: Leaking Caffe2 thread-pool after fork. (function pthreadpool)\n",
      "[W pthreadpool-cpp.cc:90] Warning: Leaking Caffe2 thread-pool after fork. (function pthreadpool)\n",
      "[W pthreadpool-cpp.cc:90] Warning: Leaking Caffe2 thread-pool after fork. (function pthreadpool)\n",
      "[W pthreadpool-cpp.cc:90] Warning: Leaking Caffe2 thread-pool after fork. (function pthreadpool)\n",
      "[W pthreadpool-cpp.cc:90] Warning: Leaking Caffe2 thread-pool after fork. (function pthreadpool)\n",
      "[W pthreadpool-cpp.cc:90] Warning: Leaking Caffe2 thread-pool after fork. (function pthreadpool)\n",
      "[W pthreadpool-cpp.cc:90] Warning: Leaking Caffe2 thread-pool after fork. (function pthreadpool)\n",
      "[W pthreadpool-cpp.cc:90] Warning: Leaking Caffe2 thread-pool after fork. (function pthreadpool)\n"
     ]
    },
    {
     "name": "stdout",
     "output_type": "stream",
     "text": [
      "11 tensor(0.0002, device='cuda:0', grad_fn=<MseLossBackward>)\n",
      "11 tensor(0.0002, device='cuda:0', grad_fn=<MseLossBackward>)\n",
      "11 tensor(0.0002, device='cuda:0', grad_fn=<MseLossBackward>)\n",
      "11 tensor(0.0001, device='cuda:0', grad_fn=<MseLossBackward>)\n",
      "11 tensor(0.0002, device='cuda:0', grad_fn=<MseLossBackward>)\n",
      "11 tensor(0.0002, device='cuda:0', grad_fn=<MseLossBackward>)\n",
      "11 tensor(0.0001, device='cuda:0', grad_fn=<MseLossBackward>)\n",
      "11 tensor(0.0003, device='cuda:0', grad_fn=<MseLossBackward>)\n",
      "11 tensor(0.0002, device='cuda:0', grad_fn=<MseLossBackward>)\n",
      "11 tensor(0.0002, device='cuda:0', grad_fn=<MseLossBackward>)\n",
      "11 tensor(0.0001, device='cuda:0', grad_fn=<MseLossBackward>)\n",
      "11 tensor(0.0001, device='cuda:0', grad_fn=<MseLossBackward>)\n",
      "11 tensor(0.0002, device='cuda:0', grad_fn=<MseLossBackward>)\n",
      "11 tensor(0.0001, device='cuda:0', grad_fn=<MseLossBackward>)\n",
      "11 tensor(0.0001, device='cuda:0', grad_fn=<MseLossBackward>)\n",
      "11 tensor(0.0002, device='cuda:0', grad_fn=<MseLossBackward>)\n",
      "11 tensor(0.0001, device='cuda:0', grad_fn=<MseLossBackward>)\n"
     ]
    },
    {
     "name": "stderr",
     "output_type": "stream",
     "text": [
      "[W pthreadpool-cpp.cc:90] Warning: Leaking Caffe2 thread-pool after fork. (function pthreadpool)\n"
     ]
    },
    {
     "name": "stdout",
     "output_type": "stream",
     "text": [
      "11 tensor(0.0002, device='cuda:0', grad_fn=<MseLossBackward>)\n",
      "11 tensor(0.0001, device='cuda:0', grad_fn=<MseLossBackward>)\n",
      "11 tensor(0.0002, device='cuda:0', grad_fn=<MseLossBackward>)\n",
      "11 tensor(0.0001, device='cuda:0', grad_fn=<MseLossBackward>)\n"
     ]
    },
    {
     "name": "stderr",
     "output_type": "stream",
     "text": [
      "[W pthreadpool-cpp.cc:90] Warning: Leaking Caffe2 thread-pool after fork. (function pthreadpool)\n",
      "[W pthreadpool-cpp.cc:90] Warning: Leaking Caffe2 thread-pool after fork. (function pthreadpool)\n",
      "[W pthreadpool-cpp.cc:90] Warning: Leaking Caffe2 thread-pool after fork. (function pthreadpool)\n",
      "[W pthreadpool-cpp.cc:90] Warning: Leaking Caffe2 thread-pool after fork. (function pthreadpool)\n",
      "[W pthreadpool-cpp.cc:90] Warning: Leaking Caffe2 thread-pool after fork. (function pthreadpool)\n",
      "[W pthreadpool-cpp.cc:90] Warning: Leaking Caffe2 thread-pool after fork. (function pthreadpool)\n",
      "[W pthreadpool-cpp.cc:90] Warning: Leaking Caffe2 thread-pool after fork. (function pthreadpool)\n",
      "[W pthreadpool-cpp.cc:90] Warning: Leaking Caffe2 thread-pool after fork. (function pthreadpool)\n"
     ]
    },
    {
     "name": "stdout",
     "output_type": "stream",
     "text": [
      "12 tensor(0.0001, device='cuda:0', grad_fn=<MseLossBackward>)\n",
      "12 tensor(0.0001, device='cuda:0', grad_fn=<MseLossBackward>)\n",
      "12 tensor(0.0001, device='cuda:0', grad_fn=<MseLossBackward>)\n",
      "12 tensor(0.0002, device='cuda:0', grad_fn=<MseLossBackward>)\n",
      "12 tensor(0.0002, device='cuda:0', grad_fn=<MseLossBackward>)\n",
      "12 tensor(0.0003, device='cuda:0', grad_fn=<MseLossBackward>)\n",
      "12 tensor(0.0002, device='cuda:0', grad_fn=<MseLossBackward>)\n",
      "12 tensor(0.0001, device='cuda:0', grad_fn=<MseLossBackward>)\n",
      "12 tensor(0.0002, device='cuda:0', grad_fn=<MseLossBackward>)\n",
      "12 tensor(0.0001, device='cuda:0', grad_fn=<MseLossBackward>)\n",
      "12 tensor(0.0002, device='cuda:0', grad_fn=<MseLossBackward>)\n",
      "12 tensor(0.0001, device='cuda:0', grad_fn=<MseLossBackward>)\n",
      "12 tensor(0.0001, device='cuda:0', grad_fn=<MseLossBackward>)\n",
      "12 tensor(0.0002, device='cuda:0', grad_fn=<MseLossBackward>)\n",
      "12 tensor(0.0002, device='cuda:0', grad_fn=<MseLossBackward>)\n",
      "12 tensor(0.0002, device='cuda:0', grad_fn=<MseLossBackward>)\n",
      "12 tensor(0.0002, device='cuda:0', grad_fn=<MseLossBackward>)\n",
      "12 tensor(0.0002, device='cuda:0', grad_fn=<MseLossBackward>)\n",
      "12 tensor(0.0002, device='cuda:0', grad_fn=<MseLossBackward>)\n",
      "12 tensor(0.0002, device='cuda:0', grad_fn=<MseLossBackward>)\n",
      "12 tensor(0.0001, device='cuda:0', grad_fn=<MseLossBackward>)\n"
     ]
    },
    {
     "name": "stderr",
     "output_type": "stream",
     "text": [
      "[W pthreadpool-cpp.cc:90] Warning: Leaking Caffe2 thread-pool after fork. (function pthreadpool)\n",
      "[W pthreadpool-cpp.cc:90] Warning: Leaking Caffe2 thread-pool after fork. (function pthreadpool)\n",
      "[W pthreadpool-cpp.cc:90] Warning: Leaking Caffe2 thread-pool after fork. (function pthreadpool)\n",
      "[W pthreadpool-cpp.cc:90] Warning: Leaking Caffe2 thread-pool after fork. (function pthreadpool)\n",
      "[W pthreadpool-cpp.cc:90] Warning: Leaking Caffe2 thread-pool after fork. (function pthreadpool)\n",
      "[W pthreadpool-cpp.cc:90] Warning: Leaking Caffe2 thread-pool after fork. (function pthreadpool)\n",
      "[W pthreadpool-cpp.cc:90] Warning: Leaking Caffe2 thread-pool after fork. (function pthreadpool)\n",
      "[W pthreadpool-cpp.cc:90] Warning: Leaking Caffe2 thread-pool after fork. (function pthreadpool)\n"
     ]
    },
    {
     "name": "stdout",
     "output_type": "stream",
     "text": [
      "13 tensor(0.0003, device='cuda:0', grad_fn=<MseLossBackward>)\n",
      "13 tensor(0.0001, device='cuda:0', grad_fn=<MseLossBackward>)\n",
      "13 tensor(0.0001, device='cuda:0', grad_fn=<MseLossBackward>)\n",
      "13 tensor(0.0002, device='cuda:0', grad_fn=<MseLossBackward>)\n",
      "13 tensor(0.0002, device='cuda:0', grad_fn=<MseLossBackward>)\n",
      "13 tensor(0.0002, device='cuda:0', grad_fn=<MseLossBackward>)\n",
      "13 tensor(0.0003, device='cuda:0', grad_fn=<MseLossBackward>)\n",
      "13 tensor(0.0001, device='cuda:0', grad_fn=<MseLossBackward>)\n",
      "13 tensor(0.0001, device='cuda:0', grad_fn=<MseLossBackward>)\n",
      "13 tensor(0.0001, device='cuda:0', grad_fn=<MseLossBackward>)\n",
      "13 tensor(0.0002, device='cuda:0', grad_fn=<MseLossBackward>)\n",
      "13 tensor(0.0002, device='cuda:0', grad_fn=<MseLossBackward>)\n",
      "13 tensor(0.0001, device='cuda:0', grad_fn=<MseLossBackward>)\n",
      "13 tensor(0.0002, device='cuda:0', grad_fn=<MseLossBackward>)\n",
      "13 tensor(0.0001, device='cuda:0', grad_fn=<MseLossBackward>)\n",
      "13 tensor(0.0002, device='cuda:0', grad_fn=<MseLossBackward>)\n"
     ]
    },
    {
     "name": "stderr",
     "output_type": "stream",
     "text": [
      "[W pthreadpool-cpp.cc:90] Warning: Leaking Caffe2 thread-pool after fork. (function pthreadpool)\n"
     ]
    },
    {
     "name": "stdout",
     "output_type": "stream",
     "text": [
      "13 tensor(0.0001, device='cuda:0', grad_fn=<MseLossBackward>)\n",
      "13 tensor(0.0002, device='cuda:0', grad_fn=<MseLossBackward>)\n",
      "13 tensor(0.0001, device='cuda:0', grad_fn=<MseLossBackward>)\n",
      "13 tensor(0.0002, device='cuda:0', grad_fn=<MseLossBackward>)\n",
      "13 tensor(0.0001, device='cuda:0', grad_fn=<MseLossBackward>)\n"
     ]
    },
    {
     "name": "stderr",
     "output_type": "stream",
     "text": [
      "[W pthreadpool-cpp.cc:90] Warning: Leaking Caffe2 thread-pool after fork. (function pthreadpool)\n",
      "[W pthreadpool-cpp.cc:90] Warning: Leaking Caffe2 thread-pool after fork. (function pthreadpool)\n",
      "[W pthreadpool-cpp.cc:90] Warning: Leaking Caffe2 thread-pool after fork. (function pthreadpool)\n",
      "[W pthreadpool-cpp.cc:90] Warning: Leaking Caffe2 thread-pool after fork. (function pthreadpool)\n",
      "[W pthreadpool-cpp.cc:90] Warning: Leaking Caffe2 thread-pool after fork. (function pthreadpool)\n",
      "[W pthreadpool-cpp.cc:90] Warning: Leaking Caffe2 thread-pool after fork. (function pthreadpool)\n",
      "[W pthreadpool-cpp.cc:90] Warning: Leaking Caffe2 thread-pool after fork. (function pthreadpool)\n",
      "[W pthreadpool-cpp.cc:90] Warning: Leaking Caffe2 thread-pool after fork. (function pthreadpool)\n"
     ]
    },
    {
     "name": "stdout",
     "output_type": "stream",
     "text": [
      "14 tensor(0.0002, device='cuda:0', grad_fn=<MseLossBackward>)\n",
      "14 tensor(0.0002, device='cuda:0', grad_fn=<MseLossBackward>)\n",
      "14 tensor(0.0002, device='cuda:0', grad_fn=<MseLossBackward>)\n",
      "14 tensor(0.0002, device='cuda:0', grad_fn=<MseLossBackward>)\n",
      "14 tensor(0.0002, device='cuda:0', grad_fn=<MseLossBackward>)\n",
      "14 tensor(0.0002, device='cuda:0', grad_fn=<MseLossBackward>)\n",
      "14 tensor(0.0002, device='cuda:0', grad_fn=<MseLossBackward>)\n",
      "14 tensor(0.0001, device='cuda:0', grad_fn=<MseLossBackward>)\n",
      "14 tensor(0.0001, device='cuda:0', grad_fn=<MseLossBackward>)\n",
      "14 tensor(0.0002, device='cuda:0', grad_fn=<MseLossBackward>)\n",
      "14 tensor(0.0001, device='cuda:0', grad_fn=<MseLossBackward>)\n",
      "14 tensor(0.0001, device='cuda:0', grad_fn=<MseLossBackward>)\n",
      "14 tensor(0.0001, device='cuda:0', grad_fn=<MseLossBackward>)\n",
      "14 tensor(0.0002, device='cuda:0', grad_fn=<MseLossBackward>)\n",
      "14 tensor(0.0002, device='cuda:0', grad_fn=<MseLossBackward>)\n",
      "14 tensor(0.0002, device='cuda:0', grad_fn=<MseLossBackward>)\n",
      "14 tensor(0.0002, device='cuda:0', grad_fn=<MseLossBackward>)\n",
      "14 tensor(0.0001, device='cuda:0', grad_fn=<MseLossBackward>)\n",
      "14 tensor(0.0002, device='cuda:0', grad_fn=<MseLossBackward>)\n"
     ]
    },
    {
     "name": "stderr",
     "output_type": "stream",
     "text": [
      "[W pthreadpool-cpp.cc:90] Warning: Leaking Caffe2 thread-pool after fork. (function pthreadpool)\n"
     ]
    },
    {
     "name": "stdout",
     "output_type": "stream",
     "text": [
      "14 tensor(0.0002, device='cuda:0', grad_fn=<MseLossBackward>)\n",
      "14 tensor(0.0001, device='cuda:0', grad_fn=<MseLossBackward>)\n"
     ]
    },
    {
     "name": "stderr",
     "output_type": "stream",
     "text": [
      "[W pthreadpool-cpp.cc:90] Warning: Leaking Caffe2 thread-pool after fork. (function pthreadpool)\n",
      "[W pthreadpool-cpp.cc:90] Warning: Leaking Caffe2 thread-pool after fork. (function pthreadpool)\n",
      "[W pthreadpool-cpp.cc:90] Warning: Leaking Caffe2 thread-pool after fork. (function pthreadpool)\n",
      "[W pthreadpool-cpp.cc:90] Warning: Leaking Caffe2 thread-pool after fork. (function pthreadpool)\n",
      "[W pthreadpool-cpp.cc:90] Warning: Leaking Caffe2 thread-pool after fork. (function pthreadpool)\n",
      "[W pthreadpool-cpp.cc:90] Warning: Leaking Caffe2 thread-pool after fork. (function pthreadpool)\n",
      "[W pthreadpool-cpp.cc:90] Warning: Leaking Caffe2 thread-pool after fork. (function pthreadpool)\n",
      "[W pthreadpool-cpp.cc:90] Warning: Leaking Caffe2 thread-pool after fork. (function pthreadpool)\n"
     ]
    },
    {
     "name": "stdout",
     "output_type": "stream",
     "text": [
      "15 tensor(0.0001, device='cuda:0', grad_fn=<MseLossBackward>)\n",
      "15 tensor(0.0001, device='cuda:0', grad_fn=<MseLossBackward>)\n",
      "15 tensor(0.0001, device='cuda:0', grad_fn=<MseLossBackward>)\n",
      "15 tensor(0.0001, device='cuda:0', grad_fn=<MseLossBackward>)\n",
      "15 tensor(0.0002, device='cuda:0', grad_fn=<MseLossBackward>)\n",
      "15 tensor(0.0001, device='cuda:0', grad_fn=<MseLossBackward>)\n",
      "15 tensor(0.0002, device='cuda:0', grad_fn=<MseLossBackward>)\n",
      "15 tensor(0.0001, device='cuda:0', grad_fn=<MseLossBackward>)\n",
      "15 tensor(0.0002, device='cuda:0', grad_fn=<MseLossBackward>)\n",
      "15 tensor(0.0002, device='cuda:0', grad_fn=<MseLossBackward>)\n",
      "15 tensor(0.0002, device='cuda:0', grad_fn=<MseLossBackward>)\n",
      "15 tensor(0.0002, device='cuda:0', grad_fn=<MseLossBackward>)\n",
      "15 tensor(0.0002, device='cuda:0', grad_fn=<MseLossBackward>)\n",
      "15 tensor(0.0002, device='cuda:0', grad_fn=<MseLossBackward>)\n",
      "15 tensor(0.0002, device='cuda:0', grad_fn=<MseLossBackward>)\n",
      "15 tensor(0.0002, device='cuda:0', grad_fn=<MseLossBackward>)\n",
      "15 tensor(0.0001, device='cuda:0', grad_fn=<MseLossBackward>)\n",
      "15 tensor(0.0002, device='cuda:0', grad_fn=<MseLossBackward>)\n"
     ]
    },
    {
     "name": "stderr",
     "output_type": "stream",
     "text": [
      "[W pthreadpool-cpp.cc:90] Warning: Leaking Caffe2 thread-pool after fork. (function pthreadpool)\n"
     ]
    },
    {
     "name": "stdout",
     "output_type": "stream",
     "text": [
      "15 tensor(0.0002, device='cuda:0', grad_fn=<MseLossBackward>)\n",
      "15 tensor(0.0002, device='cuda:0', grad_fn=<MseLossBackward>)\n",
      "15 tensor(0.0003, device='cuda:0', grad_fn=<MseLossBackward>)\n"
     ]
    },
    {
     "name": "stderr",
     "output_type": "stream",
     "text": [
      "[W pthreadpool-cpp.cc:90] Warning: Leaking Caffe2 thread-pool after fork. (function pthreadpool)\n",
      "[W pthreadpool-cpp.cc:90] Warning: Leaking Caffe2 thread-pool after fork. (function pthreadpool)\n",
      "[W pthreadpool-cpp.cc:90] Warning: Leaking Caffe2 thread-pool after fork. (function pthreadpool)\n",
      "[W pthreadpool-cpp.cc:90] Warning: Leaking Caffe2 thread-pool after fork. (function pthreadpool)\n",
      "[W pthreadpool-cpp.cc:90] Warning: Leaking Caffe2 thread-pool after fork. (function pthreadpool)\n",
      "[W pthreadpool-cpp.cc:90] Warning: Leaking Caffe2 thread-pool after fork. (function pthreadpool)\n",
      "[W pthreadpool-cpp.cc:90] Warning: Leaking Caffe2 thread-pool after fork. (function pthreadpool)\n",
      "[W pthreadpool-cpp.cc:90] Warning: Leaking Caffe2 thread-pool after fork. (function pthreadpool)\n"
     ]
    },
    {
     "name": "stdout",
     "output_type": "stream",
     "text": [
      "16 tensor(0.0001, device='cuda:0', grad_fn=<MseLossBackward>)\n",
      "16 tensor(0.0002, device='cuda:0', grad_fn=<MseLossBackward>)\n",
      "16 tensor(0.0002, device='cuda:0', grad_fn=<MseLossBackward>)\n",
      "16 tensor(0.0002, device='cuda:0', grad_fn=<MseLossBackward>)\n",
      "16 tensor(0.0002, device='cuda:0', grad_fn=<MseLossBackward>)\n",
      "16 tensor(0.0002, device='cuda:0', grad_fn=<MseLossBackward>)\n",
      "16 tensor(0.0002, device='cuda:0', grad_fn=<MseLossBackward>)\n",
      "16 tensor(0.0001, device='cuda:0', grad_fn=<MseLossBackward>)\n",
      "16 tensor(0.0003, device='cuda:0', grad_fn=<MseLossBackward>)\n",
      "16 tensor(0.0001, device='cuda:0', grad_fn=<MseLossBackward>)\n",
      "16 tensor(0.0002, device='cuda:0', grad_fn=<MseLossBackward>)\n",
      "16 tensor(0.0002, device='cuda:0', grad_fn=<MseLossBackward>)\n",
      "16 tensor(0.0003, device='cuda:0', grad_fn=<MseLossBackward>)\n",
      "16 tensor(0.0002, device='cuda:0', grad_fn=<MseLossBackward>)\n",
      "16 tensor(0.0001, device='cuda:0', grad_fn=<MseLossBackward>)\n",
      "16 tensor(0.0002, device='cuda:0', grad_fn=<MseLossBackward>)\n",
      "16 tensor(0.0002, device='cuda:0', grad_fn=<MseLossBackward>)\n",
      "16 tensor(0.0002, device='cuda:0', grad_fn=<MseLossBackward>)\n",
      "16 tensor(0.0002, device='cuda:0', grad_fn=<MseLossBackward>)\n",
      "16 tensor(0.0002, device='cuda:0', grad_fn=<MseLossBackward>)\n",
      "16 tensor(0.0001, device='cuda:0', grad_fn=<MseLossBackward>)\n"
     ]
    },
    {
     "name": "stderr",
     "output_type": "stream",
     "text": [
      "[W pthreadpool-cpp.cc:90] Warning: Leaking Caffe2 thread-pool after fork. (function pthreadpool)\n",
      "[W pthreadpool-cpp.cc:90] Warning: Leaking Caffe2 thread-pool after fork. (function pthreadpool)\n",
      "[W pthreadpool-cpp.cc:90] Warning: Leaking Caffe2 thread-pool after fork. (function pthreadpool)\n",
      "[W pthreadpool-cpp.cc:90] Warning: Leaking Caffe2 thread-pool after fork. (function pthreadpool)\n",
      "[W pthreadpool-cpp.cc:90] Warning: Leaking Caffe2 thread-pool after fork. (function pthreadpool)\n",
      "[W pthreadpool-cpp.cc:90] Warning: Leaking Caffe2 thread-pool after fork. (function pthreadpool)\n",
      "[W pthreadpool-cpp.cc:90] Warning: Leaking Caffe2 thread-pool after fork. (function pthreadpool)\n",
      "[W pthreadpool-cpp.cc:90] Warning: Leaking Caffe2 thread-pool after fork. (function pthreadpool)\n"
     ]
    },
    {
     "name": "stdout",
     "output_type": "stream",
     "text": [
      "17 tensor(0.0002, device='cuda:0', grad_fn=<MseLossBackward>)\n",
      "17 tensor(0.0002, device='cuda:0', grad_fn=<MseLossBackward>)\n",
      "17 tensor(0.0002, device='cuda:0', grad_fn=<MseLossBackward>)\n",
      "17 tensor(0.0002, device='cuda:0', grad_fn=<MseLossBackward>)\n",
      "17 tensor(0.0002, device='cuda:0', grad_fn=<MseLossBackward>)\n",
      "17 tensor(0.0002, device='cuda:0', grad_fn=<MseLossBackward>)\n",
      "17 tensor(0.0002, device='cuda:0', grad_fn=<MseLossBackward>)\n",
      "17 tensor(0.0002, device='cuda:0', grad_fn=<MseLossBackward>)\n",
      "17 tensor(0.0001, device='cuda:0', grad_fn=<MseLossBackward>)\n",
      "17 tensor(0.0001, device='cuda:0', grad_fn=<MseLossBackward>)\n",
      "17 tensor(0.0002, device='cuda:0', grad_fn=<MseLossBackward>)\n",
      "17 tensor(0.0002, device='cuda:0', grad_fn=<MseLossBackward>)\n",
      "17 tensor(0.0003, device='cuda:0', grad_fn=<MseLossBackward>)\n",
      "17 tensor(0.0001, device='cuda:0', grad_fn=<MseLossBackward>)\n",
      "17 tensor(0.0002, device='cuda:0', grad_fn=<MseLossBackward>)\n",
      "17 tensor(0.0002, device='cuda:0', grad_fn=<MseLossBackward>)\n",
      "17 tensor(0.0001, device='cuda:0', grad_fn=<MseLossBackward>)\n",
      "17 tensor(0.0002, device='cuda:0', grad_fn=<MseLossBackward>)\n",
      "17 tensor(0.0002, device='cuda:0', grad_fn=<MseLossBackward>)\n"
     ]
    },
    {
     "name": "stderr",
     "output_type": "stream",
     "text": [
      "[W pthreadpool-cpp.cc:90] Warning: Leaking Caffe2 thread-pool after fork. (function pthreadpool)\n"
     ]
    },
    {
     "name": "stdout",
     "output_type": "stream",
     "text": [
      "17 tensor(0.0002, device='cuda:0', grad_fn=<MseLossBackward>)\n",
      "17 tensor(0.0002, device='cuda:0', grad_fn=<MseLossBackward>)\n"
     ]
    },
    {
     "name": "stderr",
     "output_type": "stream",
     "text": [
      "[W pthreadpool-cpp.cc:90] Warning: Leaking Caffe2 thread-pool after fork. (function pthreadpool)\n",
      "[W pthreadpool-cpp.cc:90] Warning: Leaking Caffe2 thread-pool after fork. (function pthreadpool)\n",
      "[W pthreadpool-cpp.cc:90] Warning: Leaking Caffe2 thread-pool after fork. (function pthreadpool)\n",
      "[W pthreadpool-cpp.cc:90] Warning: Leaking Caffe2 thread-pool after fork. (function pthreadpool)\n",
      "[W pthreadpool-cpp.cc:90] Warning: Leaking Caffe2 thread-pool after fork. (function pthreadpool)\n",
      "[W pthreadpool-cpp.cc:90] Warning: Leaking Caffe2 thread-pool after fork. (function pthreadpool)\n",
      "[W pthreadpool-cpp.cc:90] Warning: Leaking Caffe2 thread-pool after fork. (function pthreadpool)\n",
      "[W pthreadpool-cpp.cc:90] Warning: Leaking Caffe2 thread-pool after fork. (function pthreadpool)\n",
      "[W pthreadpool-cpp.cc:90] Warning: Leaking Caffe2 thread-pool after fork. (function pthreadpool)\n"
     ]
    },
    {
     "name": "stdout",
     "output_type": "stream",
     "text": [
      "18 tensor(0.0002, device='cuda:0', grad_fn=<MseLossBackward>)\n",
      "18 tensor(0.0002, device='cuda:0', grad_fn=<MseLossBackward>)\n",
      "18 tensor(0.0002, device='cuda:0', grad_fn=<MseLossBackward>)\n",
      "18 tensor(0.0002, device='cuda:0', grad_fn=<MseLossBackward>)\n",
      "18 tensor(0.0002, device='cuda:0', grad_fn=<MseLossBackward>)\n",
      "18 tensor(0.0002, device='cuda:0', grad_fn=<MseLossBackward>)\n",
      "18 tensor(0.0002, device='cuda:0', grad_fn=<MseLossBackward>)\n",
      "18 tensor(0.0002, device='cuda:0', grad_fn=<MseLossBackward>)\n",
      "18 tensor(0.0001, device='cuda:0', grad_fn=<MseLossBackward>)\n",
      "18 tensor(0.0002, device='cuda:0', grad_fn=<MseLossBackward>)\n",
      "18 tensor(0.0002, device='cuda:0', grad_fn=<MseLossBackward>)\n",
      "18 tensor(0.0002, device='cuda:0', grad_fn=<MseLossBackward>)\n",
      "18 tensor(0.0002, device='cuda:0', grad_fn=<MseLossBackward>)\n",
      "18 tensor(0.0002, device='cuda:0', grad_fn=<MseLossBackward>)\n",
      "18 tensor(0.0002, device='cuda:0', grad_fn=<MseLossBackward>)\n",
      "18 tensor(0.0001, device='cuda:0', grad_fn=<MseLossBackward>)\n",
      "18 tensor(0.0001, device='cuda:0', grad_fn=<MseLossBackward>)\n",
      "18 tensor(0.0002, device='cuda:0', grad_fn=<MseLossBackward>)\n",
      "18 tensor(0.0002, device='cuda:0', grad_fn=<MseLossBackward>)\n",
      "18 tensor(0.0002, device='cuda:0', grad_fn=<MseLossBackward>)\n",
      "18 tensor(0.0001, device='cuda:0', grad_fn=<MseLossBackward>)\n"
     ]
    },
    {
     "name": "stderr",
     "output_type": "stream",
     "text": [
      "[W pthreadpool-cpp.cc:90] Warning: Leaking Caffe2 thread-pool after fork. (function pthreadpool)\n",
      "[W pthreadpool-cpp.cc:90] Warning: Leaking Caffe2 thread-pool after fork. (function pthreadpool)\n",
      "[W pthreadpool-cpp.cc:90] Warning: Leaking Caffe2 thread-pool after fork. (function pthreadpool)\n",
      "[W pthreadpool-cpp.cc:90] Warning: Leaking Caffe2 thread-pool after fork. (function pthreadpool)\n",
      "[W pthreadpool-cpp.cc:90] Warning: Leaking Caffe2 thread-pool after fork. (function pthreadpool)\n",
      "[W pthreadpool-cpp.cc:90] Warning: Leaking Caffe2 thread-pool after fork. (function pthreadpool)\n",
      "[W pthreadpool-cpp.cc:90] Warning: Leaking Caffe2 thread-pool after fork. (function pthreadpool)\n",
      "[W pthreadpool-cpp.cc:90] Warning: Leaking Caffe2 thread-pool after fork. (function pthreadpool)\n"
     ]
    },
    {
     "name": "stdout",
     "output_type": "stream",
     "text": [
      "19 tensor(0.0002, device='cuda:0', grad_fn=<MseLossBackward>)\n",
      "19 tensor(0.0002, device='cuda:0', grad_fn=<MseLossBackward>)\n",
      "19 tensor(0.0001, device='cuda:0', grad_fn=<MseLossBackward>)\n",
      "19 tensor(0.0001, device='cuda:0', grad_fn=<MseLossBackward>)\n",
      "19 tensor(0.0003, device='cuda:0', grad_fn=<MseLossBackward>)\n",
      "19 tensor(0.0002, device='cuda:0', grad_fn=<MseLossBackward>)\n",
      "19 tensor(0.0001, device='cuda:0', grad_fn=<MseLossBackward>)\n",
      "19 tensor(0.0002, device='cuda:0', grad_fn=<MseLossBackward>)\n",
      "19 tensor(0.0002, device='cuda:0', grad_fn=<MseLossBackward>)\n",
      "19 tensor(0.0002, device='cuda:0', grad_fn=<MseLossBackward>)\n",
      "19 tensor(0.0001, device='cuda:0', grad_fn=<MseLossBackward>)\n",
      "19 tensor(0.0003, device='cuda:0', grad_fn=<MseLossBackward>)\n",
      "19 tensor(0.0001, device='cuda:0', grad_fn=<MseLossBackward>)\n",
      "19 tensor(0.0002, device='cuda:0', grad_fn=<MseLossBackward>)\n",
      "19 tensor(0.0002, device='cuda:0', grad_fn=<MseLossBackward>)\n",
      "19 tensor(0.0001, device='cuda:0', grad_fn=<MseLossBackward>)\n",
      "19 tensor(0.0002, device='cuda:0', grad_fn=<MseLossBackward>)\n",
      "19 tensor(0.0001, device='cuda:0', grad_fn=<MseLossBackward>)\n",
      "19 tensor(0.0001, device='cuda:0', grad_fn=<MseLossBackward>)\n",
      "19 tensor(0.0001, device='cuda:0', grad_fn=<MseLossBackward>)\n",
      "19 tensor(0.0001, device='cuda:0', grad_fn=<MseLossBackward>)\n"
     ]
    },
    {
     "name": "stderr",
     "output_type": "stream",
     "text": [
      "[W pthreadpool-cpp.cc:90] Warning: Leaking Caffe2 thread-pool after fork. (function pthreadpool)\n",
      "[W pthreadpool-cpp.cc:90] Warning: Leaking Caffe2 thread-pool after fork. (function pthreadpool)\n",
      "[W pthreadpool-cpp.cc:90] Warning: Leaking Caffe2 thread-pool after fork. (function pthreadpool)\n",
      "[W pthreadpool-cpp.cc:90] Warning: Leaking Caffe2 thread-pool after fork. (function pthreadpool)\n",
      "[W pthreadpool-cpp.cc:90] Warning: Leaking Caffe2 thread-pool after fork. (function pthreadpool)\n",
      "[W pthreadpool-cpp.cc:90] Warning: Leaking Caffe2 thread-pool after fork. (function pthreadpool)\n",
      "[W pthreadpool-cpp.cc:90] Warning: Leaking Caffe2 thread-pool after fork. (function pthreadpool)\n",
      "[W pthreadpool-cpp.cc:90] Warning: Leaking Caffe2 thread-pool after fork. (function pthreadpool)\n"
     ]
    },
    {
     "name": "stdout",
     "output_type": "stream",
     "text": [
      "20 tensor(0.0001, device='cuda:0', grad_fn=<MseLossBackward>)\n",
      "20 tensor(0.0001, device='cuda:0', grad_fn=<MseLossBackward>)\n",
      "20 tensor(0.0002, device='cuda:0', grad_fn=<MseLossBackward>)\n",
      "20 tensor(0.0002, device='cuda:0', grad_fn=<MseLossBackward>)\n",
      "20 tensor(0.0002, device='cuda:0', grad_fn=<MseLossBackward>)\n",
      "20 tensor(0.0002, device='cuda:0', grad_fn=<MseLossBackward>)\n",
      "20 tensor(0.0001, device='cuda:0', grad_fn=<MseLossBackward>)\n",
      "20 tensor(0.0003, device='cuda:0', grad_fn=<MseLossBackward>)\n",
      "20 tensor(0.0002, device='cuda:0', grad_fn=<MseLossBackward>)\n",
      "20 tensor(0.0003, device='cuda:0', grad_fn=<MseLossBackward>)\n",
      "20 tensor(0.0001, device='cuda:0', grad_fn=<MseLossBackward>)\n",
      "20 tensor(0.0002, device='cuda:0', grad_fn=<MseLossBackward>)\n",
      "20 tensor(0.0002, device='cuda:0', grad_fn=<MseLossBackward>)\n",
      "20 tensor(0.0002, device='cuda:0', grad_fn=<MseLossBackward>)\n",
      "20 tensor(0.0003, device='cuda:0', grad_fn=<MseLossBackward>)\n",
      "20 tensor(0.0001, device='cuda:0', grad_fn=<MseLossBackward>)\n",
      "20 tensor(0.0002, device='cuda:0', grad_fn=<MseLossBackward>)\n",
      "20 tensor(0.0002, device='cuda:0', grad_fn=<MseLossBackward>)\n",
      "20 tensor(0.0001, device='cuda:0', grad_fn=<MseLossBackward>)\n",
      "20 tensor(0.0002, device='cuda:0', grad_fn=<MseLossBackward>)\n",
      "20 tensor(0.0001, device='cuda:0', grad_fn=<MseLossBackward>)\n"
     ]
    },
    {
     "name": "stderr",
     "output_type": "stream",
     "text": [
      "[W pthreadpool-cpp.cc:90] Warning: Leaking Caffe2 thread-pool after fork. (function pthreadpool)\n",
      "[W pthreadpool-cpp.cc:90] Warning: Leaking Caffe2 thread-pool after fork. (function pthreadpool)\n",
      "[W pthreadpool-cpp.cc:90] Warning: Leaking Caffe2 thread-pool after fork. (function pthreadpool)\n",
      "[W pthreadpool-cpp.cc:90] Warning: Leaking Caffe2 thread-pool after fork. (function pthreadpool)\n",
      "[W pthreadpool-cpp.cc:90] Warning: Leaking Caffe2 thread-pool after fork. (function pthreadpool)\n",
      "[W pthreadpool-cpp.cc:90] Warning: Leaking Caffe2 thread-pool after fork. (function pthreadpool)\n",
      "[W pthreadpool-cpp.cc:90] Warning: Leaking Caffe2 thread-pool after fork. (function pthreadpool)\n",
      "[W pthreadpool-cpp.cc:90] Warning: Leaking Caffe2 thread-pool after fork. (function pthreadpool)\n",
      "[W pthreadpool-cpp.cc:90] Warning: Leaking Caffe2 thread-pool after fork. (function pthreadpool)\n"
     ]
    },
    {
     "name": "stdout",
     "output_type": "stream",
     "text": [
      "21 tensor(0.0002, device='cuda:0', grad_fn=<MseLossBackward>)\n",
      "21 tensor(0.0002, device='cuda:0', grad_fn=<MseLossBackward>)\n",
      "21 tensor(0.0004, device='cuda:0', grad_fn=<MseLossBackward>)\n",
      "21 tensor(0.0001, device='cuda:0', grad_fn=<MseLossBackward>)\n",
      "21 tensor(0.0003, device='cuda:0', grad_fn=<MseLossBackward>)\n",
      "21 tensor(0.0002, device='cuda:0', grad_fn=<MseLossBackward>)\n",
      "21 tensor(0.0002, device='cuda:0', grad_fn=<MseLossBackward>)\n",
      "21 tensor(0.0001, device='cuda:0', grad_fn=<MseLossBackward>)\n",
      "21 tensor(0.0001, device='cuda:0', grad_fn=<MseLossBackward>)\n",
      "21 tensor(0.0002, device='cuda:0', grad_fn=<MseLossBackward>)\n",
      "21 tensor(0.0002, device='cuda:0', grad_fn=<MseLossBackward>)\n",
      "21 tensor(0.0001, device='cuda:0', grad_fn=<MseLossBackward>)\n",
      "21 tensor(0.0001, device='cuda:0', grad_fn=<MseLossBackward>)\n",
      "21 tensor(0.0002, device='cuda:0', grad_fn=<MseLossBackward>)\n",
      "21 tensor(0.0002, device='cuda:0', grad_fn=<MseLossBackward>)\n",
      "21 tensor(0.0001, device='cuda:0', grad_fn=<MseLossBackward>)\n",
      "21 tensor(0.0001, device='cuda:0', grad_fn=<MseLossBackward>)\n",
      "21 tensor(0.0002, device='cuda:0', grad_fn=<MseLossBackward>)\n",
      "21 tensor(0.0001, device='cuda:0', grad_fn=<MseLossBackward>)\n",
      "21 tensor(0.0002, device='cuda:0', grad_fn=<MseLossBackward>)\n",
      "21 tensor(0.0002, device='cuda:0', grad_fn=<MseLossBackward>)\n"
     ]
    },
    {
     "name": "stderr",
     "output_type": "stream",
     "text": [
      "[W pthreadpool-cpp.cc:90] Warning: Leaking Caffe2 thread-pool after fork. (function pthreadpool)\n",
      "[W pthreadpool-cpp.cc:90] Warning: Leaking Caffe2 thread-pool after fork. (function pthreadpool)\n",
      "[W pthreadpool-cpp.cc:90] Warning: Leaking Caffe2 thread-pool after fork. (function pthreadpool)\n",
      "[W pthreadpool-cpp.cc:90] Warning: Leaking Caffe2 thread-pool after fork. (function pthreadpool)\n",
      "[W pthreadpool-cpp.cc:90] Warning: Leaking Caffe2 thread-pool after fork. (function pthreadpool)\n",
      "[W pthreadpool-cpp.cc:90] Warning: Leaking Caffe2 thread-pool after fork. (function pthreadpool)\n",
      "[W pthreadpool-cpp.cc:90] Warning: Leaking Caffe2 thread-pool after fork. (function pthreadpool)\n",
      "[W pthreadpool-cpp.cc:90] Warning: Leaking Caffe2 thread-pool after fork. (function pthreadpool)\n",
      "[W pthreadpool-cpp.cc:90] Warning: Leaking Caffe2 thread-pool after fork. (function pthreadpool)\n"
     ]
    },
    {
     "name": "stdout",
     "output_type": "stream",
     "text": [
      "22 tensor(0.0001, device='cuda:0', grad_fn=<MseLossBackward>)\n",
      "22 tensor(0.0001, device='cuda:0', grad_fn=<MseLossBackward>)\n",
      "22 tensor(0.0002, device='cuda:0', grad_fn=<MseLossBackward>)\n",
      "22 tensor(0.0001, device='cuda:0', grad_fn=<MseLossBackward>)\n",
      "22 tensor(0.0001, device='cuda:0', grad_fn=<MseLossBackward>)\n",
      "22 tensor(0.0002, device='cuda:0', grad_fn=<MseLossBackward>)\n",
      "22 tensor(0.0002, device='cuda:0', grad_fn=<MseLossBackward>)\n",
      "22 tensor(0.0002, device='cuda:0', grad_fn=<MseLossBackward>)\n",
      "22 tensor(0.0004, device='cuda:0', grad_fn=<MseLossBackward>)\n",
      "22 tensor(0.0002, device='cuda:0', grad_fn=<MseLossBackward>)\n",
      "22 tensor(0.0001, device='cuda:0', grad_fn=<MseLossBackward>)\n",
      "22 tensor(0.0002, device='cuda:0', grad_fn=<MseLossBackward>)\n",
      "22 tensor(0.0001, device='cuda:0', grad_fn=<MseLossBackward>)\n",
      "22 tensor(0.0002, device='cuda:0', grad_fn=<MseLossBackward>)\n",
      "22 tensor(0.0002, device='cuda:0', grad_fn=<MseLossBackward>)\n",
      "22 tensor(0.0002, device='cuda:0', grad_fn=<MseLossBackward>)\n",
      "22 tensor(0.0002, device='cuda:0', grad_fn=<MseLossBackward>)\n",
      "22 tensor(0.0001, device='cuda:0', grad_fn=<MseLossBackward>)\n",
      "22 tensor(0.0002, device='cuda:0', grad_fn=<MseLossBackward>)\n",
      "22 tensor(0.0001, device='cuda:0', grad_fn=<MseLossBackward>)\n",
      "22 tensor(0.0001, device='cuda:0', grad_fn=<MseLossBackward>)\n"
     ]
    },
    {
     "name": "stderr",
     "output_type": "stream",
     "text": [
      "[W pthreadpool-cpp.cc:90] Warning: Leaking Caffe2 thread-pool after fork. (function pthreadpool)\n",
      "[W pthreadpool-cpp.cc:90] Warning: Leaking Caffe2 thread-pool after fork. (function pthreadpool)\n",
      "[W pthreadpool-cpp.cc:90] Warning: Leaking Caffe2 thread-pool after fork. (function pthreadpool)\n",
      "[W pthreadpool-cpp.cc:90] Warning: Leaking Caffe2 thread-pool after fork. (function pthreadpool)\n",
      "[W pthreadpool-cpp.cc:90] Warning: Leaking Caffe2 thread-pool after fork. (function pthreadpool)\n",
      "[W pthreadpool-cpp.cc:90] Warning: Leaking Caffe2 thread-pool after fork. (function pthreadpool)\n",
      "[W pthreadpool-cpp.cc:90] Warning: Leaking Caffe2 thread-pool after fork. (function pthreadpool)\n",
      "[W pthreadpool-cpp.cc:90] Warning: Leaking Caffe2 thread-pool after fork. (function pthreadpool)\n",
      "[W pthreadpool-cpp.cc:90] Warning: Leaking Caffe2 thread-pool after fork. (function pthreadpool)\n"
     ]
    },
    {
     "name": "stdout",
     "output_type": "stream",
     "text": [
      "23 tensor(0.0002, device='cuda:0', grad_fn=<MseLossBackward>)\n",
      "23 tensor(0.0001, device='cuda:0', grad_fn=<MseLossBackward>)\n",
      "23 tensor(0.0002, device='cuda:0', grad_fn=<MseLossBackward>)\n",
      "23 tensor(0.0001, device='cuda:0', grad_fn=<MseLossBackward>)\n",
      "23 tensor(0.0002, device='cuda:0', grad_fn=<MseLossBackward>)\n",
      "23 tensor(0.0001, device='cuda:0', grad_fn=<MseLossBackward>)\n",
      "23 tensor(0.0001, device='cuda:0', grad_fn=<MseLossBackward>)\n",
      "23 tensor(0.0001, device='cuda:0', grad_fn=<MseLossBackward>)\n",
      "23 tensor(0.0001, device='cuda:0', grad_fn=<MseLossBackward>)\n",
      "23 tensor(0.0001, device='cuda:0', grad_fn=<MseLossBackward>)\n",
      "23 tensor(0.0002, device='cuda:0', grad_fn=<MseLossBackward>)\n",
      "23 tensor(0.0002, device='cuda:0', grad_fn=<MseLossBackward>)\n",
      "23 tensor(0.0002, device='cuda:0', grad_fn=<MseLossBackward>)\n",
      "23 tensor(0.0002, device='cuda:0', grad_fn=<MseLossBackward>)\n",
      "23 tensor(0.0002, device='cuda:0', grad_fn=<MseLossBackward>)\n",
      "23 tensor(0.0002, device='cuda:0', grad_fn=<MseLossBackward>)\n",
      "23 tensor(0.0003, device='cuda:0', grad_fn=<MseLossBackward>)\n",
      "23 tensor(0.0001, device='cuda:0', grad_fn=<MseLossBackward>)\n",
      "23 tensor(0.0002, device='cuda:0', grad_fn=<MseLossBackward>)\n",
      "23 tensor(0.0003, device='cuda:0', grad_fn=<MseLossBackward>)\n",
      "23 tensor(0.0002, device='cuda:0', grad_fn=<MseLossBackward>)\n"
     ]
    },
    {
     "name": "stderr",
     "output_type": "stream",
     "text": [
      "[W pthreadpool-cpp.cc:90] Warning: Leaking Caffe2 thread-pool after fork. (function pthreadpool)\n",
      "[W pthreadpool-cpp.cc:90] Warning: Leaking Caffe2 thread-pool after fork. (function pthreadpool)\n",
      "[W pthreadpool-cpp.cc:90] Warning: Leaking Caffe2 thread-pool after fork. (function pthreadpool)\n",
      "[W pthreadpool-cpp.cc:90] Warning: Leaking Caffe2 thread-pool after fork. (function pthreadpool)\n",
      "[W pthreadpool-cpp.cc:90] Warning: Leaking Caffe2 thread-pool after fork. (function pthreadpool)\n",
      "[W pthreadpool-cpp.cc:90] Warning: Leaking Caffe2 thread-pool after fork. (function pthreadpool)\n",
      "[W pthreadpool-cpp.cc:90] Warning: Leaking Caffe2 thread-pool after fork. (function pthreadpool)\n",
      "[W pthreadpool-cpp.cc:90] Warning: Leaking Caffe2 thread-pool after fork. (function pthreadpool)\n"
     ]
    },
    {
     "name": "stdout",
     "output_type": "stream",
     "text": [
      "24 tensor(0.0001, device='cuda:0', grad_fn=<MseLossBackward>)\n",
      "24 tensor(0.0002, device='cuda:0', grad_fn=<MseLossBackward>)\n",
      "24 tensor(0.0001, device='cuda:0', grad_fn=<MseLossBackward>)\n",
      "24 tensor(0.0002, device='cuda:0', grad_fn=<MseLossBackward>)\n",
      "24 tensor(0.0001, device='cuda:0', grad_fn=<MseLossBackward>)\n",
      "24 tensor(0.0001, device='cuda:0', grad_fn=<MseLossBackward>)\n",
      "24 tensor(0.0001, device='cuda:0', grad_fn=<MseLossBackward>)\n",
      "24 tensor(0.0002, device='cuda:0', grad_fn=<MseLossBackward>)\n",
      "24 tensor(0.0002, device='cuda:0', grad_fn=<MseLossBackward>)\n",
      "24 tensor(0.0001, device='cuda:0', grad_fn=<MseLossBackward>)\n",
      "24 tensor(0.0002, device='cuda:0', grad_fn=<MseLossBackward>)\n",
      "24 tensor(0.0001, device='cuda:0', grad_fn=<MseLossBackward>)\n",
      "24 tensor(0.0002, device='cuda:0', grad_fn=<MseLossBackward>)\n",
      "24 tensor(0.0001, device='cuda:0', grad_fn=<MseLossBackward>)\n",
      "24 tensor(0.0002, device='cuda:0', grad_fn=<MseLossBackward>)\n",
      "24 tensor(0.0001, device='cuda:0', grad_fn=<MseLossBackward>)\n",
      "24 tensor(0.0003, device='cuda:0', grad_fn=<MseLossBackward>)\n",
      "24 tensor(0.0003, device='cuda:0', grad_fn=<MseLossBackward>)\n"
     ]
    },
    {
     "name": "stderr",
     "output_type": "stream",
     "text": [
      "[W pthreadpool-cpp.cc:90] Warning: Leaking Caffe2 thread-pool after fork. (function pthreadpool)\n"
     ]
    },
    {
     "name": "stdout",
     "output_type": "stream",
     "text": [
      "24 tensor(0.0002, device='cuda:0', grad_fn=<MseLossBackward>)\n",
      "24 tensor(0.0002, device='cuda:0', grad_fn=<MseLossBackward>)\n",
      "24 tensor(0.0004, device='cuda:0', grad_fn=<MseLossBackward>)\n"
     ]
    },
    {
     "name": "stderr",
     "output_type": "stream",
     "text": [
      "[W pthreadpool-cpp.cc:90] Warning: Leaking Caffe2 thread-pool after fork. (function pthreadpool)\n",
      "[W pthreadpool-cpp.cc:90] Warning: Leaking Caffe2 thread-pool after fork. (function pthreadpool)\n",
      "[W pthreadpool-cpp.cc:90] Warning: Leaking Caffe2 thread-pool after fork. (function pthreadpool)\n",
      "[W pthreadpool-cpp.cc:90] Warning: Leaking Caffe2 thread-pool after fork. (function pthreadpool)\n",
      "[W pthreadpool-cpp.cc:90] Warning: Leaking Caffe2 thread-pool after fork. (function pthreadpool)\n",
      "[W pthreadpool-cpp.cc:90] Warning: Leaking Caffe2 thread-pool after fork. (function pthreadpool)\n",
      "[W pthreadpool-cpp.cc:90] Warning: Leaking Caffe2 thread-pool after fork. (function pthreadpool)\n",
      "[W pthreadpool-cpp.cc:90] Warning: Leaking Caffe2 thread-pool after fork. (function pthreadpool)\n",
      "[W pthreadpool-cpp.cc:90] Warning: Leaking Caffe2 thread-pool after fork. (function pthreadpool)\n"
     ]
    },
    {
     "name": "stdout",
     "output_type": "stream",
     "text": [
      "25 tensor(0.0001, device='cuda:0', grad_fn=<MseLossBackward>)\n",
      "25 tensor(0.0002, device='cuda:0', grad_fn=<MseLossBackward>)\n",
      "25 tensor(0.0002, device='cuda:0', grad_fn=<MseLossBackward>)\n",
      "25 tensor(0.0002, device='cuda:0', grad_fn=<MseLossBackward>)\n",
      "25 tensor(0.0002, device='cuda:0', grad_fn=<MseLossBackward>)\n",
      "25 tensor(0.0001, device='cuda:0', grad_fn=<MseLossBackward>)\n",
      "25 tensor(0.0002, device='cuda:0', grad_fn=<MseLossBackward>)\n",
      "25 tensor(0.0001, device='cuda:0', grad_fn=<MseLossBackward>)\n",
      "25 tensor(0.0001, device='cuda:0', grad_fn=<MseLossBackward>)\n",
      "25 tensor(0.0002, device='cuda:0', grad_fn=<MseLossBackward>)\n",
      "25 tensor(0.0001, device='cuda:0', grad_fn=<MseLossBackward>)\n",
      "25 tensor(0.0001, device='cuda:0', grad_fn=<MseLossBackward>)\n",
      "25 tensor(0.0002, device='cuda:0', grad_fn=<MseLossBackward>)\n",
      "25 tensor(0.0003, device='cuda:0', grad_fn=<MseLossBackward>)\n",
      "25 tensor(0.0002, device='cuda:0', grad_fn=<MseLossBackward>)\n",
      "25 tensor(0.0001, device='cuda:0', grad_fn=<MseLossBackward>)\n",
      "25 tensor(0.0001, device='cuda:0', grad_fn=<MseLossBackward>)\n",
      "25 tensor(0.0002, device='cuda:0', grad_fn=<MseLossBackward>)\n",
      "25 tensor(0.0001, device='cuda:0', grad_fn=<MseLossBackward>)\n",
      "25 tensor(0.0001, device='cuda:0', grad_fn=<MseLossBackward>)\n",
      "25 tensor(0.0003, device='cuda:0', grad_fn=<MseLossBackward>)\n"
     ]
    },
    {
     "name": "stderr",
     "output_type": "stream",
     "text": [
      "[W pthreadpool-cpp.cc:90] Warning: Leaking Caffe2 thread-pool after fork. (function pthreadpool)\n",
      "[W pthreadpool-cpp.cc:90] Warning: Leaking Caffe2 thread-pool after fork. (function pthreadpool)\n",
      "[W pthreadpool-cpp.cc:90] Warning: Leaking Caffe2 thread-pool after fork. (function pthreadpool)\n",
      "[W pthreadpool-cpp.cc:90] Warning: Leaking Caffe2 thread-pool after fork. (function pthreadpool)\n",
      "[W pthreadpool-cpp.cc:90] Warning: Leaking Caffe2 thread-pool after fork. (function pthreadpool)\n",
      "[W pthreadpool-cpp.cc:90] Warning: Leaking Caffe2 thread-pool after fork. (function pthreadpool)\n",
      "[W pthreadpool-cpp.cc:90] Warning: Leaking Caffe2 thread-pool after fork. (function pthreadpool)\n",
      "[W pthreadpool-cpp.cc:90] Warning: Leaking Caffe2 thread-pool after fork. (function pthreadpool)\n"
     ]
    },
    {
     "name": "stdout",
     "output_type": "stream",
     "text": [
      "26 tensor(0.0001, device='cuda:0', grad_fn=<MseLossBackward>)\n",
      "26 tensor(0.0002, device='cuda:0', grad_fn=<MseLossBackward>)\n",
      "26 tensor(0.0001, device='cuda:0', grad_fn=<MseLossBackward>)\n",
      "26 tensor(0.0002, device='cuda:0', grad_fn=<MseLossBackward>)\n",
      "26 tensor(0.0001, device='cuda:0', grad_fn=<MseLossBackward>)\n",
      "26 tensor(0.0001, device='cuda:0', grad_fn=<MseLossBackward>)\n",
      "26 tensor(0.0002, device='cuda:0', grad_fn=<MseLossBackward>)\n",
      "26 tensor(0.0002, device='cuda:0', grad_fn=<MseLossBackward>)\n",
      "26 tensor(0.0001, device='cuda:0', grad_fn=<MseLossBackward>)\n",
      "26 tensor(0.0003, device='cuda:0', grad_fn=<MseLossBackward>)\n",
      "26 tensor(0.0003, device='cuda:0', grad_fn=<MseLossBackward>)\n",
      "26 tensor(0.0002, device='cuda:0', grad_fn=<MseLossBackward>)\n",
      "26 tensor(0.0001, device='cuda:0', grad_fn=<MseLossBackward>)\n",
      "26 tensor(0.0001, device='cuda:0', grad_fn=<MseLossBackward>)\n",
      "26 tensor(0.0001, device='cuda:0', grad_fn=<MseLossBackward>)\n",
      "26 tensor(0.0003, device='cuda:0', grad_fn=<MseLossBackward>)\n",
      "26 tensor(0.0001, device='cuda:0', grad_fn=<MseLossBackward>)\n",
      "26 tensor(0.0002, device='cuda:0', grad_fn=<MseLossBackward>)\n",
      "26 tensor(0.0001, device='cuda:0', grad_fn=<MseLossBackward>)\n",
      "26 tensor(0.0001, device='cuda:0', grad_fn=<MseLossBackward>)\n",
      "26 tensor(0.0002, device='cuda:0', grad_fn=<MseLossBackward>)\n"
     ]
    },
    {
     "name": "stderr",
     "output_type": "stream",
     "text": [
      "[W pthreadpool-cpp.cc:90] Warning: Leaking Caffe2 thread-pool after fork. (function pthreadpool)\n",
      "[W pthreadpool-cpp.cc:90] Warning: Leaking Caffe2 thread-pool after fork. (function pthreadpool)\n",
      "[W pthreadpool-cpp.cc:90] Warning: Leaking Caffe2 thread-pool after fork. (function pthreadpool)\n",
      "[W pthreadpool-cpp.cc:90] Warning: Leaking Caffe2 thread-pool after fork. (function pthreadpool)\n",
      "[W pthreadpool-cpp.cc:90] Warning: Leaking Caffe2 thread-pool after fork. (function pthreadpool)\n",
      "[W pthreadpool-cpp.cc:90] Warning: Leaking Caffe2 thread-pool after fork. (function pthreadpool)\n",
      "[W pthreadpool-cpp.cc:90] Warning: Leaking Caffe2 thread-pool after fork. (function pthreadpool)\n",
      "[W pthreadpool-cpp.cc:90] Warning: Leaking Caffe2 thread-pool after fork. (function pthreadpool)\n"
     ]
    },
    {
     "name": "stdout",
     "output_type": "stream",
     "text": [
      "27 tensor(0.0001, device='cuda:0', grad_fn=<MseLossBackward>)\n",
      "27 tensor(0.0003, device='cuda:0', grad_fn=<MseLossBackward>)\n",
      "27 tensor(0.0001, device='cuda:0', grad_fn=<MseLossBackward>)\n",
      "27 tensor(0.0002, device='cuda:0', grad_fn=<MseLossBackward>)\n",
      "27 tensor(0.0002, device='cuda:0', grad_fn=<MseLossBackward>)\n",
      "27 tensor(0.0001, device='cuda:0', grad_fn=<MseLossBackward>)\n",
      "27 tensor(0.0002, device='cuda:0', grad_fn=<MseLossBackward>)\n",
      "27 tensor(0.0002, device='cuda:0', grad_fn=<MseLossBackward>)\n",
      "27 tensor(0.0002, device='cuda:0', grad_fn=<MseLossBackward>)\n",
      "27 tensor(0.0002, device='cuda:0', grad_fn=<MseLossBackward>)\n",
      "27 tensor(0.0002, device='cuda:0', grad_fn=<MseLossBackward>)\n",
      "27 tensor(0.0001, device='cuda:0', grad_fn=<MseLossBackward>)\n",
      "27 tensor(0.0001, device='cuda:0', grad_fn=<MseLossBackward>)\n",
      "27 tensor(0.0002, device='cuda:0', grad_fn=<MseLossBackward>)\n",
      "27 tensor(0.0001, device='cuda:0', grad_fn=<MseLossBackward>)\n",
      "27 tensor(0.0001, device='cuda:0', grad_fn=<MseLossBackward>)\n",
      "27 tensor(0.0001, device='cuda:0', grad_fn=<MseLossBackward>)\n",
      "27 tensor(0.0001, device='cuda:0', grad_fn=<MseLossBackward>)\n",
      "27 tensor(9.9526e-05, device='cuda:0', grad_fn=<MseLossBackward>)\n",
      "27 tensor(0.0003, device='cuda:0', grad_fn=<MseLossBackward>)\n",
      "27 tensor(0.0003, device='cuda:0', grad_fn=<MseLossBackward>)\n"
     ]
    },
    {
     "name": "stderr",
     "output_type": "stream",
     "text": [
      "[W pthreadpool-cpp.cc:90] Warning: Leaking Caffe2 thread-pool after fork. (function pthreadpool)\n",
      "[W pthreadpool-cpp.cc:90] Warning: Leaking Caffe2 thread-pool after fork. (function pthreadpool)\n",
      "[W pthreadpool-cpp.cc:90] Warning: Leaking Caffe2 thread-pool after fork. (function pthreadpool)\n",
      "[W pthreadpool-cpp.cc:90] Warning: Leaking Caffe2 thread-pool after fork. (function pthreadpool)\n",
      "[W pthreadpool-cpp.cc:90] Warning: Leaking Caffe2 thread-pool after fork. (function pthreadpool)\n",
      "[W pthreadpool-cpp.cc:90] Warning: Leaking Caffe2 thread-pool after fork. (function pthreadpool)\n",
      "[W pthreadpool-cpp.cc:90] Warning: Leaking Caffe2 thread-pool after fork. (function pthreadpool)\n",
      "[W pthreadpool-cpp.cc:90] Warning: Leaking Caffe2 thread-pool after fork. (function pthreadpool)\n"
     ]
    },
    {
     "name": "stdout",
     "output_type": "stream",
     "text": [
      "28 tensor(0.0003, device='cuda:0', grad_fn=<MseLossBackward>)\n",
      "28 tensor(9.3098e-05, device='cuda:0', grad_fn=<MseLossBackward>)\n",
      "28 tensor(0.0001, device='cuda:0', grad_fn=<MseLossBackward>)\n",
      "28 tensor(0.0001, device='cuda:0', grad_fn=<MseLossBackward>)\n",
      "28 tensor(0.0002, device='cuda:0', grad_fn=<MseLossBackward>)\n",
      "28 tensor(9.5662e-05, device='cuda:0', grad_fn=<MseLossBackward>)\n",
      "28 tensor(0.0001, device='cuda:0', grad_fn=<MseLossBackward>)\n",
      "28 tensor(0.0002, device='cuda:0', grad_fn=<MseLossBackward>)\n",
      "28 tensor(0.0001, device='cuda:0', grad_fn=<MseLossBackward>)\n",
      "28 tensor(0.0002, device='cuda:0', grad_fn=<MseLossBackward>)\n",
      "28 tensor(0.0003, device='cuda:0', grad_fn=<MseLossBackward>)\n",
      "28 tensor(0.0001, device='cuda:0', grad_fn=<MseLossBackward>)\n",
      "28 tensor(0.0002, device='cuda:0', grad_fn=<MseLossBackward>)\n",
      "28 tensor(0.0001, device='cuda:0', grad_fn=<MseLossBackward>)\n",
      "28 tensor(0.0002, device='cuda:0', grad_fn=<MseLossBackward>)\n",
      "28 tensor(0.0001, device='cuda:0', grad_fn=<MseLossBackward>)\n",
      "28 tensor(0.0001, device='cuda:0', grad_fn=<MseLossBackward>)\n",
      "28 tensor(0.0002, device='cuda:0', grad_fn=<MseLossBackward>)\n",
      "28 tensor(0.0003, device='cuda:0', grad_fn=<MseLossBackward>)\n",
      "28 tensor(0.0002, device='cuda:0', grad_fn=<MseLossBackward>)\n",
      "28 tensor(0.0001, device='cuda:0', grad_fn=<MseLossBackward>)\n"
     ]
    },
    {
     "name": "stderr",
     "output_type": "stream",
     "text": [
      "[W pthreadpool-cpp.cc:90] Warning: Leaking Caffe2 thread-pool after fork. (function pthreadpool)\n",
      "[W pthreadpool-cpp.cc:90] Warning: Leaking Caffe2 thread-pool after fork. (function pthreadpool)\n",
      "[W pthreadpool-cpp.cc:90] Warning: Leaking Caffe2 thread-pool after fork. (function pthreadpool)\n",
      "[W pthreadpool-cpp.cc:90] Warning: Leaking Caffe2 thread-pool after fork. (function pthreadpool)\n",
      "[W pthreadpool-cpp.cc:90] Warning: Leaking Caffe2 thread-pool after fork. (function pthreadpool)\n",
      "[W pthreadpool-cpp.cc:90] Warning: Leaking Caffe2 thread-pool after fork. (function pthreadpool)\n",
      "[W pthreadpool-cpp.cc:90] Warning: Leaking Caffe2 thread-pool after fork. (function pthreadpool)\n",
      "[W pthreadpool-cpp.cc:90] Warning: Leaking Caffe2 thread-pool after fork. (function pthreadpool)\n"
     ]
    },
    {
     "name": "stdout",
     "output_type": "stream",
     "text": [
      "29 tensor(0.0001, device='cuda:0', grad_fn=<MseLossBackward>)\n",
      "29 tensor(0.0002, device='cuda:0', grad_fn=<MseLossBackward>)\n",
      "29 tensor(0.0002, device='cuda:0', grad_fn=<MseLossBackward>)\n",
      "29 tensor(0.0001, device='cuda:0', grad_fn=<MseLossBackward>)\n",
      "29 tensor(0.0001, device='cuda:0', grad_fn=<MseLossBackward>)\n",
      "29 tensor(0.0002, device='cuda:0', grad_fn=<MseLossBackward>)\n",
      "29 tensor(8.8300e-05, device='cuda:0', grad_fn=<MseLossBackward>)\n",
      "29 tensor(0.0001, device='cuda:0', grad_fn=<MseLossBackward>)\n",
      "29 tensor(0.0002, device='cuda:0', grad_fn=<MseLossBackward>)\n",
      "29 tensor(0.0001, device='cuda:0', grad_fn=<MseLossBackward>)\n",
      "29 tensor(0.0002, device='cuda:0', grad_fn=<MseLossBackward>)\n",
      "29 tensor(0.0001, device='cuda:0', grad_fn=<MseLossBackward>)\n",
      "29 tensor(0.0002, device='cuda:0', grad_fn=<MseLossBackward>)\n",
      "29 tensor(0.0003, device='cuda:0', grad_fn=<MseLossBackward>)\n",
      "29 tensor(0.0001, device='cuda:0', grad_fn=<MseLossBackward>)\n",
      "29 tensor(0.0001, device='cuda:0', grad_fn=<MseLossBackward>)\n",
      "29 tensor(0.0001, device='cuda:0', grad_fn=<MseLossBackward>)\n",
      "29 tensor(0.0002, device='cuda:0', grad_fn=<MseLossBackward>)\n",
      "29 tensor(0.0002, device='cuda:0', grad_fn=<MseLossBackward>)\n",
      "29 tensor(0.0001, device='cuda:0', grad_fn=<MseLossBackward>)\n",
      "29 tensor(0.0004, device='cuda:0', grad_fn=<MseLossBackward>)\n"
     ]
    },
    {
     "name": "stderr",
     "output_type": "stream",
     "text": [
      "[W pthreadpool-cpp.cc:90] Warning: Leaking Caffe2 thread-pool after fork. (function pthreadpool)\n",
      "[W pthreadpool-cpp.cc:90] Warning: Leaking Caffe2 thread-pool after fork. (function pthreadpool)\n",
      "[W pthreadpool-cpp.cc:90] Warning: Leaking Caffe2 thread-pool after fork. (function pthreadpool)\n",
      "[W pthreadpool-cpp.cc:90] Warning: Leaking Caffe2 thread-pool after fork. (function pthreadpool)\n",
      "[W pthreadpool-cpp.cc:90] Warning: Leaking Caffe2 thread-pool after fork. (function pthreadpool)\n",
      "[W pthreadpool-cpp.cc:90] Warning: Leaking Caffe2 thread-pool after fork. (function pthreadpool)\n",
      "[W pthreadpool-cpp.cc:90] Warning: Leaking Caffe2 thread-pool after fork. (function pthreadpool)\n",
      "[W pthreadpool-cpp.cc:90] Warning: Leaking Caffe2 thread-pool after fork. (function pthreadpool)\n"
     ]
    },
    {
     "name": "stdout",
     "output_type": "stream",
     "text": [
      "30 tensor(0.0001, device='cuda:0', grad_fn=<MseLossBackward>)\n",
      "30 tensor(9.1838e-05, device='cuda:0', grad_fn=<MseLossBackward>)\n",
      "30 tensor(0.0001, device='cuda:0', grad_fn=<MseLossBackward>)\n",
      "30 tensor(0.0001, device='cuda:0', grad_fn=<MseLossBackward>)\n",
      "30 tensor(0.0003, device='cuda:0', grad_fn=<MseLossBackward>)\n",
      "30 tensor(0.0001, device='cuda:0', grad_fn=<MseLossBackward>)\n",
      "30 tensor(0.0002, device='cuda:0', grad_fn=<MseLossBackward>)\n",
      "30 tensor(0.0002, device='cuda:0', grad_fn=<MseLossBackward>)\n",
      "30 tensor(0.0002, device='cuda:0', grad_fn=<MseLossBackward>)\n",
      "30 tensor(0.0002, device='cuda:0', grad_fn=<MseLossBackward>)\n",
      "30 tensor(0.0001, device='cuda:0', grad_fn=<MseLossBackward>)\n",
      "30 tensor(0.0002, device='cuda:0', grad_fn=<MseLossBackward>)\n",
      "30 tensor(0.0001, device='cuda:0', grad_fn=<MseLossBackward>)\n",
      "30 tensor(0.0001, device='cuda:0', grad_fn=<MseLossBackward>)\n",
      "30 tensor(0.0001, device='cuda:0', grad_fn=<MseLossBackward>)\n",
      "30 tensor(0.0001, device='cuda:0', grad_fn=<MseLossBackward>)\n",
      "30 tensor(0.0001, device='cuda:0', grad_fn=<MseLossBackward>)\n"
     ]
    },
    {
     "name": "stderr",
     "output_type": "stream",
     "text": [
      "[W pthreadpool-cpp.cc:90] Warning: Leaking Caffe2 thread-pool after fork. (function pthreadpool)\n"
     ]
    },
    {
     "name": "stdout",
     "output_type": "stream",
     "text": [
      "30 tensor(0.0003, device='cuda:0', grad_fn=<MseLossBackward>)\n",
      "30 tensor(0.0002, device='cuda:0', grad_fn=<MseLossBackward>)\n",
      "30 tensor(0.0001, device='cuda:0', grad_fn=<MseLossBackward>)\n",
      "30 tensor(0.0004, device='cuda:0', grad_fn=<MseLossBackward>)\n"
     ]
    },
    {
     "name": "stderr",
     "output_type": "stream",
     "text": [
      "[W pthreadpool-cpp.cc:90] Warning: Leaking Caffe2 thread-pool after fork. (function pthreadpool)\n",
      "[W pthreadpool-cpp.cc:90] Warning: Leaking Caffe2 thread-pool after fork. (function pthreadpool)\n",
      "[W pthreadpool-cpp.cc:90] Warning: Leaking Caffe2 thread-pool after fork. (function pthreadpool)\n",
      "[W pthreadpool-cpp.cc:90] Warning: Leaking Caffe2 thread-pool after fork. (function pthreadpool)\n",
      "[W pthreadpool-cpp.cc:90] Warning: Leaking Caffe2 thread-pool after fork. (function pthreadpool)\n",
      "[W pthreadpool-cpp.cc:90] Warning: Leaking Caffe2 thread-pool after fork. (function pthreadpool)\n",
      "[W pthreadpool-cpp.cc:90] Warning: Leaking Caffe2 thread-pool after fork. (function pthreadpool)\n",
      "[W pthreadpool-cpp.cc:90] Warning: Leaking Caffe2 thread-pool after fork. (function pthreadpool)\n"
     ]
    },
    {
     "name": "stdout",
     "output_type": "stream",
     "text": [
      "31 tensor(0.0001, device='cuda:0', grad_fn=<MseLossBackward>)\n",
      "31 tensor(0.0002, device='cuda:0', grad_fn=<MseLossBackward>)\n",
      "31 tensor(0.0001, device='cuda:0', grad_fn=<MseLossBackward>)\n",
      "31 tensor(0.0001, device='cuda:0', grad_fn=<MseLossBackward>)\n",
      "31 tensor(0.0002, device='cuda:0', grad_fn=<MseLossBackward>)\n",
      "31 tensor(0.0002, device='cuda:0', grad_fn=<MseLossBackward>)\n",
      "31 tensor(0.0001, device='cuda:0', grad_fn=<MseLossBackward>)\n",
      "31 tensor(0.0001, device='cuda:0', grad_fn=<MseLossBackward>)\n",
      "31 tensor(0.0002, device='cuda:0', grad_fn=<MseLossBackward>)\n",
      "31 tensor(0.0001, device='cuda:0', grad_fn=<MseLossBackward>)\n",
      "31 tensor(0.0002, device='cuda:0', grad_fn=<MseLossBackward>)\n",
      "31 tensor(0.0001, device='cuda:0', grad_fn=<MseLossBackward>)\n",
      "31 tensor(0.0003, device='cuda:0', grad_fn=<MseLossBackward>)\n",
      "31 tensor(0.0001, device='cuda:0', grad_fn=<MseLossBackward>)\n",
      "31 tensor(0.0001, device='cuda:0', grad_fn=<MseLossBackward>)\n",
      "31 tensor(0.0001, device='cuda:0', grad_fn=<MseLossBackward>)\n",
      "31 tensor(0.0003, device='cuda:0', grad_fn=<MseLossBackward>)\n",
      "31 tensor(0.0002, device='cuda:0', grad_fn=<MseLossBackward>)\n"
     ]
    },
    {
     "name": "stderr",
     "output_type": "stream",
     "text": [
      "[W pthreadpool-cpp.cc:90] Warning: Leaking Caffe2 thread-pool after fork. (function pthreadpool)\n"
     ]
    },
    {
     "name": "stdout",
     "output_type": "stream",
     "text": [
      "31 tensor(0.0001, device='cuda:0', grad_fn=<MseLossBackward>)\n",
      "31 tensor(0.0001, device='cuda:0', grad_fn=<MseLossBackward>)\n",
      "31 tensor(0.0002, device='cuda:0', grad_fn=<MseLossBackward>)\n"
     ]
    },
    {
     "name": "stderr",
     "output_type": "stream",
     "text": [
      "[W pthreadpool-cpp.cc:90] Warning: Leaking Caffe2 thread-pool after fork. (function pthreadpool)\n",
      "[W pthreadpool-cpp.cc:90] Warning: Leaking Caffe2 thread-pool after fork. (function pthreadpool)\n",
      "[W pthreadpool-cpp.cc:90] Warning: Leaking Caffe2 thread-pool after fork. (function pthreadpool)\n",
      "[W pthreadpool-cpp.cc:90] Warning: Leaking Caffe2 thread-pool after fork. (function pthreadpool)\n",
      "[W pthreadpool-cpp.cc:90] Warning: Leaking Caffe2 thread-pool after fork. (function pthreadpool)\n",
      "[W pthreadpool-cpp.cc:90] Warning: Leaking Caffe2 thread-pool after fork. (function pthreadpool)\n",
      "[W pthreadpool-cpp.cc:90] Warning: Leaking Caffe2 thread-pool after fork. (function pthreadpool)\n",
      "[W pthreadpool-cpp.cc:90] Warning: Leaking Caffe2 thread-pool after fork. (function pthreadpool)\n"
     ]
    },
    {
     "name": "stdout",
     "output_type": "stream",
     "text": [
      "32 tensor(0.0003, device='cuda:0', grad_fn=<MseLossBackward>)\n",
      "32 tensor(0.0002, device='cuda:0', grad_fn=<MseLossBackward>)\n",
      "32 tensor(0.0002, device='cuda:0', grad_fn=<MseLossBackward>)\n",
      "32 tensor(9.6446e-05, device='cuda:0', grad_fn=<MseLossBackward>)\n",
      "32 tensor(0.0002, device='cuda:0', grad_fn=<MseLossBackward>)\n",
      "32 tensor(0.0002, device='cuda:0', grad_fn=<MseLossBackward>)\n",
      "32 tensor(0.0002, device='cuda:0', grad_fn=<MseLossBackward>)\n",
      "32 tensor(0.0002, device='cuda:0', grad_fn=<MseLossBackward>)\n",
      "32 tensor(0.0001, device='cuda:0', grad_fn=<MseLossBackward>)\n",
      "32 tensor(0.0001, device='cuda:0', grad_fn=<MseLossBackward>)\n",
      "32 tensor(0.0002, device='cuda:0', grad_fn=<MseLossBackward>)\n",
      "32 tensor(0.0003, device='cuda:0', grad_fn=<MseLossBackward>)\n",
      "32 tensor(0.0001, device='cuda:0', grad_fn=<MseLossBackward>)\n",
      "32 tensor(0.0001, device='cuda:0', grad_fn=<MseLossBackward>)\n",
      "32 tensor(0.0002, device='cuda:0', grad_fn=<MseLossBackward>)\n",
      "32 tensor(0.0001, device='cuda:0', grad_fn=<MseLossBackward>)\n",
      "32 tensor(0.0002, device='cuda:0', grad_fn=<MseLossBackward>)\n"
     ]
    },
    {
     "name": "stderr",
     "output_type": "stream",
     "text": [
      "[W pthreadpool-cpp.cc:90] Warning: Leaking Caffe2 thread-pool after fork. (function pthreadpool)\n"
     ]
    },
    {
     "name": "stdout",
     "output_type": "stream",
     "text": [
      "32 tensor(9.8738e-05, device='cuda:0', grad_fn=<MseLossBackward>)\n",
      "32 tensor(0.0001, device='cuda:0', grad_fn=<MseLossBackward>)\n",
      "32 tensor(0.0001, device='cuda:0', grad_fn=<MseLossBackward>)\n",
      "32 tensor(0.0002, device='cuda:0', grad_fn=<MseLossBackward>)\n"
     ]
    },
    {
     "name": "stderr",
     "output_type": "stream",
     "text": [
      "[W pthreadpool-cpp.cc:90] Warning: Leaking Caffe2 thread-pool after fork. (function pthreadpool)\n",
      "[W pthreadpool-cpp.cc:90] Warning: Leaking Caffe2 thread-pool after fork. (function pthreadpool)\n",
      "[W pthreadpool-cpp.cc:90] Warning: Leaking Caffe2 thread-pool after fork. (function pthreadpool)\n",
      "[W pthreadpool-cpp.cc:90] Warning: Leaking Caffe2 thread-pool after fork. (function pthreadpool)\n",
      "[W pthreadpool-cpp.cc:90] Warning: Leaking Caffe2 thread-pool after fork. (function pthreadpool)\n",
      "[W pthreadpool-cpp.cc:90] Warning: Leaking Caffe2 thread-pool after fork. (function pthreadpool)\n",
      "[W pthreadpool-cpp.cc:90] Warning: Leaking Caffe2 thread-pool after fork. (function pthreadpool)\n",
      "[W pthreadpool-cpp.cc:90] Warning: Leaking Caffe2 thread-pool after fork. (function pthreadpool)\n"
     ]
    },
    {
     "name": "stdout",
     "output_type": "stream",
     "text": [
      "33 tensor(0.0002, device='cuda:0', grad_fn=<MseLossBackward>)\n",
      "33 tensor(0.0001, device='cuda:0', grad_fn=<MseLossBackward>)\n",
      "33 tensor(0.0001, device='cuda:0', grad_fn=<MseLossBackward>)\n",
      "33 tensor(0.0001, device='cuda:0', grad_fn=<MseLossBackward>)\n",
      "33 tensor(0.0001, device='cuda:0', grad_fn=<MseLossBackward>)\n",
      "33 tensor(0.0001, device='cuda:0', grad_fn=<MseLossBackward>)\n",
      "33 tensor(0.0001, device='cuda:0', grad_fn=<MseLossBackward>)\n",
      "33 tensor(0.0001, device='cuda:0', grad_fn=<MseLossBackward>)\n",
      "33 tensor(0.0002, device='cuda:0', grad_fn=<MseLossBackward>)\n",
      "33 tensor(0.0002, device='cuda:0', grad_fn=<MseLossBackward>)\n",
      "33 tensor(0.0002, device='cuda:0', grad_fn=<MseLossBackward>)\n",
      "33 tensor(0.0001, device='cuda:0', grad_fn=<MseLossBackward>)\n",
      "33 tensor(0.0002, device='cuda:0', grad_fn=<MseLossBackward>)\n",
      "33 tensor(0.0001, device='cuda:0', grad_fn=<MseLossBackward>)\n",
      "33 tensor(0.0001, device='cuda:0', grad_fn=<MseLossBackward>)\n",
      "33 tensor(0.0002, device='cuda:0', grad_fn=<MseLossBackward>)\n",
      "33 tensor(0.0001, device='cuda:0', grad_fn=<MseLossBackward>)\n",
      "33 tensor(0.0001, device='cuda:0', grad_fn=<MseLossBackward>)\n",
      "33 tensor(0.0001, device='cuda:0', grad_fn=<MseLossBackward>)\n",
      "33 tensor(0.0002, device='cuda:0', grad_fn=<MseLossBackward>)\n",
      "33 tensor(0.0001, device='cuda:0', grad_fn=<MseLossBackward>)\n"
     ]
    },
    {
     "name": "stderr",
     "output_type": "stream",
     "text": [
      "[W pthreadpool-cpp.cc:90] Warning: Leaking Caffe2 thread-pool after fork. (function pthreadpool)\n",
      "[W pthreadpool-cpp.cc:90] Warning: Leaking Caffe2 thread-pool after fork. (function pthreadpool)\n",
      "[W pthreadpool-cpp.cc:90] Warning: Leaking Caffe2 thread-pool after fork. (function pthreadpool)\n",
      "[W pthreadpool-cpp.cc:90] Warning: Leaking Caffe2 thread-pool after fork. (function pthreadpool)\n",
      "[W pthreadpool-cpp.cc:90] Warning: Leaking Caffe2 thread-pool after fork. (function pthreadpool)\n",
      "[W pthreadpool-cpp.cc:90] Warning: Leaking Caffe2 thread-pool after fork. (function pthreadpool)\n",
      "[W pthreadpool-cpp.cc:90] Warning: Leaking Caffe2 thread-pool after fork. (function pthreadpool)\n",
      "[W pthreadpool-cpp.cc:90] Warning: Leaking Caffe2 thread-pool after fork. (function pthreadpool)\n"
     ]
    },
    {
     "name": "stdout",
     "output_type": "stream",
     "text": [
      "34 tensor(0.0001, device='cuda:0', grad_fn=<MseLossBackward>)\n",
      "34 tensor(0.0002, device='cuda:0', grad_fn=<MseLossBackward>)\n",
      "34 tensor(0.0001, device='cuda:0', grad_fn=<MseLossBackward>)\n",
      "34 tensor(0.0001, device='cuda:0', grad_fn=<MseLossBackward>)\n",
      "34 tensor(0.0001, device='cuda:0', grad_fn=<MseLossBackward>)\n",
      "34 tensor(0.0002, device='cuda:0', grad_fn=<MseLossBackward>)\n",
      "34 tensor(0.0001, device='cuda:0', grad_fn=<MseLossBackward>)\n",
      "34 tensor(0.0001, device='cuda:0', grad_fn=<MseLossBackward>)\n",
      "34 tensor(0.0002, device='cuda:0', grad_fn=<MseLossBackward>)\n",
      "34 tensor(0.0002, device='cuda:0', grad_fn=<MseLossBackward>)\n",
      "34 tensor(0.0003, device='cuda:0', grad_fn=<MseLossBackward>)\n",
      "34 tensor(0.0002, device='cuda:0', grad_fn=<MseLossBackward>)\n",
      "34 tensor(0.0001, device='cuda:0', grad_fn=<MseLossBackward>)\n",
      "34 tensor(0.0001, device='cuda:0', grad_fn=<MseLossBackward>)\n",
      "34 tensor(0.0002, device='cuda:0', grad_fn=<MseLossBackward>)\n",
      "34 tensor(0.0001, device='cuda:0', grad_fn=<MseLossBackward>)\n",
      "34 tensor(0.0002, device='cuda:0', grad_fn=<MseLossBackward>)\n",
      "34 tensor(0.0001, device='cuda:0', grad_fn=<MseLossBackward>)\n",
      "34 tensor(0.0001, device='cuda:0', grad_fn=<MseLossBackward>)\n",
      "34 tensor(0.0002, device='cuda:0', grad_fn=<MseLossBackward>)\n",
      "34 tensor(0.0002, device='cuda:0', grad_fn=<MseLossBackward>)\n"
     ]
    },
    {
     "name": "stderr",
     "output_type": "stream",
     "text": [
      "[W pthreadpool-cpp.cc:90] Warning: Leaking Caffe2 thread-pool after fork. (function pthreadpool)\n",
      "[W pthreadpool-cpp.cc:90] Warning: Leaking Caffe2 thread-pool after fork. (function pthreadpool)\n",
      "[W pthreadpool-cpp.cc:90] Warning: Leaking Caffe2 thread-pool after fork. (function pthreadpool)\n",
      "[W pthreadpool-cpp.cc:90] Warning: Leaking Caffe2 thread-pool after fork. (function pthreadpool)\n",
      "[W pthreadpool-cpp.cc:90] Warning: Leaking Caffe2 thread-pool after fork. (function pthreadpool)\n",
      "[W pthreadpool-cpp.cc:90] Warning: Leaking Caffe2 thread-pool after fork. (function pthreadpool)\n",
      "[W pthreadpool-cpp.cc:90] Warning: Leaking Caffe2 thread-pool after fork. (function pthreadpool)\n",
      "[W pthreadpool-cpp.cc:90] Warning: Leaking Caffe2 thread-pool after fork. (function pthreadpool)\n"
     ]
    },
    {
     "name": "stdout",
     "output_type": "stream",
     "text": [
      "35 tensor(0.0001, device='cuda:0', grad_fn=<MseLossBackward>)\n",
      "35 tensor(0.0001, device='cuda:0', grad_fn=<MseLossBackward>)\n",
      "35 tensor(0.0002, device='cuda:0', grad_fn=<MseLossBackward>)\n",
      "35 tensor(0.0001, device='cuda:0', grad_fn=<MseLossBackward>)\n",
      "35 tensor(0.0004, device='cuda:0', grad_fn=<MseLossBackward>)\n",
      "35 tensor(0.0001, device='cuda:0', grad_fn=<MseLossBackward>)\n",
      "35 tensor(0.0002, device='cuda:0', grad_fn=<MseLossBackward>)\n",
      "35 tensor(0.0002, device='cuda:0', grad_fn=<MseLossBackward>)\n",
      "35 tensor(0.0002, device='cuda:0', grad_fn=<MseLossBackward>)\n",
      "35 tensor(0.0001, device='cuda:0', grad_fn=<MseLossBackward>)\n",
      "35 tensor(0.0002, device='cuda:0', grad_fn=<MseLossBackward>)\n",
      "35 tensor(0.0001, device='cuda:0', grad_fn=<MseLossBackward>)\n",
      "35 tensor(0.0001, device='cuda:0', grad_fn=<MseLossBackward>)\n",
      "35 tensor(0.0001, device='cuda:0', grad_fn=<MseLossBackward>)\n",
      "35 tensor(0.0002, device='cuda:0', grad_fn=<MseLossBackward>)\n",
      "35 tensor(0.0001, device='cuda:0', grad_fn=<MseLossBackward>)\n",
      "35 tensor(0.0002, device='cuda:0', grad_fn=<MseLossBackward>)\n",
      "35 tensor(0.0001, device='cuda:0', grad_fn=<MseLossBackward>)\n",
      "35 tensor(0.0002, device='cuda:0', grad_fn=<MseLossBackward>)\n",
      "35 tensor(0.0001, device='cuda:0', grad_fn=<MseLossBackward>)\n",
      "35 tensor(9.2031e-05, device='cuda:0', grad_fn=<MseLossBackward>)\n"
     ]
    },
    {
     "name": "stderr",
     "output_type": "stream",
     "text": [
      "[W pthreadpool-cpp.cc:90] Warning: Leaking Caffe2 thread-pool after fork. (function pthreadpool)\n",
      "[W pthreadpool-cpp.cc:90] Warning: Leaking Caffe2 thread-pool after fork. (function pthreadpool)\n",
      "[W pthreadpool-cpp.cc:90] Warning: Leaking Caffe2 thread-pool after fork. (function pthreadpool)\n",
      "[W pthreadpool-cpp.cc:90] Warning: Leaking Caffe2 thread-pool after fork. (function pthreadpool)\n",
      "[W pthreadpool-cpp.cc:90] Warning: Leaking Caffe2 thread-pool after fork. (function pthreadpool)\n",
      "[W pthreadpool-cpp.cc:90] Warning: Leaking Caffe2 thread-pool after fork. (function pthreadpool)\n",
      "[W pthreadpool-cpp.cc:90] Warning: Leaking Caffe2 thread-pool after fork. (function pthreadpool)\n",
      "[W pthreadpool-cpp.cc:90] Warning: Leaking Caffe2 thread-pool after fork. (function pthreadpool)\n"
     ]
    },
    {
     "name": "stdout",
     "output_type": "stream",
     "text": [
      "36 tensor(0.0001, device='cuda:0', grad_fn=<MseLossBackward>)\n",
      "36 tensor(0.0003, device='cuda:0', grad_fn=<MseLossBackward>)\n",
      "36 tensor(0.0001, device='cuda:0', grad_fn=<MseLossBackward>)\n",
      "36 tensor(0.0002, device='cuda:0', grad_fn=<MseLossBackward>)\n",
      "36 tensor(0.0002, device='cuda:0', grad_fn=<MseLossBackward>)\n",
      "36 tensor(0.0002, device='cuda:0', grad_fn=<MseLossBackward>)\n",
      "36 tensor(0.0001, device='cuda:0', grad_fn=<MseLossBackward>)\n",
      "36 tensor(0.0001, device='cuda:0', grad_fn=<MseLossBackward>)\n",
      "36 tensor(0.0001, device='cuda:0', grad_fn=<MseLossBackward>)\n",
      "36 tensor(0.0001, device='cuda:0', grad_fn=<MseLossBackward>)\n",
      "36 tensor(0.0001, device='cuda:0', grad_fn=<MseLossBackward>)\n",
      "36 tensor(0.0001, device='cuda:0', grad_fn=<MseLossBackward>)\n",
      "36 tensor(0.0001, device='cuda:0', grad_fn=<MseLossBackward>)\n",
      "36 tensor(0.0002, device='cuda:0', grad_fn=<MseLossBackward>)\n",
      "36 tensor(0.0002, device='cuda:0', grad_fn=<MseLossBackward>)\n",
      "36 tensor(0.0001, device='cuda:0', grad_fn=<MseLossBackward>)\n",
      "36 tensor(0.0002, device='cuda:0', grad_fn=<MseLossBackward>)\n",
      "36 tensor(0.0001, device='cuda:0', grad_fn=<MseLossBackward>)\n"
     ]
    },
    {
     "name": "stderr",
     "output_type": "stream",
     "text": [
      "[W pthreadpool-cpp.cc:90] Warning: Leaking Caffe2 thread-pool after fork. (function pthreadpool)\n"
     ]
    },
    {
     "name": "stdout",
     "output_type": "stream",
     "text": [
      "36 tensor(0.0001, device='cuda:0', grad_fn=<MseLossBackward>)\n",
      "36 tensor(0.0001, device='cuda:0', grad_fn=<MseLossBackward>)\n",
      "36 tensor(0.0002, device='cuda:0', grad_fn=<MseLossBackward>)\n"
     ]
    },
    {
     "name": "stderr",
     "output_type": "stream",
     "text": [
      "[W pthreadpool-cpp.cc:90] Warning: Leaking Caffe2 thread-pool after fork. (function pthreadpool)\n",
      "[W pthreadpool-cpp.cc:90] Warning: Leaking Caffe2 thread-pool after fork. (function pthreadpool)\n",
      "[W pthreadpool-cpp.cc:90] Warning: Leaking Caffe2 thread-pool after fork. (function pthreadpool)\n",
      "[W pthreadpool-cpp.cc:90] Warning: Leaking Caffe2 thread-pool after fork. (function pthreadpool)\n",
      "[W pthreadpool-cpp.cc:90] Warning: Leaking Caffe2 thread-pool after fork. (function pthreadpool)\n",
      "[W pthreadpool-cpp.cc:90] Warning: Leaking Caffe2 thread-pool after fork. (function pthreadpool)\n",
      "[W pthreadpool-cpp.cc:90] Warning: Leaking Caffe2 thread-pool after fork. (function pthreadpool)\n",
      "[W pthreadpool-cpp.cc:90] Warning: Leaking Caffe2 thread-pool after fork. (function pthreadpool)\n"
     ]
    },
    {
     "name": "stdout",
     "output_type": "stream",
     "text": [
      "37 tensor(0.0002, device='cuda:0', grad_fn=<MseLossBackward>)\n",
      "37 tensor(0.0002, device='cuda:0', grad_fn=<MseLossBackward>)\n",
      "37 tensor(0.0003, device='cuda:0', grad_fn=<MseLossBackward>)\n",
      "37 tensor(0.0001, device='cuda:0', grad_fn=<MseLossBackward>)\n",
      "37 tensor(0.0001, device='cuda:0', grad_fn=<MseLossBackward>)\n",
      "37 tensor(0.0001, device='cuda:0', grad_fn=<MseLossBackward>)\n",
      "37 tensor(0.0001, device='cuda:0', grad_fn=<MseLossBackward>)\n",
      "37 tensor(0.0003, device='cuda:0', grad_fn=<MseLossBackward>)\n",
      "37 tensor(0.0001, device='cuda:0', grad_fn=<MseLossBackward>)\n",
      "37 tensor(0.0001, device='cuda:0', grad_fn=<MseLossBackward>)\n",
      "37 tensor(0.0002, device='cuda:0', grad_fn=<MseLossBackward>)\n",
      "37 tensor(0.0002, device='cuda:0', grad_fn=<MseLossBackward>)\n",
      "37 tensor(0.0002, device='cuda:0', grad_fn=<MseLossBackward>)\n",
      "37 tensor(9.8693e-05, device='cuda:0', grad_fn=<MseLossBackward>)\n",
      "37 tensor(0.0001, device='cuda:0', grad_fn=<MseLossBackward>)\n",
      "37 tensor(0.0002, device='cuda:0', grad_fn=<MseLossBackward>)\n",
      "37 tensor(0.0001, device='cuda:0', grad_fn=<MseLossBackward>)\n",
      "37 tensor(0.0002, device='cuda:0', grad_fn=<MseLossBackward>)\n",
      "37 tensor(0.0001, device='cuda:0', grad_fn=<MseLossBackward>)\n",
      "37 tensor(0.0002, device='cuda:0', grad_fn=<MseLossBackward>)\n",
      "37 tensor(0.0001, device='cuda:0', grad_fn=<MseLossBackward>)\n"
     ]
    },
    {
     "name": "stderr",
     "output_type": "stream",
     "text": [
      "[W pthreadpool-cpp.cc:90] Warning: Leaking Caffe2 thread-pool after fork. (function pthreadpool)\n",
      "[W pthreadpool-cpp.cc:90] Warning: Leaking Caffe2 thread-pool after fork. (function pthreadpool)\n",
      "[W pthreadpool-cpp.cc:90] Warning: Leaking Caffe2 thread-pool after fork. (function pthreadpool)\n",
      "[W pthreadpool-cpp.cc:90] Warning: Leaking Caffe2 thread-pool after fork. (function pthreadpool)\n",
      "[W pthreadpool-cpp.cc:90] Warning: Leaking Caffe2 thread-pool after fork. (function pthreadpool)\n",
      "[W pthreadpool-cpp.cc:90] Warning: Leaking Caffe2 thread-pool after fork. (function pthreadpool)\n",
      "[W pthreadpool-cpp.cc:90] Warning: Leaking Caffe2 thread-pool after fork. (function pthreadpool)\n",
      "[W pthreadpool-cpp.cc:90] Warning: Leaking Caffe2 thread-pool after fork. (function pthreadpool)\n"
     ]
    },
    {
     "name": "stdout",
     "output_type": "stream",
     "text": [
      "38 tensor(0.0001, device='cuda:0', grad_fn=<MseLossBackward>)\n",
      "38 tensor(0.0002, device='cuda:0', grad_fn=<MseLossBackward>)\n",
      "38 tensor(0.0002, device='cuda:0', grad_fn=<MseLossBackward>)\n",
      "38 tensor(0.0001, device='cuda:0', grad_fn=<MseLossBackward>)\n",
      "38 tensor(0.0001, device='cuda:0', grad_fn=<MseLossBackward>)\n",
      "38 tensor(0.0003, device='cuda:0', grad_fn=<MseLossBackward>)\n",
      "38 tensor(0.0001, device='cuda:0', grad_fn=<MseLossBackward>)\n",
      "38 tensor(0.0002, device='cuda:0', grad_fn=<MseLossBackward>)\n",
      "38 tensor(0.0001, device='cuda:0', grad_fn=<MseLossBackward>)\n",
      "38 tensor(0.0002, device='cuda:0', grad_fn=<MseLossBackward>)\n",
      "38 tensor(0.0001, device='cuda:0', grad_fn=<MseLossBackward>)\n",
      "38 tensor(0.0002, device='cuda:0', grad_fn=<MseLossBackward>)\n",
      "38 tensor(0.0001, device='cuda:0', grad_fn=<MseLossBackward>)\n",
      "38 tensor(0.0002, device='cuda:0', grad_fn=<MseLossBackward>)\n",
      "38 tensor(0.0002, device='cuda:0', grad_fn=<MseLossBackward>)\n"
     ]
    },
    {
     "name": "stderr",
     "output_type": "stream",
     "text": [
      "[W pthreadpool-cpp.cc:90] Warning: Leaking Caffe2 thread-pool after fork. (function pthreadpool)\n"
     ]
    },
    {
     "name": "stdout",
     "output_type": "stream",
     "text": [
      "38 tensor(0.0001, device='cuda:0', grad_fn=<MseLossBackward>)\n",
      "38 tensor(0.0002, device='cuda:0', grad_fn=<MseLossBackward>)\n",
      "38 tensor(0.0002, device='cuda:0', grad_fn=<MseLossBackward>)\n",
      "38 tensor(0.0001, device='cuda:0', grad_fn=<MseLossBackward>)\n",
      "38 tensor(0.0001, device='cuda:0', grad_fn=<MseLossBackward>)\n",
      "38 tensor(0.0002, device='cuda:0', grad_fn=<MseLossBackward>)\n"
     ]
    },
    {
     "name": "stderr",
     "output_type": "stream",
     "text": [
      "[W pthreadpool-cpp.cc:90] Warning: Leaking Caffe2 thread-pool after fork. (function pthreadpool)\n",
      "[W pthreadpool-cpp.cc:90] Warning: Leaking Caffe2 thread-pool after fork. (function pthreadpool)\n",
      "[W pthreadpool-cpp.cc:90] Warning: Leaking Caffe2 thread-pool after fork. (function pthreadpool)\n",
      "[W pthreadpool-cpp.cc:90] Warning: Leaking Caffe2 thread-pool after fork. (function pthreadpool)\n",
      "[W pthreadpool-cpp.cc:90] Warning: Leaking Caffe2 thread-pool after fork. (function pthreadpool)\n",
      "[W pthreadpool-cpp.cc:90] Warning: Leaking Caffe2 thread-pool after fork. (function pthreadpool)\n",
      "[W pthreadpool-cpp.cc:90] Warning: Leaking Caffe2 thread-pool after fork. (function pthreadpool)\n",
      "[W pthreadpool-cpp.cc:90] Warning: Leaking Caffe2 thread-pool after fork. (function pthreadpool)\n",
      "[W pthreadpool-cpp.cc:90] Warning: Leaking Caffe2 thread-pool after fork. (function pthreadpool)\n"
     ]
    },
    {
     "name": "stdout",
     "output_type": "stream",
     "text": [
      "39 tensor(0.0001, device='cuda:0', grad_fn=<MseLossBackward>)\n",
      "39 tensor(9.9580e-05, device='cuda:0', grad_fn=<MseLossBackward>)\n",
      "39 tensor(0.0001, device='cuda:0', grad_fn=<MseLossBackward>)\n",
      "39 tensor(8.4515e-05, device='cuda:0', grad_fn=<MseLossBackward>)\n",
      "39 tensor(0.0001, device='cuda:0', grad_fn=<MseLossBackward>)\n",
      "39 tensor(0.0001, device='cuda:0', grad_fn=<MseLossBackward>)\n",
      "39 tensor(0.0002, device='cuda:0', grad_fn=<MseLossBackward>)\n",
      "39 tensor(0.0001, device='cuda:0', grad_fn=<MseLossBackward>)\n",
      "39 tensor(0.0001, device='cuda:0', grad_fn=<MseLossBackward>)\n",
      "39 tensor(0.0001, device='cuda:0', grad_fn=<MseLossBackward>)\n",
      "39 tensor(0.0003, device='cuda:0', grad_fn=<MseLossBackward>)\n",
      "39 tensor(0.0001, device='cuda:0', grad_fn=<MseLossBackward>)\n",
      "39 tensor(0.0001, device='cuda:0', grad_fn=<MseLossBackward>)\n",
      "39 tensor(0.0002, device='cuda:0', grad_fn=<MseLossBackward>)\n",
      "39 tensor(0.0001, device='cuda:0', grad_fn=<MseLossBackward>)\n",
      "39 tensor(0.0001, device='cuda:0', grad_fn=<MseLossBackward>)\n"
     ]
    },
    {
     "name": "stderr",
     "output_type": "stream",
     "text": [
      "[W pthreadpool-cpp.cc:90] Warning: Leaking Caffe2 thread-pool after fork. (function pthreadpool)\n"
     ]
    },
    {
     "name": "stdout",
     "output_type": "stream",
     "text": [
      "39 tensor(0.0001, device='cuda:0', grad_fn=<MseLossBackward>)\n",
      "39 tensor(0.0002, device='cuda:0', grad_fn=<MseLossBackward>)\n",
      "39 tensor(0.0002, device='cuda:0', grad_fn=<MseLossBackward>)\n",
      "39 tensor(0.0002, device='cuda:0', grad_fn=<MseLossBackward>)\n",
      "39 tensor(0.0001, device='cuda:0', grad_fn=<MseLossBackward>)\n"
     ]
    },
    {
     "name": "stderr",
     "output_type": "stream",
     "text": [
      "[W pthreadpool-cpp.cc:90] Warning: Leaking Caffe2 thread-pool after fork. (function pthreadpool)\n",
      "[W pthreadpool-cpp.cc:90] Warning: Leaking Caffe2 thread-pool after fork. (function pthreadpool)\n",
      "[W pthreadpool-cpp.cc:90] Warning: Leaking Caffe2 thread-pool after fork. (function pthreadpool)\n",
      "[W pthreadpool-cpp.cc:90] Warning: Leaking Caffe2 thread-pool after fork. (function pthreadpool)\n",
      "[W pthreadpool-cpp.cc:90] Warning: Leaking Caffe2 thread-pool after fork. (function pthreadpool)\n",
      "[W pthreadpool-cpp.cc:90] Warning: Leaking Caffe2 thread-pool after fork. (function pthreadpool)\n",
      "[W pthreadpool-cpp.cc:90] Warning: Leaking Caffe2 thread-pool after fork. (function pthreadpool)\n",
      "[W pthreadpool-cpp.cc:90] Warning: Leaking Caffe2 thread-pool after fork. (function pthreadpool)\n"
     ]
    },
    {
     "name": "stdout",
     "output_type": "stream",
     "text": [
      "40 tensor(0.0001, device='cuda:0', grad_fn=<MseLossBackward>)\n",
      "40 tensor(0.0001, device='cuda:0', grad_fn=<MseLossBackward>)\n",
      "40 tensor(0.0002, device='cuda:0', grad_fn=<MseLossBackward>)\n",
      "40 tensor(0.0002, device='cuda:0', grad_fn=<MseLossBackward>)\n",
      "40 tensor(0.0001, device='cuda:0', grad_fn=<MseLossBackward>)\n",
      "40 tensor(0.0001, device='cuda:0', grad_fn=<MseLossBackward>)\n",
      "40 tensor(0.0003, device='cuda:0', grad_fn=<MseLossBackward>)\n",
      "40 tensor(0.0001, device='cuda:0', grad_fn=<MseLossBackward>)\n",
      "40 tensor(0.0003, device='cuda:0', grad_fn=<MseLossBackward>)\n",
      "40 tensor(0.0001, device='cuda:0', grad_fn=<MseLossBackward>)\n",
      "40 tensor(0.0002, device='cuda:0', grad_fn=<MseLossBackward>)\n",
      "40 tensor(0.0002, device='cuda:0', grad_fn=<MseLossBackward>)\n",
      "40 tensor(0.0001, device='cuda:0', grad_fn=<MseLossBackward>)\n",
      "40 tensor(0.0002, device='cuda:0', grad_fn=<MseLossBackward>)\n",
      "40 tensor(0.0001, device='cuda:0', grad_fn=<MseLossBackward>)\n",
      "40 tensor(0.0001, device='cuda:0', grad_fn=<MseLossBackward>)\n",
      "40 tensor(0.0001, device='cuda:0', grad_fn=<MseLossBackward>)\n",
      "40 tensor(0.0001, device='cuda:0', grad_fn=<MseLossBackward>)\n",
      "40 tensor(0.0002, device='cuda:0', grad_fn=<MseLossBackward>)\n",
      "40 tensor(0.0001, device='cuda:0', grad_fn=<MseLossBackward>)\n",
      "40 tensor(0.0001, device='cuda:0', grad_fn=<MseLossBackward>)\n"
     ]
    },
    {
     "name": "stderr",
     "output_type": "stream",
     "text": [
      "[W pthreadpool-cpp.cc:90] Warning: Leaking Caffe2 thread-pool after fork. (function pthreadpool)\n",
      "[W pthreadpool-cpp.cc:90] Warning: Leaking Caffe2 thread-pool after fork. (function pthreadpool)\n",
      "[W pthreadpool-cpp.cc:90] Warning: Leaking Caffe2 thread-pool after fork. (function pthreadpool)\n",
      "[W pthreadpool-cpp.cc:90] Warning: Leaking Caffe2 thread-pool after fork. (function pthreadpool)\n",
      "[W pthreadpool-cpp.cc:90] Warning: Leaking Caffe2 thread-pool after fork. (function pthreadpool)\n",
      "[W pthreadpool-cpp.cc:90] Warning: Leaking Caffe2 thread-pool after fork. (function pthreadpool)\n",
      "[W pthreadpool-cpp.cc:90] Warning: Leaking Caffe2 thread-pool after fork. (function pthreadpool)\n",
      "[W pthreadpool-cpp.cc:90] Warning: Leaking Caffe2 thread-pool after fork. (function pthreadpool)\n"
     ]
    },
    {
     "name": "stdout",
     "output_type": "stream",
     "text": [
      "41 tensor(0.0002, device='cuda:0', grad_fn=<MseLossBackward>)\n",
      "41 tensor(0.0001, device='cuda:0', grad_fn=<MseLossBackward>)\n",
      "41 tensor(0.0001, device='cuda:0', grad_fn=<MseLossBackward>)\n",
      "41 tensor(9.5005e-05, device='cuda:0', grad_fn=<MseLossBackward>)\n",
      "41 tensor(0.0001, device='cuda:0', grad_fn=<MseLossBackward>)\n",
      "41 tensor(0.0002, device='cuda:0', grad_fn=<MseLossBackward>)\n",
      "41 tensor(0.0001, device='cuda:0', grad_fn=<MseLossBackward>)\n",
      "41 tensor(0.0001, device='cuda:0', grad_fn=<MseLossBackward>)\n",
      "41 tensor(0.0001, device='cuda:0', grad_fn=<MseLossBackward>)\n",
      "41 tensor(0.0002, device='cuda:0', grad_fn=<MseLossBackward>)\n",
      "41 tensor(0.0002, device='cuda:0', grad_fn=<MseLossBackward>)\n",
      "41 tensor(0.0002, device='cuda:0', grad_fn=<MseLossBackward>)\n",
      "41 tensor(0.0001, device='cuda:0', grad_fn=<MseLossBackward>)\n",
      "41 tensor(0.0001, device='cuda:0', grad_fn=<MseLossBackward>)\n",
      "41 tensor(0.0001, device='cuda:0', grad_fn=<MseLossBackward>)\n",
      "41 tensor(0.0002, device='cuda:0', grad_fn=<MseLossBackward>)\n",
      "41 tensor(0.0001, device='cuda:0', grad_fn=<MseLossBackward>)\n",
      "41 tensor(0.0003, device='cuda:0', grad_fn=<MseLossBackward>)\n",
      "41 tensor(0.0002, device='cuda:0', grad_fn=<MseLossBackward>)\n",
      "41 tensor(0.0002, device='cuda:0', grad_fn=<MseLossBackward>)\n",
      "41 tensor(0.0001, device='cuda:0', grad_fn=<MseLossBackward>)\n"
     ]
    },
    {
     "name": "stderr",
     "output_type": "stream",
     "text": [
      "[W pthreadpool-cpp.cc:90] Warning: Leaking Caffe2 thread-pool after fork. (function pthreadpool)\n",
      "[W pthreadpool-cpp.cc:90] Warning: Leaking Caffe2 thread-pool after fork. (function pthreadpool)\n",
      "[W pthreadpool-cpp.cc:90] Warning: Leaking Caffe2 thread-pool after fork. (function pthreadpool)\n",
      "[W pthreadpool-cpp.cc:90] Warning: Leaking Caffe2 thread-pool after fork. (function pthreadpool)\n",
      "[W pthreadpool-cpp.cc:90] Warning: Leaking Caffe2 thread-pool after fork. (function pthreadpool)\n",
      "[W pthreadpool-cpp.cc:90] Warning: Leaking Caffe2 thread-pool after fork. (function pthreadpool)\n",
      "[W pthreadpool-cpp.cc:90] Warning: Leaking Caffe2 thread-pool after fork. (function pthreadpool)\n",
      "[W pthreadpool-cpp.cc:90] Warning: Leaking Caffe2 thread-pool after fork. (function pthreadpool)\n"
     ]
    },
    {
     "name": "stdout",
     "output_type": "stream",
     "text": [
      "42 tensor(0.0003, device='cuda:0', grad_fn=<MseLossBackward>)\n",
      "42 tensor(0.0001, device='cuda:0', grad_fn=<MseLossBackward>)\n",
      "42 tensor(0.0001, device='cuda:0', grad_fn=<MseLossBackward>)\n",
      "42 tensor(0.0001, device='cuda:0', grad_fn=<MseLossBackward>)\n",
      "42 tensor(0.0002, device='cuda:0', grad_fn=<MseLossBackward>)\n",
      "42 tensor(0.0001, device='cuda:0', grad_fn=<MseLossBackward>)\n",
      "42 tensor(0.0001, device='cuda:0', grad_fn=<MseLossBackward>)\n",
      "42 tensor(0.0001, device='cuda:0', grad_fn=<MseLossBackward>)\n",
      "42 tensor(0.0002, device='cuda:0', grad_fn=<MseLossBackward>)\n",
      "42 tensor(0.0002, device='cuda:0', grad_fn=<MseLossBackward>)\n",
      "42 tensor(0.0001, device='cuda:0', grad_fn=<MseLossBackward>)\n",
      "42 tensor(0.0002, device='cuda:0', grad_fn=<MseLossBackward>)\n",
      "42 tensor(0.0001, device='cuda:0', grad_fn=<MseLossBackward>)\n",
      "42 tensor(0.0002, device='cuda:0', grad_fn=<MseLossBackward>)\n",
      "42 tensor(0.0001, device='cuda:0', grad_fn=<MseLossBackward>)\n",
      "42 tensor(9.7517e-05, device='cuda:0', grad_fn=<MseLossBackward>)\n",
      "42 tensor(0.0001, device='cuda:0', grad_fn=<MseLossBackward>)\n",
      "42 tensor(8.7952e-05, device='cuda:0', grad_fn=<MseLossBackward>)\n",
      "42 tensor(0.0001, device='cuda:0', grad_fn=<MseLossBackward>)\n",
      "42 tensor(0.0002, device='cuda:0', grad_fn=<MseLossBackward>)\n",
      "42 tensor(0.0002, device='cuda:0', grad_fn=<MseLossBackward>)\n"
     ]
    },
    {
     "name": "stderr",
     "output_type": "stream",
     "text": [
      "[W pthreadpool-cpp.cc:90] Warning: Leaking Caffe2 thread-pool after fork. (function pthreadpool)\n",
      "[W pthreadpool-cpp.cc:90] Warning: Leaking Caffe2 thread-pool after fork. (function pthreadpool)\n",
      "[W pthreadpool-cpp.cc:90] Warning: Leaking Caffe2 thread-pool after fork. (function pthreadpool)\n",
      "[W pthreadpool-cpp.cc:90] Warning: Leaking Caffe2 thread-pool after fork. (function pthreadpool)\n",
      "[W pthreadpool-cpp.cc:90] Warning: Leaking Caffe2 thread-pool after fork. (function pthreadpool)\n",
      "[W pthreadpool-cpp.cc:90] Warning: Leaking Caffe2 thread-pool after fork. (function pthreadpool)\n",
      "[W pthreadpool-cpp.cc:90] Warning: Leaking Caffe2 thread-pool after fork. (function pthreadpool)\n",
      "[W pthreadpool-cpp.cc:90] Warning: Leaking Caffe2 thread-pool after fork. (function pthreadpool)\n"
     ]
    },
    {
     "name": "stdout",
     "output_type": "stream",
     "text": [
      "43 tensor(0.0001, device='cuda:0', grad_fn=<MseLossBackward>)\n",
      "43 tensor(0.0001, device='cuda:0', grad_fn=<MseLossBackward>)\n",
      "43 tensor(0.0002, device='cuda:0', grad_fn=<MseLossBackward>)\n",
      "43 tensor(0.0002, device='cuda:0', grad_fn=<MseLossBackward>)\n",
      "43 tensor(0.0001, device='cuda:0', grad_fn=<MseLossBackward>)\n",
      "43 tensor(0.0002, device='cuda:0', grad_fn=<MseLossBackward>)\n",
      "43 tensor(0.0001, device='cuda:0', grad_fn=<MseLossBackward>)\n",
      "43 tensor(0.0001, device='cuda:0', grad_fn=<MseLossBackward>)\n",
      "43 tensor(0.0001, device='cuda:0', grad_fn=<MseLossBackward>)\n",
      "43 tensor(0.0002, device='cuda:0', grad_fn=<MseLossBackward>)\n",
      "43 tensor(0.0001, device='cuda:0', grad_fn=<MseLossBackward>)\n",
      "43 tensor(0.0001, device='cuda:0', grad_fn=<MseLossBackward>)\n",
      "43 tensor(0.0003, device='cuda:0', grad_fn=<MseLossBackward>)\n",
      "43 tensor(0.0001, device='cuda:0', grad_fn=<MseLossBackward>)\n",
      "43 tensor(0.0002, device='cuda:0', grad_fn=<MseLossBackward>)\n",
      "43 tensor(0.0001, device='cuda:0', grad_fn=<MseLossBackward>)\n",
      "43 tensor(0.0001, device='cuda:0', grad_fn=<MseLossBackward>)\n",
      "43 tensor(0.0001, device='cuda:0', grad_fn=<MseLossBackward>)\n",
      "43 tensor(0.0001, device='cuda:0', grad_fn=<MseLossBackward>)\n",
      "43 tensor(0.0002, device='cuda:0', grad_fn=<MseLossBackward>)\n",
      "43 tensor(0.0001, device='cuda:0', grad_fn=<MseLossBackward>)\n"
     ]
    },
    {
     "name": "stderr",
     "output_type": "stream",
     "text": [
      "[W pthreadpool-cpp.cc:90] Warning: Leaking Caffe2 thread-pool after fork. (function pthreadpool)\n",
      "[W pthreadpool-cpp.cc:90] Warning: Leaking Caffe2 thread-pool after fork. (function pthreadpool)\n",
      "[W pthreadpool-cpp.cc:90] Warning: Leaking Caffe2 thread-pool after fork. (function pthreadpool)\n",
      "[W pthreadpool-cpp.cc:90] Warning: Leaking Caffe2 thread-pool after fork. (function pthreadpool)\n",
      "[W pthreadpool-cpp.cc:90] Warning: Leaking Caffe2 thread-pool after fork. (function pthreadpool)\n",
      "[W pthreadpool-cpp.cc:90] Warning: Leaking Caffe2 thread-pool after fork. (function pthreadpool)\n",
      "[W pthreadpool-cpp.cc:90] Warning: Leaking Caffe2 thread-pool after fork. (function pthreadpool)\n",
      "[W pthreadpool-cpp.cc:90] Warning: Leaking Caffe2 thread-pool after fork. (function pthreadpool)\n"
     ]
    },
    {
     "name": "stdout",
     "output_type": "stream",
     "text": [
      "44 tensor(0.0001, device='cuda:0', grad_fn=<MseLossBackward>)\n",
      "44 tensor(0.0002, device='cuda:0', grad_fn=<MseLossBackward>)\n",
      "44 tensor(0.0001, device='cuda:0', grad_fn=<MseLossBackward>)\n",
      "44 tensor(0.0002, device='cuda:0', grad_fn=<MseLossBackward>)\n",
      "44 tensor(0.0001, device='cuda:0', grad_fn=<MseLossBackward>)\n",
      "44 tensor(0.0002, device='cuda:0', grad_fn=<MseLossBackward>)\n",
      "44 tensor(0.0001, device='cuda:0', grad_fn=<MseLossBackward>)\n",
      "44 tensor(0.0002, device='cuda:0', grad_fn=<MseLossBackward>)\n",
      "44 tensor(0.0001, device='cuda:0', grad_fn=<MseLossBackward>)\n",
      "44 tensor(0.0002, device='cuda:0', grad_fn=<MseLossBackward>)\n",
      "44 tensor(0.0001, device='cuda:0', grad_fn=<MseLossBackward>)\n",
      "44 tensor(0.0001, device='cuda:0', grad_fn=<MseLossBackward>)\n",
      "44 tensor(0.0001, device='cuda:0', grad_fn=<MseLossBackward>)\n",
      "44 tensor(0.0001, device='cuda:0', grad_fn=<MseLossBackward>)\n",
      "44 tensor(0.0002, device='cuda:0', grad_fn=<MseLossBackward>)\n",
      "44 tensor(0.0001, device='cuda:0', grad_fn=<MseLossBackward>)\n",
      "44 tensor(0.0002, device='cuda:0', grad_fn=<MseLossBackward>)\n",
      "44 tensor(0.0001, device='cuda:0', grad_fn=<MseLossBackward>)\n",
      "44 tensor(0.0001, device='cuda:0', grad_fn=<MseLossBackward>)\n",
      "44 tensor(8.2805e-05, device='cuda:0', grad_fn=<MseLossBackward>)\n",
      "44 tensor(0.0004, device='cuda:0', grad_fn=<MseLossBackward>)\n"
     ]
    },
    {
     "name": "stderr",
     "output_type": "stream",
     "text": [
      "[W pthreadpool-cpp.cc:90] Warning: Leaking Caffe2 thread-pool after fork. (function pthreadpool)\n",
      "[W pthreadpool-cpp.cc:90] Warning: Leaking Caffe2 thread-pool after fork. (function pthreadpool)\n",
      "[W pthreadpool-cpp.cc:90] Warning: Leaking Caffe2 thread-pool after fork. (function pthreadpool)\n",
      "[W pthreadpool-cpp.cc:90] Warning: Leaking Caffe2 thread-pool after fork. (function pthreadpool)\n",
      "[W pthreadpool-cpp.cc:90] Warning: Leaking Caffe2 thread-pool after fork. (function pthreadpool)\n",
      "[W pthreadpool-cpp.cc:90] Warning: Leaking Caffe2 thread-pool after fork. (function pthreadpool)\n",
      "[W pthreadpool-cpp.cc:90] Warning: Leaking Caffe2 thread-pool after fork. (function pthreadpool)\n",
      "[W pthreadpool-cpp.cc:90] Warning: Leaking Caffe2 thread-pool after fork. (function pthreadpool)\n"
     ]
    },
    {
     "name": "stdout",
     "output_type": "stream",
     "text": [
      "45 tensor(0.0001, device='cuda:0', grad_fn=<MseLossBackward>)\n",
      "45 tensor(0.0001, device='cuda:0', grad_fn=<MseLossBackward>)\n",
      "45 tensor(0.0002, device='cuda:0', grad_fn=<MseLossBackward>)\n",
      "45 tensor(0.0001, device='cuda:0', grad_fn=<MseLossBackward>)\n",
      "45 tensor(0.0001, device='cuda:0', grad_fn=<MseLossBackward>)\n",
      "45 tensor(0.0002, device='cuda:0', grad_fn=<MseLossBackward>)\n",
      "45 tensor(0.0001, device='cuda:0', grad_fn=<MseLossBackward>)\n",
      "45 tensor(0.0003, device='cuda:0', grad_fn=<MseLossBackward>)\n",
      "45 tensor(0.0002, device='cuda:0', grad_fn=<MseLossBackward>)\n",
      "45 tensor(0.0002, device='cuda:0', grad_fn=<MseLossBackward>)\n",
      "45 tensor(0.0001, device='cuda:0', grad_fn=<MseLossBackward>)\n",
      "45 tensor(9.9627e-05, device='cuda:0', grad_fn=<MseLossBackward>)\n",
      "45 tensor(0.0001, device='cuda:0', grad_fn=<MseLossBackward>)\n",
      "45 tensor(0.0002, device='cuda:0', grad_fn=<MseLossBackward>)\n",
      "45 tensor(0.0002, device='cuda:0', grad_fn=<MseLossBackward>)\n",
      "45 tensor(0.0001, device='cuda:0', grad_fn=<MseLossBackward>)\n",
      "45 tensor(0.0001, device='cuda:0', grad_fn=<MseLossBackward>)\n",
      "45 tensor(0.0001, device='cuda:0', grad_fn=<MseLossBackward>)\n",
      "45 tensor(0.0001, device='cuda:0', grad_fn=<MseLossBackward>)\n",
      "45 tensor(0.0002, device='cuda:0', grad_fn=<MseLossBackward>)\n",
      "45 tensor(9.8529e-05, device='cuda:0', grad_fn=<MseLossBackward>)\n"
     ]
    },
    {
     "name": "stderr",
     "output_type": "stream",
     "text": [
      "[W pthreadpool-cpp.cc:90] Warning: Leaking Caffe2 thread-pool after fork. (function pthreadpool)\n",
      "[W pthreadpool-cpp.cc:90] Warning: Leaking Caffe2 thread-pool after fork. (function pthreadpool)\n",
      "[W pthreadpool-cpp.cc:90] Warning: Leaking Caffe2 thread-pool after fork. (function pthreadpool)\n",
      "[W pthreadpool-cpp.cc:90] Warning: Leaking Caffe2 thread-pool after fork. (function pthreadpool)\n",
      "[W pthreadpool-cpp.cc:90] Warning: Leaking Caffe2 thread-pool after fork. (function pthreadpool)\n",
      "[W pthreadpool-cpp.cc:90] Warning: Leaking Caffe2 thread-pool after fork. (function pthreadpool)\n",
      "[W pthreadpool-cpp.cc:90] Warning: Leaking Caffe2 thread-pool after fork. (function pthreadpool)\n",
      "[W pthreadpool-cpp.cc:90] Warning: Leaking Caffe2 thread-pool after fork. (function pthreadpool)\n"
     ]
    },
    {
     "name": "stdout",
     "output_type": "stream",
     "text": [
      "46 tensor(0.0001, device='cuda:0', grad_fn=<MseLossBackward>)\n",
      "46 tensor(0.0002, device='cuda:0', grad_fn=<MseLossBackward>)\n",
      "46 tensor(0.0002, device='cuda:0', grad_fn=<MseLossBackward>)\n",
      "46 tensor(0.0001, device='cuda:0', grad_fn=<MseLossBackward>)\n",
      "46 tensor(0.0002, device='cuda:0', grad_fn=<MseLossBackward>)\n",
      "46 tensor(0.0001, device='cuda:0', grad_fn=<MseLossBackward>)\n",
      "46 tensor(0.0001, device='cuda:0', grad_fn=<MseLossBackward>)\n",
      "46 tensor(0.0002, device='cuda:0', grad_fn=<MseLossBackward>)\n",
      "46 tensor(0.0001, device='cuda:0', grad_fn=<MseLossBackward>)\n",
      "46 tensor(0.0002, device='cuda:0', grad_fn=<MseLossBackward>)\n",
      "46 tensor(0.0001, device='cuda:0', grad_fn=<MseLossBackward>)\n",
      "46 tensor(0.0001, device='cuda:0', grad_fn=<MseLossBackward>)\n",
      "46 tensor(0.0001, device='cuda:0', grad_fn=<MseLossBackward>)\n",
      "46 tensor(0.0002, device='cuda:0', grad_fn=<MseLossBackward>)\n",
      "46 tensor(0.0001, device='cuda:0', grad_fn=<MseLossBackward>)\n",
      "46 tensor(0.0001, device='cuda:0', grad_fn=<MseLossBackward>)\n",
      "46 tensor(0.0002, device='cuda:0', grad_fn=<MseLossBackward>)\n",
      "46 tensor(0.0001, device='cuda:0', grad_fn=<MseLossBackward>)\n",
      "46 tensor(0.0001, device='cuda:0', grad_fn=<MseLossBackward>)\n",
      "46 tensor(0.0001, device='cuda:0', grad_fn=<MseLossBackward>)\n",
      "46 tensor(8.9936e-05, device='cuda:0', grad_fn=<MseLossBackward>)\n"
     ]
    },
    {
     "name": "stderr",
     "output_type": "stream",
     "text": [
      "[W pthreadpool-cpp.cc:90] Warning: Leaking Caffe2 thread-pool after fork. (function pthreadpool)\n",
      "[W pthreadpool-cpp.cc:90] Warning: Leaking Caffe2 thread-pool after fork. (function pthreadpool)\n",
      "[W pthreadpool-cpp.cc:90] Warning: Leaking Caffe2 thread-pool after fork. (function pthreadpool)\n",
      "[W pthreadpool-cpp.cc:90] Warning: Leaking Caffe2 thread-pool after fork. (function pthreadpool)\n",
      "[W pthreadpool-cpp.cc:90] Warning: Leaking Caffe2 thread-pool after fork. (function pthreadpool)\n",
      "[W pthreadpool-cpp.cc:90] Warning: Leaking Caffe2 thread-pool after fork. (function pthreadpool)\n",
      "[W pthreadpool-cpp.cc:90] Warning: Leaking Caffe2 thread-pool after fork. (function pthreadpool)\n",
      "[W pthreadpool-cpp.cc:90] Warning: Leaking Caffe2 thread-pool after fork. (function pthreadpool)\n",
      "[W pthreadpool-cpp.cc:90] Warning: Leaking Caffe2 thread-pool after fork. (function pthreadpool)\n"
     ]
    },
    {
     "name": "stdout",
     "output_type": "stream",
     "text": [
      "47 tensor(0.0001, device='cuda:0', grad_fn=<MseLossBackward>)\n",
      "47 tensor(0.0001, device='cuda:0', grad_fn=<MseLossBackward>)\n",
      "47 tensor(0.0001, device='cuda:0', grad_fn=<MseLossBackward>)\n",
      "47 tensor(0.0001, device='cuda:0', grad_fn=<MseLossBackward>)\n",
      "47 tensor(0.0001, device='cuda:0', grad_fn=<MseLossBackward>)\n",
      "47 tensor(0.0001, device='cuda:0', grad_fn=<MseLossBackward>)\n",
      "47 tensor(9.3387e-05, device='cuda:0', grad_fn=<MseLossBackward>)\n",
      "47 tensor(0.0002, device='cuda:0', grad_fn=<MseLossBackward>)\n",
      "47 tensor(0.0001, device='cuda:0', grad_fn=<MseLossBackward>)\n",
      "47 tensor(0.0001, device='cuda:0', grad_fn=<MseLossBackward>)\n",
      "47 tensor(0.0001, device='cuda:0', grad_fn=<MseLossBackward>)\n",
      "47 tensor(0.0001, device='cuda:0', grad_fn=<MseLossBackward>)\n",
      "47 tensor(0.0002, device='cuda:0', grad_fn=<MseLossBackward>)\n",
      "47 tensor(0.0002, device='cuda:0', grad_fn=<MseLossBackward>)\n",
      "47 tensor(0.0002, device='cuda:0', grad_fn=<MseLossBackward>)\n",
      "47 tensor(9.2766e-05, device='cuda:0', grad_fn=<MseLossBackward>)\n",
      "47 tensor(0.0001, device='cuda:0', grad_fn=<MseLossBackward>)\n",
      "47 tensor(0.0002, device='cuda:0', grad_fn=<MseLossBackward>)\n",
      "47 tensor(0.0001, device='cuda:0', grad_fn=<MseLossBackward>)\n",
      "47 tensor(0.0003, device='cuda:0', grad_fn=<MseLossBackward>)\n",
      "47 tensor(0.0001, device='cuda:0', grad_fn=<MseLossBackward>)\n"
     ]
    },
    {
     "name": "stderr",
     "output_type": "stream",
     "text": [
      "[W pthreadpool-cpp.cc:90] Warning: Leaking Caffe2 thread-pool after fork. (function pthreadpool)\n",
      "[W pthreadpool-cpp.cc:90] Warning: Leaking Caffe2 thread-pool after fork. (function pthreadpool)\n",
      "[W pthreadpool-cpp.cc:90] Warning: Leaking Caffe2 thread-pool after fork. (function pthreadpool)\n",
      "[W pthreadpool-cpp.cc:90] Warning: Leaking Caffe2 thread-pool after fork. (function pthreadpool)\n",
      "[W pthreadpool-cpp.cc:90] Warning: Leaking Caffe2 thread-pool after fork. (function pthreadpool)\n",
      "[W pthreadpool-cpp.cc:90] Warning: Leaking Caffe2 thread-pool after fork. (function pthreadpool)\n",
      "[W pthreadpool-cpp.cc:90] Warning: Leaking Caffe2 thread-pool after fork. (function pthreadpool)\n",
      "[W pthreadpool-cpp.cc:90] Warning: Leaking Caffe2 thread-pool after fork. (function pthreadpool)\n"
     ]
    },
    {
     "name": "stdout",
     "output_type": "stream",
     "text": [
      "48 tensor(0.0002, device='cuda:0', grad_fn=<MseLossBackward>)\n",
      "48 tensor(0.0001, device='cuda:0', grad_fn=<MseLossBackward>)\n",
      "48 tensor(0.0002, device='cuda:0', grad_fn=<MseLossBackward>)\n",
      "48 tensor(0.0001, device='cuda:0', grad_fn=<MseLossBackward>)\n",
      "48 tensor(0.0001, device='cuda:0', grad_fn=<MseLossBackward>)\n",
      "48 tensor(0.0001, device='cuda:0', grad_fn=<MseLossBackward>)\n",
      "48 tensor(0.0001, device='cuda:0', grad_fn=<MseLossBackward>)\n",
      "48 tensor(0.0002, device='cuda:0', grad_fn=<MseLossBackward>)\n",
      "48 tensor(0.0001, device='cuda:0', grad_fn=<MseLossBackward>)\n",
      "48 tensor(0.0002, device='cuda:0', grad_fn=<MseLossBackward>)\n",
      "48 tensor(0.0002, device='cuda:0', grad_fn=<MseLossBackward>)\n",
      "48 tensor(0.0001, device='cuda:0', grad_fn=<MseLossBackward>)\n",
      "48 tensor(0.0002, device='cuda:0', grad_fn=<MseLossBackward>)\n",
      "48 tensor(0.0002, device='cuda:0', grad_fn=<MseLossBackward>)\n",
      "48 tensor(0.0001, device='cuda:0', grad_fn=<MseLossBackward>)\n",
      "48 tensor(9.9375e-05, device='cuda:0', grad_fn=<MseLossBackward>)\n",
      "48 tensor(0.0002, device='cuda:0', grad_fn=<MseLossBackward>)\n"
     ]
    },
    {
     "name": "stderr",
     "output_type": "stream",
     "text": [
      "[W pthreadpool-cpp.cc:90] Warning: Leaking Caffe2 thread-pool after fork. (function pthreadpool)\n"
     ]
    },
    {
     "name": "stdout",
     "output_type": "stream",
     "text": [
      "48 tensor(0.0001, device='cuda:0', grad_fn=<MseLossBackward>)\n",
      "48 tensor(0.0001, device='cuda:0', grad_fn=<MseLossBackward>)\n",
      "48 tensor(0.0001, device='cuda:0', grad_fn=<MseLossBackward>)\n",
      "48 tensor(0.0001, device='cuda:0', grad_fn=<MseLossBackward>)\n"
     ]
    },
    {
     "name": "stderr",
     "output_type": "stream",
     "text": [
      "[W pthreadpool-cpp.cc:90] Warning: Leaking Caffe2 thread-pool after fork. (function pthreadpool)\n",
      "[W pthreadpool-cpp.cc:90] Warning: Leaking Caffe2 thread-pool after fork. (function pthreadpool)\n",
      "[W pthreadpool-cpp.cc:90] Warning: Leaking Caffe2 thread-pool after fork. (function pthreadpool)\n",
      "[W pthreadpool-cpp.cc:90] Warning: Leaking Caffe2 thread-pool after fork. (function pthreadpool)\n",
      "[W pthreadpool-cpp.cc:90] Warning: Leaking Caffe2 thread-pool after fork. (function pthreadpool)\n",
      "[W pthreadpool-cpp.cc:90] Warning: Leaking Caffe2 thread-pool after fork. (function pthreadpool)\n",
      "[W pthreadpool-cpp.cc:90] Warning: Leaking Caffe2 thread-pool after fork. (function pthreadpool)\n",
      "[W pthreadpool-cpp.cc:90] Warning: Leaking Caffe2 thread-pool after fork. (function pthreadpool)\n"
     ]
    },
    {
     "name": "stdout",
     "output_type": "stream",
     "text": [
      "49 tensor(0.0002, device='cuda:0', grad_fn=<MseLossBackward>)\n",
      "49 tensor(0.0001, device='cuda:0', grad_fn=<MseLossBackward>)\n",
      "49 tensor(0.0001, device='cuda:0', grad_fn=<MseLossBackward>)\n",
      "49 tensor(0.0002, device='cuda:0', grad_fn=<MseLossBackward>)\n",
      "49 tensor(0.0001, device='cuda:0', grad_fn=<MseLossBackward>)\n",
      "49 tensor(0.0002, device='cuda:0', grad_fn=<MseLossBackward>)\n",
      "49 tensor(0.0001, device='cuda:0', grad_fn=<MseLossBackward>)\n",
      "49 tensor(9.8893e-05, device='cuda:0', grad_fn=<MseLossBackward>)\n",
      "49 tensor(0.0001, device='cuda:0', grad_fn=<MseLossBackward>)\n",
      "49 tensor(0.0001, device='cuda:0', grad_fn=<MseLossBackward>)\n",
      "49 tensor(0.0001, device='cuda:0', grad_fn=<MseLossBackward>)\n",
      "49 tensor(0.0001, device='cuda:0', grad_fn=<MseLossBackward>)\n",
      "49 tensor(0.0002, device='cuda:0', grad_fn=<MseLossBackward>)\n",
      "49 tensor(0.0002, device='cuda:0', grad_fn=<MseLossBackward>)\n",
      "49 tensor(0.0001, device='cuda:0', grad_fn=<MseLossBackward>)\n",
      "49 tensor(0.0001, device='cuda:0', grad_fn=<MseLossBackward>)\n",
      "49 tensor(0.0002, device='cuda:0', grad_fn=<MseLossBackward>)\n",
      "49 tensor(0.0002, device='cuda:0', grad_fn=<MseLossBackward>)\n",
      "49 tensor(0.0001, device='cuda:0', grad_fn=<MseLossBackward>)\n",
      "49 tensor(0.0002, device='cuda:0', grad_fn=<MseLossBackward>)\n",
      "49 tensor(0.0001, device='cuda:0', grad_fn=<MseLossBackward>)\n"
     ]
    },
    {
     "name": "stderr",
     "output_type": "stream",
     "text": [
      "[W pthreadpool-cpp.cc:90] Warning: Leaking Caffe2 thread-pool after fork. (function pthreadpool)\n",
      "[W pthreadpool-cpp.cc:90] Warning: Leaking Caffe2 thread-pool after fork. (function pthreadpool)\n",
      "[W pthreadpool-cpp.cc:90] Warning: Leaking Caffe2 thread-pool after fork. (function pthreadpool)\n",
      "[W pthreadpool-cpp.cc:90] Warning: Leaking Caffe2 thread-pool after fork. (function pthreadpool)\n"
     ]
    },
    {
     "data": {
      "image/png": "[encoded data removed]",
      "text/plain": [
       "<Figure size 432x288 with 1 Axes>"
      ]
     },
     "metadata": {
      "needs_background": "light"
     },
     "output_type": "display_data"
    }
   ],
   "source": [
    "main()"
   ]
  },
  {
   "cell_type": "code",
   "execution_count": null,
   "id": "94de917a",
   "metadata": {},
   "outputs": [],
   "source": []
  },
  {
   "cell_type": "code",
   "execution_count": null,
   "id": "df1fa587",
   "metadata": {},
   "outputs": [],
   "source": []
  },
  {
   "cell_type": "code",
   "execution_count": null,
   "id": "7eaf7c52",
   "metadata": {},
   "outputs": [],
   "source": []
  },
  {
   "cell_type": "code",
   "execution_count": null,
   "id": "ac89918a",
   "metadata": {},
   "outputs": [],
   "source": []
  }
 ],
 "metadata": {
  "kernelspec": {
   "display_name": "igibson",
   "language": "python",
   "name": "igibson"
  },
  "language_info": {
   "codemirror_mode": {
    "name": "ipython",
    "version": 3
   },
   "file_extension": ".py",
   "mimetype": "text/x-python",
   "name": "python",
   "nbconvert_exporter": "python",
   "pygments_lexer": "ipython3",
   "version": "3.8.11"
  }
 },
 "nbformat": 4,
 "nbformat_minor": 5
}
